{
 "cells": [
  {
   "cell_type": "code",
   "execution_count": 667,
   "metadata": {},
   "outputs": [
    {
     "data": {
      "text/html": [
       "0.15930918764035"
      ],
      "text/latex": [
       "0.15930918764035"
      ],
      "text/markdown": [
       "0.15930918764035"
      ],
      "text/plain": [
       "[1] 0.1593092"
      ]
     },
     "metadata": {},
     "output_type": "display_data"
    },
    {
     "data": {
      "text/html": [
       "0.999784306173905"
      ],
      "text/latex": [
       "0.999784306173905"
      ],
      "text/markdown": [
       "0.999784306173905"
      ],
      "text/plain": [
       "[1] 0.9997843"
      ]
     },
     "metadata": {},
     "output_type": "display_data"
    },
    {
     "data": {
      "text/html": [
       "0.978406359120145"
      ],
      "text/latex": [
       "0.978406359120145"
      ],
      "text/markdown": [
       "0.978406359120145"
      ],
      "text/plain": [
       "[1] 0.9784064"
      ]
     },
     "metadata": {},
     "output_type": "display_data"
    }
   ],
   "source": [
    "################################\n",
    "# P(exactly 8)\n",
    "# P(x = 8)\n",
    "# dbinom(a,size=n,prob=p)\n",
    "dbinom(8, size=30, prob=.25)\n",
    "# P(less than 17)\n",
    "# P(x=0,1,2,...,16)\n",
    "# P(x <= 16\n",
    "# pbinom(a,size=n,prob=p)\n",
    "pbinom(16,size=30,prob=.25)\n",
    "# P(at most 12)\n",
    "# P(x=0,1,2,...,12)\n",
    "# P(x <= 12)\n",
    "# pbinom(a,size=n,prob=p)\n",
    "pbinom(12,size=30,prob=.25)\n"
   ]
  },
  {
   "cell_type": "code",
   "execution_count": 668,
   "metadata": {
    "scrolled": true
   },
   "outputs": [
    {
     "data": {
      "text/html": [
       "2.81832537640803e-07"
      ],
      "text/latex": [
       "2.81832537640803e-07"
      ],
      "text/markdown": [
       "2.81832537640803e-07"
      ],
      "text/plain": [
       "[1] 2.818325e-07"
      ]
     },
     "metadata": {},
     "output_type": "display_data"
    },
    {
     "data": {
      "text/html": [
       "3.20596882374957e-11"
      ],
      "text/latex": [
       "3.20596882374957e-11"
      ],
      "text/markdown": [
       "3.20596882374957e-11"
      ],
      "text/plain": [
       "[1] 3.205969e-11"
      ]
     },
     "metadata": {},
     "output_type": "display_data"
    }
   ],
   "source": [
    "################################\n",
    "# P(more than 20)\n",
    "# P(x = 21, 22, 23, 24, 25, 26, 27, 28, 29, 30)\n",
    "# 1 - P(x=0,...,20)\n",
    "# P(x >= 21)\n",
    "# 1-pbinom(a-1,size=n,prob=p)\n",
    "1-pbinom(21-1,size=30,prob=.25)\n",
    "# P(at least 25)\n",
    "# P(x=25,26,27,28,29,30)\n",
    "# P(x >= 25)\n",
    "# 1-pbinom(a-1,size=n,prob=p)\n",
    "1-pbinom(25-1,size=30,prob=.25)"
   ]
  },
  {
   "cell_type": "code",
   "execution_count": 669,
   "metadata": {},
   "outputs": [
    {
     "data": {
      "text/html": [
       "0.196593081217951"
      ],
      "text/latex": [
       "0.196593081217951"
      ],
      "text/markdown": [
       "0.196593081217951"
      ],
      "text/plain": [
       "[1] 0.1965931"
      ]
     },
     "metadata": {},
     "output_type": "display_data"
    }
   ],
   "source": [
    "################################\n",
    "# P(between 10 and 20 inclusive)\n",
    "# P(x=10,11,..,20)\n",
    "# P(10 <= x <= 20)\n",
    "# pbinom(b,size=n,prob=p)-pbinom(a-1,size=n,prob=p)\n",
    "pbinom(20,size=30,prob=.25)-pbinom(10-1,size=30,prob=.25)"
   ]
  },
  {
   "cell_type": "code",
   "execution_count": 670,
   "metadata": {},
   "outputs": [
    {
     "data": {
      "text/html": [
       "470.016075216343"
      ],
      "text/latex": [
       "470.016075216343"
      ],
      "text/markdown": [
       "470.016075216343"
      ],
      "text/plain": [
       "[1] 470.0161"
      ]
     },
     "metadata": {},
     "output_type": "display_data"
    }
   ],
   "source": [
    "################################\n",
    "E = .05\n",
    "clevel = .99\n",
    "atl = clevel + (1 - clevel)/2\n",
    "z = qnorm(atl)\n",
    "# part a\n",
    "phat = .23\n",
    "n = phat * (1 - phat) * (z/E)^2\n",
    "n"
   ]
  },
  {
   "cell_type": "code",
   "execution_count": 671,
   "metadata": {},
   "outputs": [
    {
     "data": {
      "text/html": [
       "663.489660102121"
      ],
      "text/latex": [
       "663.489660102121"
      ],
      "text/markdown": [
       "663.489660102121"
      ],
      "text/plain": [
       "[1] 663.4897"
      ]
     },
     "metadata": {},
     "output_type": "display_data"
    },
    {
     "data": {
      "text/html": [
       "162.301635174327"
      ],
      "text/latex": [
       "162.301635174327"
      ],
      "text/markdown": [
       "162.301635174327"
      ],
      "text/plain": [
       "[1] 162.3016"
      ]
     },
     "metadata": {},
     "output_type": "display_data"
    }
   ],
   "source": [
    "# part b\n",
    "n = 0.25 * (z/E)^2\n",
    "n\n",
    "E = .2\n",
    "sigma = 1.3\n",
    "clevel = .95\n",
    "atl = clevel + (1 - clevel)/2\n",
    "z = qnorm(atl)\n",
    "n = (z * sigma/E)^2\n",
    "n"
   ]
  },
  {
   "cell_type": "code",
   "execution_count": 672,
   "metadata": {},
   "outputs": [
    {
     "data": {
      "text/html": [
       "0.0376614902726703"
      ],
      "text/latex": [
       "0.0376614902726703"
      ],
      "text/markdown": [
       "0.0376614902726703"
      ],
      "text/plain": [
       "[1] 0.03766149"
      ]
     },
     "metadata": {},
     "output_type": "display_data"
    },
    {
     "data": {
      "text/html": [
       "0.105928253317073"
      ],
      "text/latex": [
       "0.105928253317073"
      ],
      "text/markdown": [
       "0.105928253317073"
      ],
      "text/plain": [
       "[1] 0.1059283"
      ]
     },
     "metadata": {},
     "output_type": "display_data"
    }
   ],
   "source": [
    "################################\n",
    "x1 = 200\n",
    "n1 = 1000\n",
    "x2 = 100\n",
    "n2 = 780\n",
    "clevel = .95\n",
    "atl = clevel + (1 - clevel)/2\n",
    "z = qnorm(atl)\n",
    "phat1 = x1/n1\n",
    "phat2 = x2/n2\n",
    "lb = (phat1 - phat2) - z * sqrt(phat1 * (1 - phat1)/n1 + phat2 *\n",
    "                                  (1 - phat2)/n2)\n",
    "ub = (phat1 - phat2) + z * sqrt(phat1 * (1 - phat1)/n1 + phat2\n",
    "                                * (1 - phat2)/n2)\n",
    "lb\n",
    "ub"
   ]
  },
  {
   "cell_type": "code",
   "execution_count": 673,
   "metadata": {},
   "outputs": [
    {
     "data": {
      "text/html": [
       "19.3768151264932"
      ],
      "text/latex": [
       "19.3768151264932"
      ],
      "text/markdown": [
       "19.3768151264932"
      ],
      "text/plain": [
       "[1] 19.37682"
      ]
     },
     "metadata": {},
     "output_type": "display_data"
    },
    {
     "data": {
      "text/html": [
       "21.0231848735068"
      ],
      "text/latex": [
       "21.0231848735068"
      ],
      "text/markdown": [
       "21.0231848735068"
      ],
      "text/plain": [
       "[1] 21.02318"
      ]
     },
     "metadata": {},
     "output_type": "display_data"
    }
   ],
   "source": [
    "################################\n",
    "n = 25\n",
    "xbar = 20.2\n",
    "sigma = 2.1\n",
    "clevel = .95\n",
    "atl = clevel + (1 - clevel)/2\n",
    "z = qnorm(atl)\n",
    "lb = xbar - z * sigma/sqrt(n)\n",
    "ub = xbar + z * sigma/sqrt(n)\n",
    "lb\n",
    "ub"
   ]
  },
  {
   "cell_type": "code",
   "execution_count": 674,
   "metadata": {},
   "outputs": [
    {
     "data": {
      "text/html": [
       "19.3331626041162"
      ],
      "text/latex": [
       "19.3331626041162"
      ],
      "text/markdown": [
       "19.3331626041162"
      ],
      "text/plain": [
       "[1] 19.33316"
      ]
     },
     "metadata": {},
     "output_type": "display_data"
    },
    {
     "data": {
      "text/html": [
       "21.0668373958838"
      ],
      "text/latex": [
       "21.0668373958838"
      ],
      "text/markdown": [
       "21.0668373958838"
      ],
      "text/plain": [
       "[1] 21.06684"
      ]
     },
     "metadata": {},
     "output_type": "display_data"
    }
   ],
   "source": [
    "################################\n",
    "n = 25\n",
    "xbar = 20.2\n",
    "s = 2.1\n",
    "clevel = .95\n",
    "atl = clevel + (1 - clevel)/2\n",
    "t = qt(atl,df=n-1)\n",
    "lb = xbar - t * s/sqrt(n)\n",
    "ub = xbar + t * s/sqrt(n)\n",
    "lb\n",
    "ub"
   ]
  },
  {
   "cell_type": "code",
   "execution_count": 675,
   "metadata": {},
   "outputs": [
    {
     "data": {
      "text/html": [
       "0.189988604045559"
      ],
      "text/latex": [
       "0.189988604045559"
      ],
      "text/markdown": [
       "0.189988604045559"
      ],
      "text/plain": [
       "[1] 0.1899886"
      ]
     },
     "metadata": {},
     "output_type": "display_data"
    },
    {
     "data": {
      "text/html": [
       "0.310011395954441"
      ],
      "text/latex": [
       "0.310011395954441"
      ],
      "text/markdown": [
       "0.310011395954441"
      ],
      "text/plain": [
       "[1] 0.3100114"
      ]
     },
     "metadata": {},
     "output_type": "display_data"
    }
   ],
   "source": [
    "################################\n",
    "x = 50\n",
    "n = 200\n",
    "clevel = .95\n",
    "atl = clevel + (1 - clevel)/2\n",
    "z = qnorm(atl)\n",
    "phat = x/n\n",
    "lb = phat - z * sqrt(phat * (1-phat)/n)\n",
    "ub = phat + z * sqrt(phat * (1-phat)/n)\n",
    "lb\n",
    "ub"
   ]
  },
  {
   "cell_type": "code",
   "execution_count": 676,
   "metadata": {},
   "outputs": [
    {
     "data": {
      "text/html": [
       "1.87596898789809"
      ],
      "text/latex": [
       "1.87596898789809"
      ],
      "text/markdown": [
       "1.87596898789809"
      ],
      "text/plain": [
       "[1] 1.875969"
      ]
     },
     "metadata": {},
     "output_type": "display_data"
    },
    {
     "data": {
      "text/html": [
       "3.74785997538552"
      ],
      "text/latex": [
       "3.74785997538552"
      ],
      "text/markdown": [
       "3.74785997538552"
      ],
      "text/plain": [
       "[1] 3.74786"
      ]
     },
     "metadata": {},
     "output_type": "display_data"
    }
   ],
   "source": [
    "################################\n",
    "n = 18\n",
    "s = 2.5\n",
    "clevel = .95\n",
    "atl = (1 - clevel)/2\n",
    "XL = qchisq(atl,df=n-1)\n",
    "atl = clevel + (1 - clevel)/2\n",
    "XR = qchisq(atl,df=n-1)\n",
    "lb = sqrt( (n-1) * s^2/XR)\n",
    "ub = sqrt( (n-1) * s^2/XL)\n",
    "lb\n",
    "ub"
   ]
  },
  {
   "cell_type": "code",
   "execution_count": 677,
   "metadata": {},
   "outputs": [
    {
     "data": {
      "text/html": [
       "56.9625464243958"
      ],
      "text/latex": [
       "56.9625464243958"
      ],
      "text/markdown": [
       "56.9625464243958"
      ],
      "text/plain": [
       "[1] 56.96255"
      ]
     },
     "metadata": {},
     "output_type": "display_data"
    },
    {
     "data": {
      "text/html": [
       "225.51201942914"
      ],
      "text/latex": [
       "225.51201942914"
      ],
      "text/markdown": [
       "225.51201942914"
      ],
      "text/plain": [
       "[1] 225.512"
      ]
     },
     "metadata": {},
     "output_type": "display_data"
    }
   ],
   "source": [
    "################################\n",
    "n = 25\n",
    "s = 10.1\n",
    "clevel = .98\n",
    "atl = (1 - clevel)/2\n",
    "XL = qchisq(atl,df=n-1)\n",
    "atl = clevel + (1 - clevel)/2\n",
    "XR = qchisq(atl,df=n-1)\n",
    "lb = (n-1) * s^2/XR\n",
    "ub = (n-1) * s^2/XL\n",
    "lb\n",
    "ub"
   ]
  },
  {
   "cell_type": "code",
   "execution_count": 678,
   "metadata": {},
   "outputs": [
    {
     "data": {
      "text/html": [
       "0.242080862029108"
      ],
      "text/latex": [
       "0.242080862029108"
      ],
      "text/markdown": [
       "0.242080862029108"
      ],
      "text/plain": [
       "[1] 0.2420809"
      ]
     },
     "metadata": {},
     "output_type": "display_data"
    },
    {
     "data": {
      "text/html": [
       "1.61749612381827"
      ],
      "text/latex": [
       "1.61749612381827"
      ],
      "text/markdown": [
       "1.61749612381827"
      ],
      "text/plain": [
       "[1] 1.617496"
      ]
     },
     "metadata": {},
     "output_type": "display_data"
    }
   ],
   "source": [
    "################################\n",
    "var1 = 20\n",
    "n1 = 21\n",
    "var2 = 31\n",
    "n2 = 16\n",
    "clevel = .95\n",
    "atl = (1 - clevel)/2\n",
    "FL = qf(atl,n1,n2)\n",
    "atl = clevel + (1 - clevel)/2\n",
    "FR = qf(atl,n1,n2)\n",
    "lb = (var1/var2) * (1/FR)\n",
    "ub = (var1/var2) * (1/FL)\n",
    "lb\n",
    "ub"
   ]
  },
  {
   "cell_type": "code",
   "execution_count": 679,
   "metadata": {},
   "outputs": [
    {
     "data": {
      "text/html": [
       "1.65"
      ],
      "text/latex": [
       "1.65"
      ],
      "text/markdown": [
       "1.65"
      ],
      "text/plain": [
       "[1] 1.65"
      ]
     },
     "metadata": {},
     "output_type": "display_data"
    }
   ],
   "source": [
    "################################\n",
    "x <- c(0,1,2,3,4)\n",
    "prob <-\n",
    "  c(0.20,0.30,0.25,0.15,0.10)\n",
    "expected_value = sum(x *\n",
    "                       prob)\n",
    "expected_value"
   ]
  },
  {
   "cell_type": "code",
   "execution_count": 680,
   "metadata": {},
   "outputs": [
    {
     "data": {
      "text/html": [
       "1.23592070943083"
      ],
      "text/latex": [
       "1.23592070943083"
      ],
      "text/markdown": [
       "1.23592070943083"
      ],
      "text/plain": [
       "[1] 1.235921"
      ]
     },
     "metadata": {},
     "output_type": "display_data"
    },
    {
     "data": {
      "text/html": [
       "1.5275"
      ],
      "text/latex": [
       "1.5275"
      ],
      "text/markdown": [
       "1.5275"
      ],
      "text/plain": [
       "[1] 1.5275"
      ]
     },
     "metadata": {},
     "output_type": "display_data"
    }
   ],
   "source": [
    "################################\n",
    "x <- c(0,1,2,3,4)\n",
    "prob <- c(0.20,0.30,0.25,0.15,0.10)\n",
    "mu = sum(x * prob)\n",
    "variance = sum((x-mu)^2*prob)\n",
    "sigma = sqrt(variance)\n",
    "sigma\n",
    "variance"
   ]
  },
  {
   "cell_type": "code",
   "execution_count": 681,
   "metadata": {},
   "outputs": [
    {
     "data": {
      "text/html": [
       "4"
      ],
      "text/latex": [
       "4"
      ],
      "text/markdown": [
       "4"
      ],
      "text/plain": [
       "[1] 4"
      ]
     },
     "metadata": {},
     "output_type": "display_data"
    },
    {
     "data": {
      "text/html": [
       "<strong>25%:</strong> 24"
      ],
      "text/latex": [
       "\\textbf{25\\textbackslash{}\\%:} 24"
      ],
      "text/markdown": [
       "**25%:** 24"
      ],
      "text/plain": [
       "25% \n",
       " 24 "
      ]
     },
     "metadata": {},
     "output_type": "display_data"
    },
    {
     "data": {
      "text/html": [
       "<strong>50%:</strong> 45.5"
      ],
      "text/latex": [
       "\\textbf{50\\textbackslash{}\\%:} 45.5"
      ],
      "text/markdown": [
       "**50%:** 45.5"
      ],
      "text/plain": [
       " 50% \n",
       "45.5 "
      ]
     },
     "metadata": {},
     "output_type": "display_data"
    },
    {
     "data": {
      "text/html": [
       "<strong>75%:</strong> 64"
      ],
      "text/latex": [
       "\\textbf{75\\textbackslash{}\\%:} 64"
      ],
      "text/markdown": [
       "**75%:** 64"
      ],
      "text/plain": [
       "75% \n",
       " 64 "
      ]
     },
     "metadata": {},
     "output_type": "display_data"
    },
    {
     "data": {
      "text/html": [
       "102"
      ],
      "text/latex": [
       "102"
      ],
      "text/markdown": [
       "102"
      ],
      "text/plain": [
       "[1] 102"
      ]
     },
     "metadata": {},
     "output_type": "display_data"
    }
   ],
   "source": [
    "################################\n",
    "x <- c(4,13,21,23,27,35,41,50,59,61,65,73,81,102)\n",
    "min(x)\n",
    "quantile(x,0.25)\n",
    "quantile(x,0.50)\n",
    "quantile(x,0.75)\n",
    "max(x)"
   ]
  },
  {
   "cell_type": "code",
   "execution_count": 682,
   "metadata": {},
   "outputs": [
    {
     "data": {
      "image/png": "[encoded data removed]",
      "text/plain": [
       "plot without title"
      ]
     },
     "metadata": {},
     "output_type": "display_data"
    }
   ],
   "source": [
    "################################\n",
    "x <- c(4,13,21,23,27,35,41,50,59,61,65,73,81,102)\n",
    "boxplot(x)"
   ]
  },
  {
   "cell_type": "code",
   "execution_count": 683,
   "metadata": {},
   "outputs": [
    {
     "data": {
      "image/png": "[encoded data removed]",
      "text/plain": [
       "plot without title"
      ]
     },
     "metadata": {},
     "output_type": "display_data"
    }
   ],
   "source": [
    "################################\n",
    "x <- c(4,13,21,23,27,35,41,50,59,61,65,73,81,102)\n",
    "boxplot(x,horizontal=TRUE,outline=FALSE)"
   ]
  },
  {
   "cell_type": "code",
   "execution_count": 684,
   "metadata": {},
   "outputs": [
    {
     "data": {
      "text/plain": [
       "Holt-Winters exponential smoothing with trend and without seasonal component.\n",
       "\n",
       "Call:\n",
       "HoltWinters(x = bmw2, gamma = FALSE)\n",
       "\n",
       "Smoothing parameters:\n",
       " alpha: 0.9705391\n",
       " beta : 0.09581481\n",
       " gamma: FALSE\n",
       "\n",
       "Coefficients:\n",
       "         [,1]\n",
       "a 4.571180897\n",
       "b 0.008494273"
      ]
     },
     "metadata": {},
     "output_type": "display_data"
    }
   ],
   "source": [
    "################################\n",
    "bmw<-c(2.556606964, 2.67855273, 2.896409052, 2.783157674, 2.891704203,\n",
    "       2.860542363, 3.010177438, 3.006078566, 3.065817881, 3.04599754,\n",
    "       2.946331923, 2.959845995, 3.026358467, 3.04652044, 2.950368732,\n",
    "       3.029070333, 3.110533089, 3.085024381, 3.119939077, 2.978535249,\n",
    "       2.75219467,  2.915389521, 2.988153628, 3.086303972, 3.176594433,\n",
    "       3.225732266, 3.294465556, 3.243529412, 3.304870018, 3.193147676, 3.129738553,\n",
    "       3.127374383, 2.92905814, 3.068145954, 3.005435049, 2.843629495, 2.770085592,\n",
    "       2.777451878, 2.759566804, 2.920092359, 2.92111648, 3.049652116, 3.082093439,\n",
    "       3.116267075, 3.020815054, 3.067773826, 3.144712467, 3.145272341, 3.101892469,\n",
    "       3.110666812, 3.072415498, 3.155850824, 3.14246983, 3.183704502, 3.198713933,\n",
    "       3.113070766, 3.089495803, 3.090996998, 3.048798994, 3.092541329, 3.0610049,\n",
    "       3.104945359, 3.18507082, 3.115690719, 3.207693535, 3.277106996, 3.30402547,\n",
    "       3.241771702, 3.311746668, 3.23569361, 3.26617917, 3.258903904, 3.263772706,\n",
    "       3.378303983, 3.497567605, 3.44470377, 3.389057322, 3.361797986, 3.395749234,\n",
    "       3.396519792, 3.440065469, 3.503362798, 3.426215145, 3.469665671, 3.574197854,\n",
    "       3.510470234, 3.516369605, 3.54208912, 3.649670741, 3.613670877, 3.567191931,\n",
    "       3.540669427, 3.554004302, 3.575878715, 3.472742549, 3.488230981, 3.347761443,\n",
    "       3.330774917, 3.297317251, 3.365535661, 3.471003256, 3.25091698, 3.224380646,\n",
    "       3.163785859, 3.138099515, 2.833036858, 2.810907587, 2.904712875, 2.755251803,\n",
    "       2.814689898, 2.913002626, 3.099236067, 3.078325572, 3.13366646, 3.322839365,\n",
    "       3.302444616, 3.338754441, 3.349166974, 3.291345313, 3.303216973, 3.276465257,\n",
    "       3.237776084, 3.375400827, 3.45817615, 3.488017074, 3.541857471, 3.572457991,\n",
    "       3.581015808, 3.791774433, 3.79312685, 3.910581968, 3.926340026, 3.878135247,\n",
    "       3.925156384, 3.924643037, 4.005057871, 3.99085267, 4.103485985, 4.118061089,\n",
    "       3.903708536, 3.783462097, 3.950685871, 3.897132693, 3.81874476, 4.052497737,\n",
    "       4.112446398, 4.083216204, 4.146161886, 4.01983651, 3.949145365, 4.014417126,\n",
    "       3.961879268, 3.948779146, 4.0255481, 4.129615176, 4.196810894, 4.213400861,\n",
    "       4.165765594, 4.11662777, 4.156520921, 4.241873366, 4.149384994, 4.240520672,\n",
    "       4.208773832, 4.317394776, 4.367344376, 4.379586159, 4.387250467, 4.334240341,\n",
    "       4.375203409, 4.459658747, 4.443815285, 4.494730125, 4.500465011, 4.464412748,\n",
    "       4.456101571, 4.414856779, 4.418370618, 4.493210164, 4.469212996, 4.610565605,\n",
    "       4.699352457, 4.72942998, 4.636349034, 4.6121458, 4.586802529, 4.514150788, 4.409398581,\n",
    "       4.372228792, 4.536462988, 4.572233686) #logarithm of BMW stock price\n",
    "bmw2<-ts(bmw) #indicate that bmw is a time series variable\n",
    "hw<-HoltWinters(bmw2, gamma=FALSE) #implement Holt Winters method\n",
    "hw #obtain the estimated coefficients"
   ]
  },
  {
   "cell_type": "code",
   "execution_count": 685,
   "metadata": {},
   "outputs": [
    {
     "data": {
      "text/html": [
       "<ol class=list-inline>\n",
       "\t<li>-1</li>\n",
       "\t<li>-2</li>\n",
       "\t<li>-1</li>\n",
       "\t<li>-2</li>\n",
       "\t<li>-1</li>\n",
       "\t<li>-2</li>\n",
       "\t<li>-3</li>\n",
       "\t<li>-4</li>\n",
       "\t<li>-3</li>\n",
       "\t<li>-2</li>\n",
       "\t<li>-1</li>\n",
       "\t<li>0</li>\n",
       "\t<li>-1</li>\n",
       "\t<li>0</li>\n",
       "\t<li>-1</li>\n",
       "\t<li>-2</li>\n",
       "\t<li>-1</li>\n",
       "\t<li>0</li>\n",
       "\t<li>1</li>\n",
       "\t<li>0</li>\n",
       "\t<li>-1</li>\n",
       "\t<li>-2</li>\n",
       "\t<li>-1</li>\n",
       "\t<li>0</li>\n",
       "\t<li>-1</li>\n",
       "\t<li>0</li>\n",
       "\t<li>-1</li>\n",
       "\t<li>-2</li>\n",
       "\t<li>-1</li>\n",
       "\t<li>-2</li>\n",
       "\t<li>-3</li>\n",
       "\t<li>-2</li>\n",
       "\t<li>-3</li>\n",
       "\t<li>-2</li>\n",
       "\t<li>-1</li>\n",
       "\t<li>-2</li>\n",
       "\t<li>-1</li>\n",
       "\t<li>-2</li>\n",
       "\t<li>-3</li>\n",
       "\t<li>-4</li>\n",
       "\t<li>-5</li>\n",
       "\t<li>-6</li>\n",
       "\t<li>-7</li>\n",
       "\t<li>-6</li>\n",
       "\t<li>-7</li>\n",
       "\t<li>-8</li>\n",
       "\t<li>-7</li>\n",
       "\t<li>-8</li>\n",
       "\t<li>-7</li>\n",
       "\t<li>-6</li>\n",
       "\t<li>-7</li>\n",
       "\t<li>-6</li>\n",
       "\t<li>-5</li>\n",
       "\t<li>-6</li>\n",
       "\t<li>-5</li>\n",
       "\t<li>-6</li>\n",
       "\t<li>-7</li>\n",
       "\t<li>-6</li>\n",
       "\t<li>-7</li>\n",
       "\t<li>-6</li>\n",
       "\t<li>-7</li>\n",
       "\t<li>-6</li>\n",
       "\t<li>-5</li>\n",
       "\t<li>-6</li>\n",
       "\t<li>-5</li>\n",
       "\t<li>-4</li>\n",
       "\t<li>-3</li>\n",
       "\t<li>-4</li>\n",
       "\t<li>-3</li>\n",
       "\t<li>-4</li>\n",
       "\t<li>-5</li>\n",
       "\t<li>-4</li>\n",
       "\t<li>-3</li>\n",
       "\t<li>-2</li>\n",
       "\t<li>-1</li>\n",
       "\t<li>-2</li>\n",
       "\t<li>-3</li>\n",
       "\t<li>-4</li>\n",
       "\t<li>-3</li>\n",
       "\t<li>-2</li>\n",
       "\t<li>-1</li>\n",
       "\t<li>-2</li>\n",
       "\t<li>-3</li>\n",
       "\t<li>-2</li>\n",
       "\t<li>-3</li>\n",
       "\t<li>-4</li>\n",
       "\t<li>-3</li>\n",
       "\t<li>-4</li>\n",
       "\t<li>-5</li>\n",
       "\t<li>-4</li>\n",
       "\t<li>-3</li>\n",
       "\t<li>-4</li>\n",
       "\t<li>-5</li>\n",
       "\t<li>-6</li>\n",
       "\t<li>-7</li>\n",
       "\t<li>-6</li>\n",
       "\t<li>-5</li>\n",
       "\t<li>-6</li>\n",
       "\t<li>-7</li>\n",
       "\t<li>-8</li>\n",
       "\t<li>-7</li>\n",
       "\t<li>-6</li>\n",
       "\t<li>-5</li>\n",
       "\t<li>-4</li>\n",
       "\t<li>-3</li>\n",
       "\t<li>-4</li>\n",
       "\t<li>-5</li>\n",
       "\t<li>-4</li>\n",
       "\t<li>-5</li>\n",
       "\t<li>-4</li>\n",
       "\t<li>-3</li>\n",
       "\t<li>-2</li>\n",
       "\t<li>-3</li>\n",
       "\t<li>-4</li>\n",
       "\t<li>-5</li>\n",
       "\t<li>-4</li>\n",
       "\t<li>-3</li>\n",
       "\t<li>-4</li>\n",
       "\t<li>-3</li>\n",
       "\t<li>-2</li>\n",
       "\t<li>-1</li>\n",
       "\t<li>-2</li>\n",
       "\t<li>-3</li>\n",
       "\t<li>-4</li>\n",
       "\t<li>-5</li>\n",
       "\t<li>-6</li>\n",
       "\t<li>-5</li>\n",
       "\t<li>-4</li>\n",
       "\t<li>-5</li>\n",
       "\t<li>-6</li>\n",
       "\t<li>-5</li>\n",
       "\t<li>-4</li>\n",
       "\t<li>-5</li>\n",
       "\t<li>-4</li>\n",
       "\t<li>-5</li>\n",
       "\t<li>-4</li>\n",
       "\t<li>-5</li>\n",
       "\t<li>-4</li>\n",
       "\t<li>-5</li>\n",
       "\t<li>-4</li>\n",
       "\t<li>-3</li>\n",
       "\t<li>-2</li>\n",
       "\t<li>-1</li>\n",
       "\t<li>0</li>\n",
       "\t<li>-1</li>\n",
       "\t<li>0</li>\n",
       "\t<li>-1</li>\n",
       "\t<li>-2</li>\n",
       "\t<li>-3</li>\n",
       "\t<li>-2</li>\n",
       "\t<li>-3</li>\n",
       "\t<li>-4</li>\n",
       "\t<li>-5</li>\n",
       "\t<li>-6</li>\n",
       "\t<li>-5</li>\n",
       "\t<li>-6</li>\n",
       "\t<li>-7</li>\n",
       "\t<li>-8</li>\n",
       "\t<li>-9</li>\n",
       "\t<li>-8</li>\n",
       "\t<li>-9</li>\n",
       "\t<li>-10</li>\n",
       "\t<li>-11</li>\n",
       "\t<li>-10</li>\n",
       "\t<li>-9</li>\n",
       "\t<li>-8</li>\n",
       "\t<li>-9</li>\n",
       "\t<li>-10</li>\n",
       "\t<li>-11</li>\n",
       "\t<li>-10</li>\n",
       "\t<li>-11</li>\n",
       "\t<li>-10</li>\n",
       "\t<li>-11</li>\n",
       "\t<li>-12</li>\n",
       "\t<li>-13</li>\n",
       "\t<li>-12</li>\n",
       "\t<li>-13</li>\n",
       "\t<li>-12</li>\n",
       "\t<li>-13</li>\n",
       "\t<li>-12</li>\n",
       "\t<li>-13</li>\n",
       "\t<li>-12</li>\n",
       "\t<li>-11</li>\n",
       "\t<li>-12</li>\n",
       "\t<li>-13</li>\n",
       "\t<li>-12</li>\n",
       "\t<li>-13</li>\n",
       "\t<li>-12</li>\n",
       "\t<li>-13</li>\n",
       "\t<li>-14</li>\n",
       "\t<li>-13</li>\n",
       "\t<li>-12</li>\n",
       "\t<li>-13</li>\n",
       "\t<li>-12</li>\n",
       "\t<li>-13</li>\n",
       "\t<li>-14</li>\n",
       "\t<li>-15</li>\n",
       "\t<li>-16</li>\n",
       "\t<li>-17</li>\n",
       "\t<li>-18</li>\n",
       "\t<li>-19</li>\n",
       "\t<li>-20</li>\n",
       "\t<li>-21</li>\n",
       "\t<li>-22</li>\n",
       "\t<li>-21</li>\n",
       "\t<li>-22</li>\n",
       "\t<li>-21</li>\n",
       "\t<li>-20</li>\n",
       "\t<li>-21</li>\n",
       "\t<li>-20</li>\n",
       "\t<li>-21</li>\n",
       "\t<li>-20</li>\n",
       "\t<li>-19</li>\n",
       "\t<li>-20</li>\n",
       "\t<li>-19</li>\n",
       "\t<li>-20</li>\n",
       "\t<li>-21</li>\n",
       "\t<li>-22</li>\n",
       "\t<li>-23</li>\n",
       "\t<li>-22</li>\n",
       "\t<li>-21</li>\n",
       "\t<li>-22</li>\n",
       "\t<li>-23</li>\n",
       "\t<li>-24</li>\n",
       "\t<li>-23</li>\n",
       "\t<li>-24</li>\n",
       "\t<li>-23</li>\n",
       "\t<li>-22</li>\n",
       "\t<li>-21</li>\n",
       "\t<li>-22</li>\n",
       "\t<li>-21</li>\n",
       "\t<li>-22</li>\n",
       "\t<li>-23</li>\n",
       "\t<li>-22</li>\n",
       "\t<li>-23</li>\n",
       "\t<li>-24</li>\n",
       "\t<li>-23</li>\n",
       "\t<li>-22</li>\n",
       "\t<li>-21</li>\n",
       "\t<li>-22</li>\n",
       "\t<li>-23</li>\n",
       "\t<li>-22</li>\n",
       "\t<li>-21</li>\n",
       "\t<li>-20</li>\n",
       "\t<li>-19</li>\n",
       "\t<li>-18</li>\n",
       "\t<li>-19</li>\n",
       "\t<li>-20</li>\n",
       "\t<li>-21</li>\n",
       "\t<li>-22</li>\n",
       "\t<li>-21</li>\n",
       "\t<li>-22</li>\n",
       "\t<li>-23</li>\n",
       "\t<li>-24</li>\n",
       "\t<li>-23</li>\n",
       "\t<li>-24</li>\n",
       "\t<li>-25</li>\n",
       "\t<li>-26</li>\n",
       "\t<li>-27</li>\n",
       "\t<li>-28</li>\n",
       "\t<li>-29</li>\n",
       "\t<li>-28</li>\n",
       "\t<li>-27</li>\n",
       "\t<li>-26</li>\n",
       "\t<li>-27</li>\n",
       "\t<li>-28</li>\n",
       "\t<li>-29</li>\n",
       "\t<li>-30</li>\n",
       "\t<li>-31</li>\n",
       "\t<li>-30</li>\n",
       "\t<li>-31</li>\n",
       "\t<li>-30</li>\n",
       "\t<li>-29</li>\n",
       "\t<li>-30</li>\n",
       "\t<li>-31</li>\n",
       "\t<li>-32</li>\n",
       "\t<li>-31</li>\n",
       "\t<li>-32</li>\n",
       "\t<li>-31</li>\n",
       "\t<li>-32</li>\n",
       "\t<li>-33</li>\n",
       "\t<li>-32</li>\n",
       "\t<li>-33</li>\n",
       "\t<li>-34</li>\n",
       "\t<li>-33</li>\n",
       "\t<li>-34</li>\n",
       "\t<li>-35</li>\n",
       "\t<li>-36</li>\n",
       "\t<li>-37</li>\n",
       "\t<li>-38</li>\n",
       "\t<li>-37</li>\n",
       "\t<li>-38</li>\n",
       "\t<li>-39</li>\n",
       "\t<li>-38</li>\n",
       "\t<li>-39</li>\n",
       "\t<li>-38</li>\n",
       "\t<li>-37</li>\n",
       "\t<li>-38</li>\n",
       "\t<li>-37</li>\n",
       "\t<li>-38</li>\n",
       "\t<li>-37</li>\n",
       "\t<li>-38</li>\n",
       "\t<li>-37</li>\n",
       "\t<li>-36</li>\n",
       "\t<li>-35</li>\n",
       "\t<li>-34</li>\n",
       "\t<li>-33</li>\n",
       "\t<li>-34</li>\n",
       "\t<li>-35</li>\n",
       "\t<li>-34</li>\n",
       "\t<li>-33</li>\n",
       "\t<li>-32</li>\n",
       "\t<li>-31</li>\n",
       "\t<li>-30</li>\n",
       "\t<li>-31</li>\n",
       "\t<li>-32</li>\n",
       "\t<li>-33</li>\n",
       "\t<li>-34</li>\n",
       "\t<li>-35</li>\n",
       "\t<li>-34</li>\n",
       "\t<li>-33</li>\n",
       "\t<li>-34</li>\n",
       "\t<li>-35</li>\n",
       "\t<li>-36</li>\n",
       "\t<li>-37</li>\n",
       "\t<li>-36</li>\n",
       "\t<li>-37</li>\n",
       "\t<li>-36</li>\n",
       "\t<li>-37</li>\n",
       "\t<li>-36</li>\n",
       "\t<li>-37</li>\n",
       "\t<li>-36</li>\n",
       "\t<li>-37</li>\n",
       "\t<li>-36</li>\n",
       "\t<li>-35</li>\n",
       "\t<li>-36</li>\n",
       "\t<li>-35</li>\n",
       "\t<li>-34</li>\n",
       "\t<li>-35</li>\n",
       "\t<li>-34</li>\n",
       "\t<li>-35</li>\n",
       "\t<li>-34</li>\n",
       "\t<li>-35</li>\n",
       "\t<li>-36</li>\n",
       "\t<li>-35</li>\n",
       "\t<li>-36</li>\n",
       "\t<li>-35</li>\n",
       "\t<li>-34</li>\n",
       "\t<li>-33</li>\n",
       "\t<li>-32</li>\n",
       "\t<li>-33</li>\n",
       "\t<li>-32</li>\n",
       "\t<li>-31</li>\n",
       "\t<li>-32</li>\n",
       "\t<li>-31</li>\n",
       "\t<li>-30</li>\n",
       "\t<li>-31</li>\n",
       "\t<li>-30</li>\n",
       "\t<li>-31</li>\n",
       "\t<li>-32</li>\n",
       "\t<li>-33</li>\n",
       "\t<li>-34</li>\n",
       "\t<li>-33</li>\n",
       "\t<li>-32</li>\n",
       "\t<li>-31</li>\n",
       "\t<li>-30</li>\n",
       "\t<li>-29</li>\n",
       "\t<li>-30</li>\n",
       "\t<li>-29</li>\n",
       "\t<li>-30</li>\n",
       "\t<li>-29</li>\n",
       "\t<li>-28</li>\n",
       "\t<li>-27</li>\n",
       "\t<li>-28</li>\n",
       "\t<li>-29</li>\n",
       "\t<li>-30</li>\n",
       "\t<li>-29</li>\n",
       "\t<li>-28</li>\n",
       "\t<li>-27</li>\n",
       "\t<li>-26</li>\n",
       "\t<li>-27</li>\n",
       "\t<li>-26</li>\n",
       "\t<li>-25</li>\n",
       "\t<li>-24</li>\n",
       "\t<li>-25</li>\n",
       "\t<li>-26</li>\n",
       "\t<li>-27</li>\n",
       "\t<li>-28</li>\n",
       "\t<li>-27</li>\n",
       "\t<li>-28</li>\n",
       "\t<li>-27</li>\n",
       "\t<li>-28</li>\n",
       "\t<li>-27</li>\n",
       "\t<li>-26</li>\n",
       "\t<li>-25</li>\n",
       "\t<li>-24</li>\n",
       "\t<li>-25</li>\n",
       "\t<li>-26</li>\n",
       "\t<li>-27</li>\n",
       "\t<li>-28</li>\n",
       "\t<li>-27</li>\n",
       "\t<li>-28</li>\n",
       "\t<li>-27</li>\n",
       "\t<li>-28</li>\n",
       "\t<li>-29</li>\n",
       "\t<li>-28</li>\n",
       "\t<li>-27</li>\n",
       "\t<li>-28</li>\n",
       "\t<li>-29</li>\n",
       "\t<li>-30</li>\n",
       "\t<li>-31</li>\n",
       "\t<li>-30</li>\n",
       "\t<li>-31</li>\n",
       "\t<li>-30</li>\n",
       "\t<li>-31</li>\n",
       "\t<li>-30</li>\n",
       "\t<li>-31</li>\n",
       "\t<li>-30</li>\n",
       "\t<li>-29</li>\n",
       "\t<li>-30</li>\n",
       "\t<li>-31</li>\n",
       "\t<li>-32</li>\n",
       "\t<li>-33</li>\n",
       "\t<li>-34</li>\n",
       "\t<li>-33</li>\n",
       "\t<li>-34</li>\n",
       "\t<li>-35</li>\n",
       "\t<li>-36</li>\n",
       "\t<li>-37</li>\n",
       "\t<li>-38</li>\n",
       "\t<li>-37</li>\n",
       "\t<li>-36</li>\n",
       "\t<li>-37</li>\n",
       "\t<li>-38</li>\n",
       "\t<li>-39</li>\n",
       "\t<li>-40</li>\n",
       "\t<li>-41</li>\n",
       "\t<li>-42</li>\n",
       "\t<li>-41</li>\n",
       "\t<li>-42</li>\n",
       "\t<li>-43</li>\n",
       "\t<li>-44</li>\n",
       "\t<li>-45</li>\n",
       "\t<li>-46</li>\n",
       "\t<li>-45</li>\n",
       "\t<li>-44</li>\n",
       "\t<li>-43</li>\n",
       "\t<li>-42</li>\n",
       "\t<li>-43</li>\n",
       "\t<li>-44</li>\n",
       "\t<li>-43</li>\n",
       "\t<li>-44</li>\n",
       "\t<li>-43</li>\n",
       "\t<li>-42</li>\n",
       "\t<li>-41</li>\n",
       "\t<li>-42</li>\n",
       "\t<li>-41</li>\n",
       "\t<li>-40</li>\n",
       "\t<li>-41</li>\n",
       "\t<li>-42</li>\n",
       "\t<li>-43</li>\n",
       "\t<li>-42</li>\n",
       "\t<li>-43</li>\n",
       "\t<li>-44</li>\n",
       "\t<li>-45</li>\n",
       "\t<li>-44</li>\n",
       "\t<li>-43</li>\n",
       "\t<li>-44</li>\n",
       "\t<li>-45</li>\n",
       "\t<li>-46</li>\n",
       "\t<li>-45</li>\n",
       "\t<li>-44</li>\n",
       "\t<li>-45</li>\n",
       "\t<li>-44</li>\n",
       "\t<li>-43</li>\n",
       "\t<li>-42</li>\n",
       "\t<li>-43</li>\n",
       "\t<li>-44</li>\n",
       "\t<li>-45</li>\n",
       "\t<li>-46</li>\n",
       "\t<li>-45</li>\n",
       "\t<li>-46</li>\n",
       "\t<li>-45</li>\n",
       "\t<li>-46</li>\n",
       "\t<li>-47</li>\n",
       "\t<li>-48</li>\n",
       "\t<li>-47</li>\n",
       "\t<li>-48</li>\n",
       "\t<li>-47</li>\n",
       "\t<li>-46</li>\n",
       "\t<li>-45</li>\n",
       "\t<li>-44</li>\n",
       "\t<li>-45</li>\n",
       "\t<li>-46</li>\n",
       "\t<li>-47</li>\n",
       "\t<li>-48</li>\n",
       "\t<li>-47</li>\n",
       "\t<li>-46</li>\n",
       "\t<li>-45</li>\n",
       "\t<li>-46</li>\n",
       "\t<li>-47</li>\n",
       "\t<li>-48</li>\n",
       "\t<li>-47</li>\n",
       "\t<li>-48</li>\n",
       "\t<li>-49</li>\n",
       "\t<li>-48</li>\n",
       "\t<li>-47</li>\n",
       "\t<li>-46</li>\n",
       "\t<li>-47</li>\n",
       "\t<li>-48</li>\n",
       "\t<li>-47</li>\n",
       "\t<li>-46</li>\n",
       "\t<li>-47</li>\n",
       "\t<li>-48</li>\n",
       "\t<li>-47</li>\n",
       "\t<li>-46</li>\n",
       "\t<li>-45</li>\n",
       "\t<li>-46</li>\n",
       "\t<li>-45</li>\n",
       "\t<li>-44</li>\n",
       "\t<li>-45</li>\n",
       "\t<li>-46</li>\n",
       "\t<li>-45</li>\n",
       "\t<li>-44</li>\n",
       "\t<li>-45</li>\n",
       "\t<li>-46</li>\n",
       "\t<li>-45</li>\n",
       "\t<li>-46</li>\n",
       "\t<li>-47</li>\n",
       "\t<li>-46</li>\n",
       "\t<li>-47</li>\n",
       "\t<li>-46</li>\n",
       "\t<li>-47</li>\n",
       "\t<li>-48</li>\n",
       "\t<li>-49</li>\n",
       "\t<li>-48</li>\n",
       "\t<li>-47</li>\n",
       "\t<li>-48</li>\n",
       "\t<li>-49</li>\n",
       "\t<li>-50</li>\n",
       "\t<li>-49</li>\n",
       "\t<li>-48</li>\n",
       "\t<li>-47</li>\n",
       "\t<li>-48</li>\n",
       "\t<li>-47</li>\n",
       "\t<li>-48</li>\n",
       "\t<li>-49</li>\n",
       "\t<li>-48</li>\n",
       "\t<li>-49</li>\n",
       "\t<li>-48</li>\n",
       "\t<li>-49</li>\n",
       "\t<li>-48</li>\n",
       "\t<li>-49</li>\n",
       "\t<li>-50</li>\n",
       "\t<li>-49</li>\n",
       "\t<li>-50</li>\n",
       "\t<li>-51</li>\n",
       "\t<li>-52</li>\n",
       "\t<li>-51</li>\n",
       "\t<li>-50</li>\n",
       "\t<li>-51</li>\n",
       "\t<li>-50</li>\n",
       "\t<li>-51</li>\n",
       "\t<li>-52</li>\n",
       "\t<li>-51</li>\n",
       "\t<li>-52</li>\n",
       "\t<li>-51</li>\n",
       "\t<li>-52</li>\n",
       "\t<li>-53</li>\n",
       "\t<li>-54</li>\n",
       "\t<li>-55</li>\n",
       "\t<li>-56</li>\n",
       "\t<li>-57</li>\n",
       "\t<li>-58</li>\n",
       "\t<li>-57</li>\n",
       "\t<li>-58</li>\n",
       "\t<li>-57</li>\n",
       "\t<li>-58</li>\n",
       "\t<li>-57</li>\n",
       "\t<li>-56</li>\n",
       "\t<li>-57</li>\n",
       "\t<li>-56</li>\n",
       "\t<li>-55</li>\n",
       "\t<li>-54</li>\n",
       "\t<li>-53</li>\n",
       "\t<li>-54</li>\n",
       "\t<li>-55</li>\n",
       "\t<li>-56</li>\n",
       "\t<li>-55</li>\n",
       "\t<li>-56</li>\n",
       "\t<li>-57</li>\n",
       "\t<li>-56</li>\n",
       "\t<li>-57</li>\n",
       "\t<li>-58</li>\n",
       "\t<li>-59</li>\n",
       "\t<li>-60</li>\n",
       "\t<li>-61</li>\n",
       "\t<li>-60</li>\n",
       "\t<li>-61</li>\n",
       "\t<li>-60</li>\n",
       "\t<li>-59</li>\n",
       "\t<li>-60</li>\n",
       "\t<li>-61</li>\n",
       "\t<li>-62</li>\n",
       "\t<li>-63</li>\n",
       "\t<li>-62</li>\n",
       "\t<li>-63</li>\n",
       "\t<li>-64</li>\n",
       "\t<li>-63</li>\n",
       "\t<li>-62</li>\n",
       "\t<li>-61</li>\n",
       "\t<li>-62</li>\n",
       "\t<li>-63</li>\n",
       "\t<li>-64</li>\n",
       "\t<li>-63</li>\n",
       "\t<li>-62</li>\n",
       "\t<li>-63</li>\n",
       "\t<li>-64</li>\n",
       "\t<li>-65</li>\n",
       "\t<li>-66</li>\n",
       "\t<li>-65</li>\n",
       "\t<li>-66</li>\n",
       "\t<li>-67</li>\n",
       "\t<li>-68</li>\n",
       "\t<li>-67</li>\n",
       "\t<li>-66</li>\n",
       "\t<li>-67</li>\n",
       "\t<li>-66</li>\n",
       "\t<li>-65</li>\n",
       "\t<li>-66</li>\n",
       "\t<li>-67</li>\n",
       "\t<li>-66</li>\n",
       "\t<li>-67</li>\n",
       "\t<li>-68</li>\n",
       "\t<li>-69</li>\n",
       "\t<li>-70</li>\n",
       "\t<li>-71</li>\n",
       "\t<li>-72</li>\n",
       "\t<li>-73</li>\n",
       "\t<li>-74</li>\n",
       "\t<li>-73</li>\n",
       "\t<li>-72</li>\n",
       "\t<li>-73</li>\n",
       "\t<li>-72</li>\n",
       "\t<li>-73</li>\n",
       "\t<li>-74</li>\n",
       "\t<li>-73</li>\n",
       "\t<li>-72</li>\n",
       "\t<li>-73</li>\n",
       "\t<li>-74</li>\n",
       "\t<li>-73</li>\n",
       "\t<li>-74</li>\n",
       "\t<li>-73</li>\n",
       "\t<li>-74</li>\n",
       "\t<li>-73</li>\n",
       "\t<li>-72</li>\n",
       "\t<li>-71</li>\n",
       "\t<li>-72</li>\n",
       "\t<li>-73</li>\n",
       "\t<li>-74</li>\n",
       "\t<li>-73</li>\n",
       "\t<li>-72</li>\n",
       "\t<li>-73</li>\n",
       "\t<li>-72</li>\n",
       "\t<li>-71</li>\n",
       "\t<li>-72</li>\n",
       "\t<li>-71</li>\n",
       "\t<li>-70</li>\n",
       "\t<li>-69</li>\n",
       "\t<li>-68</li>\n",
       "\t<li>-69</li>\n",
       "\t<li>-68</li>\n",
       "\t<li>-69</li>\n",
       "\t<li>-68</li>\n",
       "\t<li>-67</li>\n",
       "\t<li>-68</li>\n",
       "\t<li>-67</li>\n",
       "\t<li>-66</li>\n",
       "\t<li>-67</li>\n",
       "\t<li>-68</li>\n",
       "\t<li>-67</li>\n",
       "\t<li>-66</li>\n",
       "\t<li>-67</li>\n",
       "\t<li>-66</li>\n",
       "\t<li>-67</li>\n",
       "\t<li>-68</li>\n",
       "\t<li>-69</li>\n",
       "\t<li>-68</li>\n",
       "\t<li>-67</li>\n",
       "\t<li>-66</li>\n",
       "\t<li>-67</li>\n",
       "\t<li>-68</li>\n",
       "\t<li>-69</li>\n",
       "\t<li>-70</li>\n",
       "\t<li>-69</li>\n",
       "\t<li>-70</li>\n",
       "\t<li>-71</li>\n",
       "\t<li>-72</li>\n",
       "\t<li>-71</li>\n",
       "\t<li>-70</li>\n",
       "\t<li>-71</li>\n",
       "\t<li>-70</li>\n",
       "\t<li>-69</li>\n",
       "\t<li>-70</li>\n",
       "\t<li>-71</li>\n",
       "\t<li>-72</li>\n",
       "\t<li>-71</li>\n",
       "\t<li>-70</li>\n",
       "\t<li>-71</li>\n",
       "\t<li>-72</li>\n",
       "\t<li>-73</li>\n",
       "\t<li>-74</li>\n",
       "\t<li>-75</li>\n",
       "\t<li>-76</li>\n",
       "\t<li>-75</li>\n",
       "\t<li>-76</li>\n",
       "\t<li>-75</li>\n",
       "\t<li>-74</li>\n",
       "\t<li>-75</li>\n",
       "\t<li>-74</li>\n",
       "\t<li>-75</li>\n",
       "\t<li>-74</li>\n",
       "\t<li>-75</li>\n",
       "\t<li>-76</li>\n",
       "\t<li>-77</li>\n",
       "\t<li>-76</li>\n",
       "\t<li>-75</li>\n",
       "\t<li>-76</li>\n",
       "\t<li>-75</li>\n",
       "\t<li>-74</li>\n",
       "\t<li>-73</li>\n",
       "\t<li>-74</li>\n",
       "\t<li>-73</li>\n",
       "\t<li>-72</li>\n",
       "\t<li>-71</li>\n",
       "\t<li>-72</li>\n",
       "\t<li>-73</li>\n",
       "\t<li>-72</li>\n",
       "\t<li>-73</li>\n",
       "\t<li>-72</li>\n",
       "\t<li>-71</li>\n",
       "\t<li>-70</li>\n",
       "\t<li>-69</li>\n",
       "\t<li>-70</li>\n",
       "\t<li>-69</li>\n",
       "\t<li>-70</li>\n",
       "\t<li>-71</li>\n",
       "\t<li>-72</li>\n",
       "\t<li>-71</li>\n",
       "\t<li>-70</li>\n",
       "\t<li>-69</li>\n",
       "\t<li>-68</li>\n",
       "\t<li>-69</li>\n",
       "\t<li>-70</li>\n",
       "\t<li>-71</li>\n",
       "\t<li>-72</li>\n",
       "\t<li>-71</li>\n",
       "\t<li>-72</li>\n",
       "\t<li>-71</li>\n",
       "\t<li>-72</li>\n",
       "\t<li>-73</li>\n",
       "\t<li>-72</li>\n",
       "\t<li>-73</li>\n",
       "\t<li>-74</li>\n",
       "\t<li>-73</li>\n",
       "\t<li>-74</li>\n",
       "\t<li>-75</li>\n",
       "\t<li>-74</li>\n",
       "\t<li>-75</li>\n",
       "\t<li>-74</li>\n",
       "\t<li>-73</li>\n",
       "\t<li>-72</li>\n",
       "\t<li>-71</li>\n",
       "\t<li>-72</li>\n",
       "\t<li>-73</li>\n",
       "\t<li>-72</li>\n",
       "\t<li>-71</li>\n",
       "\t<li>-70</li>\n",
       "\t<li>-69</li>\n",
       "\t<li>-68</li>\n",
       "\t<li>-67</li>\n",
       "\t<li>-66</li>\n",
       "\t<li>-67</li>\n",
       "\t<li>-68</li>\n",
       "\t<li>-67</li>\n",
       "\t<li>-68</li>\n",
       "\t<li>-67</li>\n",
       "\t<li>-68</li>\n",
       "\t<li>-67</li>\n",
       "\t<li>-66</li>\n",
       "\t<li>-67</li>\n",
       "\t<li>-68</li>\n",
       "\t<li>-69</li>\n",
       "\t<li>-70</li>\n",
       "\t<li>-69</li>\n",
       "\t<li>-70</li>\n",
       "\t<li>-71</li>\n",
       "\t<li>-70</li>\n",
       "\t<li>-71</li>\n",
       "\t<li>-72</li>\n",
       "\t<li>-71</li>\n",
       "\t<li>-70</li>\n",
       "\t<li>-69</li>\n",
       "\t<li>-68</li>\n",
       "\t<li>-69</li>\n",
       "\t<li>-70</li>\n",
       "\t<li>-71</li>\n",
       "\t<li>-70</li>\n",
       "\t<li>-71</li>\n",
       "\t<li>-70</li>\n",
       "\t<li>-69</li>\n",
       "\t<li>-68</li>\n",
       "\t<li>-67</li>\n",
       "\t<li>-68</li>\n",
       "\t<li>-69</li>\n",
       "\t<li>-68</li>\n",
       "\t<li>-69</li>\n",
       "\t<li>-70</li>\n",
       "\t<li>-71</li>\n",
       "\t<li>-72</li>\n",
       "\t<li>-71</li>\n",
       "\t<li>-72</li>\n",
       "\t<li>-73</li>\n",
       "\t<li>-74</li>\n",
       "\t<li>-73</li>\n",
       "\t<li>-74</li>\n",
       "\t<li>-75</li>\n",
       "\t<li>-74</li>\n",
       "\t<li>-73</li>\n",
       "\t<li>-74</li>\n",
       "\t<li>-75</li>\n",
       "\t<li>-76</li>\n",
       "\t<li>-77</li>\n",
       "\t<li>-78</li>\n",
       "\t<li>-77</li>\n",
       "\t<li>-76</li>\n",
       "\t<li>-75</li>\n",
       "\t<li>-74</li>\n",
       "\t<li>-73</li>\n",
       "\t<li>-74</li>\n",
       "\t<li>-73</li>\n",
       "\t<li>-72</li>\n",
       "\t<li>-73</li>\n",
       "\t<li>-72</li>\n",
       "\t<li>-71</li>\n",
       "\t<li>-72</li>\n",
       "\t<li>-71</li>\n",
       "\t<li>-70</li>\n",
       "\t<li>-69</li>\n",
       "\t<li>-70</li>\n",
       "\t<li>-69</li>\n",
       "\t<li>-68</li>\n",
       "\t<li>-67</li>\n",
       "\t<li>-66</li>\n",
       "\t<li>-65</li>\n",
       "\t<li>-64</li>\n",
       "\t<li>-65</li>\n",
       "\t<li>-64</li>\n",
       "\t<li>-65</li>\n",
       "\t<li>-64</li>\n",
       "\t<li>-65</li>\n",
       "\t<li>-64</li>\n",
       "\t<li>-65</li>\n",
       "\t<li>-64</li>\n",
       "\t<li>-65</li>\n",
       "\t<li>-64</li>\n",
       "\t<li>-63</li>\n",
       "\t<li>-62</li>\n",
       "\t<li>-61</li>\n",
       "\t<li>-62</li>\n",
       "\t<li>-63</li>\n",
       "\t<li>-64</li>\n",
       "\t<li>-63</li>\n",
       "\t<li>-62</li>\n",
       "\t<li>-63</li>\n",
       "\t<li>-64</li>\n",
       "\t<li>-63</li>\n",
       "\t<li>-62</li>\n",
       "\t<li>-61</li>\n",
       "\t<li>-62</li>\n",
       "\t<li>-63</li>\n",
       "\t<li>-64</li>\n",
       "\t<li>-63</li>\n",
       "\t<li>-64</li>\n",
       "\t<li>-63</li>\n",
       "\t<li>-64</li>\n",
       "\t<li>-65</li>\n",
       "\t<li>-66</li>\n",
       "\t<li>-65</li>\n",
       "\t<li>-64</li>\n",
       "\t<li>-65</li>\n",
       "\t<li>-66</li>\n",
       "\t<li>-65</li>\n",
       "\t<li>-66</li>\n",
       "\t<li>-67</li>\n",
       "\t<li>-68</li>\n",
       "\t<li>-67</li>\n",
       "\t<li>-68</li>\n",
       "\t<li>-69</li>\n",
       "\t<li>-70</li>\n",
       "\t<li>-71</li>\n",
       "\t<li>-70</li>\n",
       "\t<li>-71</li>\n",
       "\t<li>-70</li>\n",
       "\t<li>-71</li>\n",
       "\t<li>-72</li>\n",
       "\t<li>-73</li>\n",
       "\t<li>-72</li>\n",
       "\t<li>-71</li>\n",
       "\t<li>-72</li>\n",
       "\t<li>-73</li>\n",
       "\t<li>-72</li>\n",
       "\t<li>-71</li>\n",
       "\t<li>-72</li>\n",
       "\t<li>-71</li>\n",
       "\t<li>-72</li>\n",
       "\t<li>-71</li>\n",
       "\t<li>-70</li>\n",
       "\t<li>-69</li>\n",
       "\t<li>-68</li>\n",
       "\t<li>-69</li>\n",
       "\t<li>-68</li>\n",
       "\t<li>-67</li>\n",
       "\t<li>-66</li>\n",
       "\t<li>-67</li>\n",
       "\t<li>-68</li>\n",
       "\t<li>-67</li>\n",
       "\t<li>-68</li>\n",
       "\t<li>-67</li>\n",
       "\t<li>-68</li>\n",
       "\t<li>-67</li>\n",
       "\t<li>-66</li>\n",
       "\t<li>-65</li>\n",
       "\t<li>-64</li>\n",
       "\t<li>-63</li>\n",
       "\t<li>-64</li>\n",
       "\t<li>-63</li>\n",
       "\t<li>-64</li>\n",
       "\t<li>-63</li>\n",
       "\t<li>-62</li>\n",
       "\t<li>-63</li>\n",
       "\t<li>-62</li>\n",
       "\t<li>-63</li>\n",
       "\t<li>-62</li>\n",
       "\t<li>-61</li>\n",
       "\t<li>-62</li>\n",
       "\t<li>-63</li>\n",
       "\t<li>-64</li>\n",
       "\t<li>-65</li>\n",
       "\t<li>-66</li>\n",
       "\t<li>-67</li>\n",
       "\t<li>-68</li>\n",
       "\t<li>-67</li>\n",
       "\t<li>-66</li>\n",
       "\t<li>-65</li>\n",
       "\t<li>-66</li>\n",
       "\t<li>-67</li>\n",
       "\t<li>-66</li>\n",
       "\t<li>-67</li>\n",
       "\t<li>-68</li>\n",
       "\t<li>-69</li>\n",
       "\t<li>-68</li>\n",
       "\t<li>-69</li>\n",
       "\t<li>-70</li>\n",
       "\t<li>-69</li>\n",
       "\t<li>-68</li>\n",
       "\t<li>-67</li>\n",
       "\t<li>-66</li>\n",
       "\t<li>-65</li>\n",
       "\t<li>-66</li>\n",
       "\t<li>-65</li>\n",
       "\t<li>-64</li>\n",
       "\t<li>-65</li>\n",
       "\t<li>-64</li>\n",
       "\t<li>-65</li>\n",
       "\t<li>-64</li>\n",
       "\t<li>-63</li>\n",
       "\t<li>-62</li>\n",
       "\t<li>-63</li>\n",
       "\t<li>-64</li>\n",
       "\t<li>-65</li>\n",
       "\t<li>-66</li>\n",
       "\t<li>-65</li>\n",
       "\t<li>-64</li>\n",
       "\t<li>-65</li>\n",
       "\t<li>-66</li>\n",
       "\t<li>-67</li>\n",
       "\t<li>-68</li>\n",
       "\t<li>-67</li>\n",
       "\t<li>-66</li>\n",
       "\t<li>-67</li>\n",
       "\t<li>-66</li>\n",
       "\t<li>-65</li>\n",
       "\t<li>-64</li>\n",
       "\t<li>-63</li>\n",
       "\t<li>-62</li>\n",
       "\t<li>-61</li>\n",
       "\t<li>-60</li>\n",
       "\t<li>-59</li>\n",
       "\t<li>-60</li>\n",
       "</ol>\n"
      ],
      "text/latex": [
       "\\begin{enumerate*}\n",
       "\\item -1\n",
       "\\item -2\n",
       "\\item -1\n",
       "\\item -2\n",
       "\\item -1\n",
       "\\item -2\n",
       "\\item -3\n",
       "\\item -4\n",
       "\\item -3\n",
       "\\item -2\n",
       "\\item -1\n",
       "\\item 0\n",
       "\\item -1\n",
       "\\item 0\n",
       "\\item -1\n",
       "\\item -2\n",
       "\\item -1\n",
       "\\item 0\n",
       "\\item 1\n",
       "\\item 0\n",
       "\\item -1\n",
       "\\item -2\n",
       "\\item -1\n",
       "\\item 0\n",
       "\\item -1\n",
       "\\item 0\n",
       "\\item -1\n",
       "\\item -2\n",
       "\\item -1\n",
       "\\item -2\n",
       "\\item -3\n",
       "\\item -2\n",
       "\\item -3\n",
       "\\item -2\n",
       "\\item -1\n",
       "\\item -2\n",
       "\\item -1\n",
       "\\item -2\n",
       "\\item -3\n",
       "\\item -4\n",
       "\\item -5\n",
       "\\item -6\n",
       "\\item -7\n",
       "\\item -6\n",
       "\\item -7\n",
       "\\item -8\n",
       "\\item -7\n",
       "\\item -8\n",
       "\\item -7\n",
       "\\item -6\n",
       "\\item -7\n",
       "\\item -6\n",
       "\\item -5\n",
       "\\item -6\n",
       "\\item -5\n",
       "\\item -6\n",
       "\\item -7\n",
       "\\item -6\n",
       "\\item -7\n",
       "\\item -6\n",
       "\\item -7\n",
       "\\item -6\n",
       "\\item -5\n",
       "\\item -6\n",
       "\\item -5\n",
       "\\item -4\n",
       "\\item -3\n",
       "\\item -4\n",
       "\\item -3\n",
       "\\item -4\n",
       "\\item -5\n",
       "\\item -4\n",
       "\\item -3\n",
       "\\item -2\n",
       "\\item -1\n",
       "\\item -2\n",
       "\\item -3\n",
       "\\item -4\n",
       "\\item -3\n",
       "\\item -2\n",
       "\\item -1\n",
       "\\item -2\n",
       "\\item -3\n",
       "\\item -2\n",
       "\\item -3\n",
       "\\item -4\n",
       "\\item -3\n",
       "\\item -4\n",
       "\\item -5\n",
       "\\item -4\n",
       "\\item -3\n",
       "\\item -4\n",
       "\\item -5\n",
       "\\item -6\n",
       "\\item -7\n",
       "\\item -6\n",
       "\\item -5\n",
       "\\item -6\n",
       "\\item -7\n",
       "\\item -8\n",
       "\\item -7\n",
       "\\item -6\n",
       "\\item -5\n",
       "\\item -4\n",
       "\\item -3\n",
       "\\item -4\n",
       "\\item -5\n",
       "\\item -4\n",
       "\\item -5\n",
       "\\item -4\n",
       "\\item -3\n",
       "\\item -2\n",
       "\\item -3\n",
       "\\item -4\n",
       "\\item -5\n",
       "\\item -4\n",
       "\\item -3\n",
       "\\item -4\n",
       "\\item -3\n",
       "\\item -2\n",
       "\\item -1\n",
       "\\item -2\n",
       "\\item -3\n",
       "\\item -4\n",
       "\\item -5\n",
       "\\item -6\n",
       "\\item -5\n",
       "\\item -4\n",
       "\\item -5\n",
       "\\item -6\n",
       "\\item -5\n",
       "\\item -4\n",
       "\\item -5\n",
       "\\item -4\n",
       "\\item -5\n",
       "\\item -4\n",
       "\\item -5\n",
       "\\item -4\n",
       "\\item -5\n",
       "\\item -4\n",
       "\\item -3\n",
       "\\item -2\n",
       "\\item -1\n",
       "\\item 0\n",
       "\\item -1\n",
       "\\item 0\n",
       "\\item -1\n",
       "\\item -2\n",
       "\\item -3\n",
       "\\item -2\n",
       "\\item -3\n",
       "\\item -4\n",
       "\\item -5\n",
       "\\item -6\n",
       "\\item -5\n",
       "\\item -6\n",
       "\\item -7\n",
       "\\item -8\n",
       "\\item -9\n",
       "\\item -8\n",
       "\\item -9\n",
       "\\item -10\n",
       "\\item -11\n",
       "\\item -10\n",
       "\\item -9\n",
       "\\item -8\n",
       "\\item -9\n",
       "\\item -10\n",
       "\\item -11\n",
       "\\item -10\n",
       "\\item -11\n",
       "\\item -10\n",
       "\\item -11\n",
       "\\item -12\n",
       "\\item -13\n",
       "\\item -12\n",
       "\\item -13\n",
       "\\item -12\n",
       "\\item -13\n",
       "\\item -12\n",
       "\\item -13\n",
       "\\item -12\n",
       "\\item -11\n",
       "\\item -12\n",
       "\\item -13\n",
       "\\item -12\n",
       "\\item -13\n",
       "\\item -12\n",
       "\\item -13\n",
       "\\item -14\n",
       "\\item -13\n",
       "\\item -12\n",
       "\\item -13\n",
       "\\item -12\n",
       "\\item -13\n",
       "\\item -14\n",
       "\\item -15\n",
       "\\item -16\n",
       "\\item -17\n",
       "\\item -18\n",
       "\\item -19\n",
       "\\item -20\n",
       "\\item -21\n",
       "\\item -22\n",
       "\\item -21\n",
       "\\item -22\n",
       "\\item -21\n",
       "\\item -20\n",
       "\\item -21\n",
       "\\item -20\n",
       "\\item -21\n",
       "\\item -20\n",
       "\\item -19\n",
       "\\item -20\n",
       "\\item -19\n",
       "\\item -20\n",
       "\\item -21\n",
       "\\item -22\n",
       "\\item -23\n",
       "\\item -22\n",
       "\\item -21\n",
       "\\item -22\n",
       "\\item -23\n",
       "\\item -24\n",
       "\\item -23\n",
       "\\item -24\n",
       "\\item -23\n",
       "\\item -22\n",
       "\\item -21\n",
       "\\item -22\n",
       "\\item -21\n",
       "\\item -22\n",
       "\\item -23\n",
       "\\item -22\n",
       "\\item -23\n",
       "\\item -24\n",
       "\\item -23\n",
       "\\item -22\n",
       "\\item -21\n",
       "\\item -22\n",
       "\\item -23\n",
       "\\item -22\n",
       "\\item -21\n",
       "\\item -20\n",
       "\\item -19\n",
       "\\item -18\n",
       "\\item -19\n",
       "\\item -20\n",
       "\\item -21\n",
       "\\item -22\n",
       "\\item -21\n",
       "\\item -22\n",
       "\\item -23\n",
       "\\item -24\n",
       "\\item -23\n",
       "\\item -24\n",
       "\\item -25\n",
       "\\item -26\n",
       "\\item -27\n",
       "\\item -28\n",
       "\\item -29\n",
       "\\item -28\n",
       "\\item -27\n",
       "\\item -26\n",
       "\\item -27\n",
       "\\item -28\n",
       "\\item -29\n",
       "\\item -30\n",
       "\\item -31\n",
       "\\item -30\n",
       "\\item -31\n",
       "\\item -30\n",
       "\\item -29\n",
       "\\item -30\n",
       "\\item -31\n",
       "\\item -32\n",
       "\\item -31\n",
       "\\item -32\n",
       "\\item -31\n",
       "\\item -32\n",
       "\\item -33\n",
       "\\item -32\n",
       "\\item -33\n",
       "\\item -34\n",
       "\\item -33\n",
       "\\item -34\n",
       "\\item -35\n",
       "\\item -36\n",
       "\\item -37\n",
       "\\item -38\n",
       "\\item -37\n",
       "\\item -38\n",
       "\\item -39\n",
       "\\item -38\n",
       "\\item -39\n",
       "\\item -38\n",
       "\\item -37\n",
       "\\item -38\n",
       "\\item -37\n",
       "\\item -38\n",
       "\\item -37\n",
       "\\item -38\n",
       "\\item -37\n",
       "\\item -36\n",
       "\\item -35\n",
       "\\item -34\n",
       "\\item -33\n",
       "\\item -34\n",
       "\\item -35\n",
       "\\item -34\n",
       "\\item -33\n",
       "\\item -32\n",
       "\\item -31\n",
       "\\item -30\n",
       "\\item -31\n",
       "\\item -32\n",
       "\\item -33\n",
       "\\item -34\n",
       "\\item -35\n",
       "\\item -34\n",
       "\\item -33\n",
       "\\item -34\n",
       "\\item -35\n",
       "\\item -36\n",
       "\\item -37\n",
       "\\item -36\n",
       "\\item -37\n",
       "\\item -36\n",
       "\\item -37\n",
       "\\item -36\n",
       "\\item -37\n",
       "\\item -36\n",
       "\\item -37\n",
       "\\item -36\n",
       "\\item -35\n",
       "\\item -36\n",
       "\\item -35\n",
       "\\item -34\n",
       "\\item -35\n",
       "\\item -34\n",
       "\\item -35\n",
       "\\item -34\n",
       "\\item -35\n",
       "\\item -36\n",
       "\\item -35\n",
       "\\item -36\n",
       "\\item -35\n",
       "\\item -34\n",
       "\\item -33\n",
       "\\item -32\n",
       "\\item -33\n",
       "\\item -32\n",
       "\\item -31\n",
       "\\item -32\n",
       "\\item -31\n",
       "\\item -30\n",
       "\\item -31\n",
       "\\item -30\n",
       "\\item -31\n",
       "\\item -32\n",
       "\\item -33\n",
       "\\item -34\n",
       "\\item -33\n",
       "\\item -32\n",
       "\\item -31\n",
       "\\item -30\n",
       "\\item -29\n",
       "\\item -30\n",
       "\\item -29\n",
       "\\item -30\n",
       "\\item -29\n",
       "\\item -28\n",
       "\\item -27\n",
       "\\item -28\n",
       "\\item -29\n",
       "\\item -30\n",
       "\\item -29\n",
       "\\item -28\n",
       "\\item -27\n",
       "\\item -26\n",
       "\\item -27\n",
       "\\item -26\n",
       "\\item -25\n",
       "\\item -24\n",
       "\\item -25\n",
       "\\item -26\n",
       "\\item -27\n",
       "\\item -28\n",
       "\\item -27\n",
       "\\item -28\n",
       "\\item -27\n",
       "\\item -28\n",
       "\\item -27\n",
       "\\item -26\n",
       "\\item -25\n",
       "\\item -24\n",
       "\\item -25\n",
       "\\item -26\n",
       "\\item -27\n",
       "\\item -28\n",
       "\\item -27\n",
       "\\item -28\n",
       "\\item -27\n",
       "\\item -28\n",
       "\\item -29\n",
       "\\item -28\n",
       "\\item -27\n",
       "\\item -28\n",
       "\\item -29\n",
       "\\item -30\n",
       "\\item -31\n",
       "\\item -30\n",
       "\\item -31\n",
       "\\item -30\n",
       "\\item -31\n",
       "\\item -30\n",
       "\\item -31\n",
       "\\item -30\n",
       "\\item -29\n",
       "\\item -30\n",
       "\\item -31\n",
       "\\item -32\n",
       "\\item -33\n",
       "\\item -34\n",
       "\\item -33\n",
       "\\item -34\n",
       "\\item -35\n",
       "\\item -36\n",
       "\\item -37\n",
       "\\item -38\n",
       "\\item -37\n",
       "\\item -36\n",
       "\\item -37\n",
       "\\item -38\n",
       "\\item -39\n",
       "\\item -40\n",
       "\\item -41\n",
       "\\item -42\n",
       "\\item -41\n",
       "\\item -42\n",
       "\\item -43\n",
       "\\item -44\n",
       "\\item -45\n",
       "\\item -46\n",
       "\\item -45\n",
       "\\item -44\n",
       "\\item -43\n",
       "\\item -42\n",
       "\\item -43\n",
       "\\item -44\n",
       "\\item -43\n",
       "\\item -44\n",
       "\\item -43\n",
       "\\item -42\n",
       "\\item -41\n",
       "\\item -42\n",
       "\\item -41\n",
       "\\item -40\n",
       "\\item -41\n",
       "\\item -42\n",
       "\\item -43\n",
       "\\item -42\n",
       "\\item -43\n",
       "\\item -44\n",
       "\\item -45\n",
       "\\item -44\n",
       "\\item -43\n",
       "\\item -44\n",
       "\\item -45\n",
       "\\item -46\n",
       "\\item -45\n",
       "\\item -44\n",
       "\\item -45\n",
       "\\item -44\n",
       "\\item -43\n",
       "\\item -42\n",
       "\\item -43\n",
       "\\item -44\n",
       "\\item -45\n",
       "\\item -46\n",
       "\\item -45\n",
       "\\item -46\n",
       "\\item -45\n",
       "\\item -46\n",
       "\\item -47\n",
       "\\item -48\n",
       "\\item -47\n",
       "\\item -48\n",
       "\\item -47\n",
       "\\item -46\n",
       "\\item -45\n",
       "\\item -44\n",
       "\\item -45\n",
       "\\item -46\n",
       "\\item -47\n",
       "\\item -48\n",
       "\\item -47\n",
       "\\item -46\n",
       "\\item -45\n",
       "\\item -46\n",
       "\\item -47\n",
       "\\item -48\n",
       "\\item -47\n",
       "\\item -48\n",
       "\\item -49\n",
       "\\item -48\n",
       "\\item -47\n",
       "\\item -46\n",
       "\\item -47\n",
       "\\item -48\n",
       "\\item -47\n",
       "\\item -46\n",
       "\\item -47\n",
       "\\item -48\n",
       "\\item -47\n",
       "\\item -46\n",
       "\\item -45\n",
       "\\item -46\n",
       "\\item -45\n",
       "\\item -44\n",
       "\\item -45\n",
       "\\item -46\n",
       "\\item -45\n",
       "\\item -44\n",
       "\\item -45\n",
       "\\item -46\n",
       "\\item -45\n",
       "\\item -46\n",
       "\\item -47\n",
       "\\item -46\n",
       "\\item -47\n",
       "\\item -46\n",
       "\\item -47\n",
       "\\item -48\n",
       "\\item -49\n",
       "\\item -48\n",
       "\\item -47\n",
       "\\item -48\n",
       "\\item -49\n",
       "\\item -50\n",
       "\\item -49\n",
       "\\item -48\n",
       "\\item -47\n",
       "\\item -48\n",
       "\\item -47\n",
       "\\item -48\n",
       "\\item -49\n",
       "\\item -48\n",
       "\\item -49\n",
       "\\item -48\n",
       "\\item -49\n",
       "\\item -48\n",
       "\\item -49\n",
       "\\item -50\n",
       "\\item -49\n",
       "\\item -50\n",
       "\\item -51\n",
       "\\item -52\n",
       "\\item -51\n",
       "\\item -50\n",
       "\\item -51\n",
       "\\item -50\n",
       "\\item -51\n",
       "\\item -52\n",
       "\\item -51\n",
       "\\item -52\n",
       "\\item -51\n",
       "\\item -52\n",
       "\\item -53\n",
       "\\item -54\n",
       "\\item -55\n",
       "\\item -56\n",
       "\\item -57\n",
       "\\item -58\n",
       "\\item -57\n",
       "\\item -58\n",
       "\\item -57\n",
       "\\item -58\n",
       "\\item -57\n",
       "\\item -56\n",
       "\\item -57\n",
       "\\item -56\n",
       "\\item -55\n",
       "\\item -54\n",
       "\\item -53\n",
       "\\item -54\n",
       "\\item -55\n",
       "\\item -56\n",
       "\\item -55\n",
       "\\item -56\n",
       "\\item -57\n",
       "\\item -56\n",
       "\\item -57\n",
       "\\item -58\n",
       "\\item -59\n",
       "\\item -60\n",
       "\\item -61\n",
       "\\item -60\n",
       "\\item -61\n",
       "\\item -60\n",
       "\\item -59\n",
       "\\item -60\n",
       "\\item -61\n",
       "\\item -62\n",
       "\\item -63\n",
       "\\item -62\n",
       "\\item -63\n",
       "\\item -64\n",
       "\\item -63\n",
       "\\item -62\n",
       "\\item -61\n",
       "\\item -62\n",
       "\\item -63\n",
       "\\item -64\n",
       "\\item -63\n",
       "\\item -62\n",
       "\\item -63\n",
       "\\item -64\n",
       "\\item -65\n",
       "\\item -66\n",
       "\\item -65\n",
       "\\item -66\n",
       "\\item -67\n",
       "\\item -68\n",
       "\\item -67\n",
       "\\item -66\n",
       "\\item -67\n",
       "\\item -66\n",
       "\\item -65\n",
       "\\item -66\n",
       "\\item -67\n",
       "\\item -66\n",
       "\\item -67\n",
       "\\item -68\n",
       "\\item -69\n",
       "\\item -70\n",
       "\\item -71\n",
       "\\item -72\n",
       "\\item -73\n",
       "\\item -74\n",
       "\\item -73\n",
       "\\item -72\n",
       "\\item -73\n",
       "\\item -72\n",
       "\\item -73\n",
       "\\item -74\n",
       "\\item -73\n",
       "\\item -72\n",
       "\\item -73\n",
       "\\item -74\n",
       "\\item -73\n",
       "\\item -74\n",
       "\\item -73\n",
       "\\item -74\n",
       "\\item -73\n",
       "\\item -72\n",
       "\\item -71\n",
       "\\item -72\n",
       "\\item -73\n",
       "\\item -74\n",
       "\\item -73\n",
       "\\item -72\n",
       "\\item -73\n",
       "\\item -72\n",
       "\\item -71\n",
       "\\item -72\n",
       "\\item -71\n",
       "\\item -70\n",
       "\\item -69\n",
       "\\item -68\n",
       "\\item -69\n",
       "\\item -68\n",
       "\\item -69\n",
       "\\item -68\n",
       "\\item -67\n",
       "\\item -68\n",
       "\\item -67\n",
       "\\item -66\n",
       "\\item -67\n",
       "\\item -68\n",
       "\\item -67\n",
       "\\item -66\n",
       "\\item -67\n",
       "\\item -66\n",
       "\\item -67\n",
       "\\item -68\n",
       "\\item -69\n",
       "\\item -68\n",
       "\\item -67\n",
       "\\item -66\n",
       "\\item -67\n",
       "\\item -68\n",
       "\\item -69\n",
       "\\item -70\n",
       "\\item -69\n",
       "\\item -70\n",
       "\\item -71\n",
       "\\item -72\n",
       "\\item -71\n",
       "\\item -70\n",
       "\\item -71\n",
       "\\item -70\n",
       "\\item -69\n",
       "\\item -70\n",
       "\\item -71\n",
       "\\item -72\n",
       "\\item -71\n",
       "\\item -70\n",
       "\\item -71\n",
       "\\item -72\n",
       "\\item -73\n",
       "\\item -74\n",
       "\\item -75\n",
       "\\item -76\n",
       "\\item -75\n",
       "\\item -76\n",
       "\\item -75\n",
       "\\item -74\n",
       "\\item -75\n",
       "\\item -74\n",
       "\\item -75\n",
       "\\item -74\n",
       "\\item -75\n",
       "\\item -76\n",
       "\\item -77\n",
       "\\item -76\n",
       "\\item -75\n",
       "\\item -76\n",
       "\\item -75\n",
       "\\item -74\n",
       "\\item -73\n",
       "\\item -74\n",
       "\\item -73\n",
       "\\item -72\n",
       "\\item -71\n",
       "\\item -72\n",
       "\\item -73\n",
       "\\item -72\n",
       "\\item -73\n",
       "\\item -72\n",
       "\\item -71\n",
       "\\item -70\n",
       "\\item -69\n",
       "\\item -70\n",
       "\\item -69\n",
       "\\item -70\n",
       "\\item -71\n",
       "\\item -72\n",
       "\\item -71\n",
       "\\item -70\n",
       "\\item -69\n",
       "\\item -68\n",
       "\\item -69\n",
       "\\item -70\n",
       "\\item -71\n",
       "\\item -72\n",
       "\\item -71\n",
       "\\item -72\n",
       "\\item -71\n",
       "\\item -72\n",
       "\\item -73\n",
       "\\item -72\n",
       "\\item -73\n",
       "\\item -74\n",
       "\\item -73\n",
       "\\item -74\n",
       "\\item -75\n",
       "\\item -74\n",
       "\\item -75\n",
       "\\item -74\n",
       "\\item -73\n",
       "\\item -72\n",
       "\\item -71\n",
       "\\item -72\n",
       "\\item -73\n",
       "\\item -72\n",
       "\\item -71\n",
       "\\item -70\n",
       "\\item -69\n",
       "\\item -68\n",
       "\\item -67\n",
       "\\item -66\n",
       "\\item -67\n",
       "\\item -68\n",
       "\\item -67\n",
       "\\item -68\n",
       "\\item -67\n",
       "\\item -68\n",
       "\\item -67\n",
       "\\item -66\n",
       "\\item -67\n",
       "\\item -68\n",
       "\\item -69\n",
       "\\item -70\n",
       "\\item -69\n",
       "\\item -70\n",
       "\\item -71\n",
       "\\item -70\n",
       "\\item -71\n",
       "\\item -72\n",
       "\\item -71\n",
       "\\item -70\n",
       "\\item -69\n",
       "\\item -68\n",
       "\\item -69\n",
       "\\item -70\n",
       "\\item -71\n",
       "\\item -70\n",
       "\\item -71\n",
       "\\item -70\n",
       "\\item -69\n",
       "\\item -68\n",
       "\\item -67\n",
       "\\item -68\n",
       "\\item -69\n",
       "\\item -68\n",
       "\\item -69\n",
       "\\item -70\n",
       "\\item -71\n",
       "\\item -72\n",
       "\\item -71\n",
       "\\item -72\n",
       "\\item -73\n",
       "\\item -74\n",
       "\\item -73\n",
       "\\item -74\n",
       "\\item -75\n",
       "\\item -74\n",
       "\\item -73\n",
       "\\item -74\n",
       "\\item -75\n",
       "\\item -76\n",
       "\\item -77\n",
       "\\item -78\n",
       "\\item -77\n",
       "\\item -76\n",
       "\\item -75\n",
       "\\item -74\n",
       "\\item -73\n",
       "\\item -74\n",
       "\\item -73\n",
       "\\item -72\n",
       "\\item -73\n",
       "\\item -72\n",
       "\\item -71\n",
       "\\item -72\n",
       "\\item -71\n",
       "\\item -70\n",
       "\\item -69\n",
       "\\item -70\n",
       "\\item -69\n",
       "\\item -68\n",
       "\\item -67\n",
       "\\item -66\n",
       "\\item -65\n",
       "\\item -64\n",
       "\\item -65\n",
       "\\item -64\n",
       "\\item -65\n",
       "\\item -64\n",
       "\\item -65\n",
       "\\item -64\n",
       "\\item -65\n",
       "\\item -64\n",
       "\\item -65\n",
       "\\item -64\n",
       "\\item -63\n",
       "\\item -62\n",
       "\\item -61\n",
       "\\item -62\n",
       "\\item -63\n",
       "\\item -64\n",
       "\\item -63\n",
       "\\item -62\n",
       "\\item -63\n",
       "\\item -64\n",
       "\\item -63\n",
       "\\item -62\n",
       "\\item -61\n",
       "\\item -62\n",
       "\\item -63\n",
       "\\item -64\n",
       "\\item -63\n",
       "\\item -64\n",
       "\\item -63\n",
       "\\item -64\n",
       "\\item -65\n",
       "\\item -66\n",
       "\\item -65\n",
       "\\item -64\n",
       "\\item -65\n",
       "\\item -66\n",
       "\\item -65\n",
       "\\item -66\n",
       "\\item -67\n",
       "\\item -68\n",
       "\\item -67\n",
       "\\item -68\n",
       "\\item -69\n",
       "\\item -70\n",
       "\\item -71\n",
       "\\item -70\n",
       "\\item -71\n",
       "\\item -70\n",
       "\\item -71\n",
       "\\item -72\n",
       "\\item -73\n",
       "\\item -72\n",
       "\\item -71\n",
       "\\item -72\n",
       "\\item -73\n",
       "\\item -72\n",
       "\\item -71\n",
       "\\item -72\n",
       "\\item -71\n",
       "\\item -72\n",
       "\\item -71\n",
       "\\item -70\n",
       "\\item -69\n",
       "\\item -68\n",
       "\\item -69\n",
       "\\item -68\n",
       "\\item -67\n",
       "\\item -66\n",
       "\\item -67\n",
       "\\item -68\n",
       "\\item -67\n",
       "\\item -68\n",
       "\\item -67\n",
       "\\item -68\n",
       "\\item -67\n",
       "\\item -66\n",
       "\\item -65\n",
       "\\item -64\n",
       "\\item -63\n",
       "\\item -64\n",
       "\\item -63\n",
       "\\item -64\n",
       "\\item -63\n",
       "\\item -62\n",
       "\\item -63\n",
       "\\item -62\n",
       "\\item -63\n",
       "\\item -62\n",
       "\\item -61\n",
       "\\item -62\n",
       "\\item -63\n",
       "\\item -64\n",
       "\\item -65\n",
       "\\item -66\n",
       "\\item -67\n",
       "\\item -68\n",
       "\\item -67\n",
       "\\item -66\n",
       "\\item -65\n",
       "\\item -66\n",
       "\\item -67\n",
       "\\item -66\n",
       "\\item -67\n",
       "\\item -68\n",
       "\\item -69\n",
       "\\item -68\n",
       "\\item -69\n",
       "\\item -70\n",
       "\\item -69\n",
       "\\item -68\n",
       "\\item -67\n",
       "\\item -66\n",
       "\\item -65\n",
       "\\item -66\n",
       "\\item -65\n",
       "\\item -64\n",
       "\\item -65\n",
       "\\item -64\n",
       "\\item -65\n",
       "\\item -64\n",
       "\\item -63\n",
       "\\item -62\n",
       "\\item -63\n",
       "\\item -64\n",
       "\\item -65\n",
       "\\item -66\n",
       "\\item -65\n",
       "\\item -64\n",
       "\\item -65\n",
       "\\item -66\n",
       "\\item -67\n",
       "\\item -68\n",
       "\\item -67\n",
       "\\item -66\n",
       "\\item -67\n",
       "\\item -66\n",
       "\\item -65\n",
       "\\item -64\n",
       "\\item -63\n",
       "\\item -62\n",
       "\\item -61\n",
       "\\item -60\n",
       "\\item -59\n",
       "\\item -60\n",
       "\\end{enumerate*}\n"
      ],
      "text/markdown": [
       "1. -1\n",
       "2. -2\n",
       "3. -1\n",
       "4. -2\n",
       "5. -1\n",
       "6. -2\n",
       "7. -3\n",
       "8. -4\n",
       "9. -3\n",
       "10. -2\n",
       "11. -1\n",
       "12. 0\n",
       "13. -1\n",
       "14. 0\n",
       "15. -1\n",
       "16. -2\n",
       "17. -1\n",
       "18. 0\n",
       "19. 1\n",
       "20. 0\n",
       "21. -1\n",
       "22. -2\n",
       "23. -1\n",
       "24. 0\n",
       "25. -1\n",
       "26. 0\n",
       "27. -1\n",
       "28. -2\n",
       "29. -1\n",
       "30. -2\n",
       "31. -3\n",
       "32. -2\n",
       "33. -3\n",
       "34. -2\n",
       "35. -1\n",
       "36. -2\n",
       "37. -1\n",
       "38. -2\n",
       "39. -3\n",
       "40. -4\n",
       "41. -5\n",
       "42. -6\n",
       "43. -7\n",
       "44. -6\n",
       "45. -7\n",
       "46. -8\n",
       "47. -7\n",
       "48. -8\n",
       "49. -7\n",
       "50. -6\n",
       "51. -7\n",
       "52. -6\n",
       "53. -5\n",
       "54. -6\n",
       "55. -5\n",
       "56. -6\n",
       "57. -7\n",
       "58. -6\n",
       "59. -7\n",
       "60. -6\n",
       "61. -7\n",
       "62. -6\n",
       "63. -5\n",
       "64. -6\n",
       "65. -5\n",
       "66. -4\n",
       "67. -3\n",
       "68. -4\n",
       "69. -3\n",
       "70. -4\n",
       "71. -5\n",
       "72. -4\n",
       "73. -3\n",
       "74. -2\n",
       "75. -1\n",
       "76. -2\n",
       "77. -3\n",
       "78. -4\n",
       "79. -3\n",
       "80. -2\n",
       "81. -1\n",
       "82. -2\n",
       "83. -3\n",
       "84. -2\n",
       "85. -3\n",
       "86. -4\n",
       "87. -3\n",
       "88. -4\n",
       "89. -5\n",
       "90. -4\n",
       "91. -3\n",
       "92. -4\n",
       "93. -5\n",
       "94. -6\n",
       "95. -7\n",
       "96. -6\n",
       "97. -5\n",
       "98. -6\n",
       "99. -7\n",
       "100. -8\n",
       "101. -7\n",
       "102. -6\n",
       "103. -5\n",
       "104. -4\n",
       "105. -3\n",
       "106. -4\n",
       "107. -5\n",
       "108. -4\n",
       "109. -5\n",
       "110. -4\n",
       "111. -3\n",
       "112. -2\n",
       "113. -3\n",
       "114. -4\n",
       "115. -5\n",
       "116. -4\n",
       "117. -3\n",
       "118. -4\n",
       "119. -3\n",
       "120. -2\n",
       "121. -1\n",
       "122. -2\n",
       "123. -3\n",
       "124. -4\n",
       "125. -5\n",
       "126. -6\n",
       "127. -5\n",
       "128. -4\n",
       "129. -5\n",
       "130. -6\n",
       "131. -5\n",
       "132. -4\n",
       "133. -5\n",
       "134. -4\n",
       "135. -5\n",
       "136. -4\n",
       "137. -5\n",
       "138. -4\n",
       "139. -5\n",
       "140. -4\n",
       "141. -3\n",
       "142. -2\n",
       "143. -1\n",
       "144. 0\n",
       "145. -1\n",
       "146. 0\n",
       "147. -1\n",
       "148. -2\n",
       "149. -3\n",
       "150. -2\n",
       "151. -3\n",
       "152. -4\n",
       "153. -5\n",
       "154. -6\n",
       "155. -5\n",
       "156. -6\n",
       "157. -7\n",
       "158. -8\n",
       "159. -9\n",
       "160. -8\n",
       "161. -9\n",
       "162. -10\n",
       "163. -11\n",
       "164. -10\n",
       "165. -9\n",
       "166. -8\n",
       "167. -9\n",
       "168. -10\n",
       "169. -11\n",
       "170. -10\n",
       "171. -11\n",
       "172. -10\n",
       "173. -11\n",
       "174. -12\n",
       "175. -13\n",
       "176. -12\n",
       "177. -13\n",
       "178. -12\n",
       "179. -13\n",
       "180. -12\n",
       "181. -13\n",
       "182. -12\n",
       "183. -11\n",
       "184. -12\n",
       "185. -13\n",
       "186. -12\n",
       "187. -13\n",
       "188. -12\n",
       "189. -13\n",
       "190. -14\n",
       "191. -13\n",
       "192. -12\n",
       "193. -13\n",
       "194. -12\n",
       "195. -13\n",
       "196. -14\n",
       "197. -15\n",
       "198. -16\n",
       "199. -17\n",
       "200. -18\n",
       "201. -19\n",
       "202. -20\n",
       "203. -21\n",
       "204. -22\n",
       "205. -21\n",
       "206. -22\n",
       "207. -21\n",
       "208. -20\n",
       "209. -21\n",
       "210. -20\n",
       "211. -21\n",
       "212. -20\n",
       "213. -19\n",
       "214. -20\n",
       "215. -19\n",
       "216. -20\n",
       "217. -21\n",
       "218. -22\n",
       "219. -23\n",
       "220. -22\n",
       "221. -21\n",
       "222. -22\n",
       "223. -23\n",
       "224. -24\n",
       "225. -23\n",
       "226. -24\n",
       "227. -23\n",
       "228. -22\n",
       "229. -21\n",
       "230. -22\n",
       "231. -21\n",
       "232. -22\n",
       "233. -23\n",
       "234. -22\n",
       "235. -23\n",
       "236. -24\n",
       "237. -23\n",
       "238. -22\n",
       "239. -21\n",
       "240. -22\n",
       "241. -23\n",
       "242. -22\n",
       "243. -21\n",
       "244. -20\n",
       "245. -19\n",
       "246. -18\n",
       "247. -19\n",
       "248. -20\n",
       "249. -21\n",
       "250. -22\n",
       "251. -21\n",
       "252. -22\n",
       "253. -23\n",
       "254. -24\n",
       "255. -23\n",
       "256. -24\n",
       "257. -25\n",
       "258. -26\n",
       "259. -27\n",
       "260. -28\n",
       "261. -29\n",
       "262. -28\n",
       "263. -27\n",
       "264. -26\n",
       "265. -27\n",
       "266. -28\n",
       "267. -29\n",
       "268. -30\n",
       "269. -31\n",
       "270. -30\n",
       "271. -31\n",
       "272. -30\n",
       "273. -29\n",
       "274. -30\n",
       "275. -31\n",
       "276. -32\n",
       "277. -31\n",
       "278. -32\n",
       "279. -31\n",
       "280. -32\n",
       "281. -33\n",
       "282. -32\n",
       "283. -33\n",
       "284. -34\n",
       "285. -33\n",
       "286. -34\n",
       "287. -35\n",
       "288. -36\n",
       "289. -37\n",
       "290. -38\n",
       "291. -37\n",
       "292. -38\n",
       "293. -39\n",
       "294. -38\n",
       "295. -39\n",
       "296. -38\n",
       "297. -37\n",
       "298. -38\n",
       "299. -37\n",
       "300. -38\n",
       "301. -37\n",
       "302. -38\n",
       "303. -37\n",
       "304. -36\n",
       "305. -35\n",
       "306. -34\n",
       "307. -33\n",
       "308. -34\n",
       "309. -35\n",
       "310. -34\n",
       "311. -33\n",
       "312. -32\n",
       "313. -31\n",
       "314. -30\n",
       "315. -31\n",
       "316. -32\n",
       "317. -33\n",
       "318. -34\n",
       "319. -35\n",
       "320. -34\n",
       "321. -33\n",
       "322. -34\n",
       "323. -35\n",
       "324. -36\n",
       "325. -37\n",
       "326. -36\n",
       "327. -37\n",
       "328. -36\n",
       "329. -37\n",
       "330. -36\n",
       "331. -37\n",
       "332. -36\n",
       "333. -37\n",
       "334. -36\n",
       "335. -35\n",
       "336. -36\n",
       "337. -35\n",
       "338. -34\n",
       "339. -35\n",
       "340. -34\n",
       "341. -35\n",
       "342. -34\n",
       "343. -35\n",
       "344. -36\n",
       "345. -35\n",
       "346. -36\n",
       "347. -35\n",
       "348. -34\n",
       "349. -33\n",
       "350. -32\n",
       "351. -33\n",
       "352. -32\n",
       "353. -31\n",
       "354. -32\n",
       "355. -31\n",
       "356. -30\n",
       "357. -31\n",
       "358. -30\n",
       "359. -31\n",
       "360. -32\n",
       "361. -33\n",
       "362. -34\n",
       "363. -33\n",
       "364. -32\n",
       "365. -31\n",
       "366. -30\n",
       "367. -29\n",
       "368. -30\n",
       "369. -29\n",
       "370. -30\n",
       "371. -29\n",
       "372. -28\n",
       "373. -27\n",
       "374. -28\n",
       "375. -29\n",
       "376. -30\n",
       "377. -29\n",
       "378. -28\n",
       "379. -27\n",
       "380. -26\n",
       "381. -27\n",
       "382. -26\n",
       "383. -25\n",
       "384. -24\n",
       "385. -25\n",
       "386. -26\n",
       "387. -27\n",
       "388. -28\n",
       "389. -27\n",
       "390. -28\n",
       "391. -27\n",
       "392. -28\n",
       "393. -27\n",
       "394. -26\n",
       "395. -25\n",
       "396. -24\n",
       "397. -25\n",
       "398. -26\n",
       "399. -27\n",
       "400. -28\n",
       "401. -27\n",
       "402. -28\n",
       "403. -27\n",
       "404. -28\n",
       "405. -29\n",
       "406. -28\n",
       "407. -27\n",
       "408. -28\n",
       "409. -29\n",
       "410. -30\n",
       "411. -31\n",
       "412. -30\n",
       "413. -31\n",
       "414. -30\n",
       "415. -31\n",
       "416. -30\n",
       "417. -31\n",
       "418. -30\n",
       "419. -29\n",
       "420. -30\n",
       "421. -31\n",
       "422. -32\n",
       "423. -33\n",
       "424. -34\n",
       "425. -33\n",
       "426. -34\n",
       "427. -35\n",
       "428. -36\n",
       "429. -37\n",
       "430. -38\n",
       "431. -37\n",
       "432. -36\n",
       "433. -37\n",
       "434. -38\n",
       "435. -39\n",
       "436. -40\n",
       "437. -41\n",
       "438. -42\n",
       "439. -41\n",
       "440. -42\n",
       "441. -43\n",
       "442. -44\n",
       "443. -45\n",
       "444. -46\n",
       "445. -45\n",
       "446. -44\n",
       "447. -43\n",
       "448. -42\n",
       "449. -43\n",
       "450. -44\n",
       "451. -43\n",
       "452. -44\n",
       "453. -43\n",
       "454. -42\n",
       "455. -41\n",
       "456. -42\n",
       "457. -41\n",
       "458. -40\n",
       "459. -41\n",
       "460. -42\n",
       "461. -43\n",
       "462. -42\n",
       "463. -43\n",
       "464. -44\n",
       "465. -45\n",
       "466. -44\n",
       "467. -43\n",
       "468. -44\n",
       "469. -45\n",
       "470. -46\n",
       "471. -45\n",
       "472. -44\n",
       "473. -45\n",
       "474. -44\n",
       "475. -43\n",
       "476. -42\n",
       "477. -43\n",
       "478. -44\n",
       "479. -45\n",
       "480. -46\n",
       "481. -45\n",
       "482. -46\n",
       "483. -45\n",
       "484. -46\n",
       "485. -47\n",
       "486. -48\n",
       "487. -47\n",
       "488. -48\n",
       "489. -47\n",
       "490. -46\n",
       "491. -45\n",
       "492. -44\n",
       "493. -45\n",
       "494. -46\n",
       "495. -47\n",
       "496. -48\n",
       "497. -47\n",
       "498. -46\n",
       "499. -45\n",
       "500. -46\n",
       "501. -47\n",
       "502. -48\n",
       "503. -47\n",
       "504. -48\n",
       "505. -49\n",
       "506. -48\n",
       "507. -47\n",
       "508. -46\n",
       "509. -47\n",
       "510. -48\n",
       "511. -47\n",
       "512. -46\n",
       "513. -47\n",
       "514. -48\n",
       "515. -47\n",
       "516. -46\n",
       "517. -45\n",
       "518. -46\n",
       "519. -45\n",
       "520. -44\n",
       "521. -45\n",
       "522. -46\n",
       "523. -45\n",
       "524. -44\n",
       "525. -45\n",
       "526. -46\n",
       "527. -45\n",
       "528. -46\n",
       "529. -47\n",
       "530. -46\n",
       "531. -47\n",
       "532. -46\n",
       "533. -47\n",
       "534. -48\n",
       "535. -49\n",
       "536. -48\n",
       "537. -47\n",
       "538. -48\n",
       "539. -49\n",
       "540. -50\n",
       "541. -49\n",
       "542. -48\n",
       "543. -47\n",
       "544. -48\n",
       "545. -47\n",
       "546. -48\n",
       "547. -49\n",
       "548. -48\n",
       "549. -49\n",
       "550. -48\n",
       "551. -49\n",
       "552. -48\n",
       "553. -49\n",
       "554. -50\n",
       "555. -49\n",
       "556. -50\n",
       "557. -51\n",
       "558. -52\n",
       "559. -51\n",
       "560. -50\n",
       "561. -51\n",
       "562. -50\n",
       "563. -51\n",
       "564. -52\n",
       "565. -51\n",
       "566. -52\n",
       "567. -51\n",
       "568. -52\n",
       "569. -53\n",
       "570. -54\n",
       "571. -55\n",
       "572. -56\n",
       "573. -57\n",
       "574. -58\n",
       "575. -57\n",
       "576. -58\n",
       "577. -57\n",
       "578. -58\n",
       "579. -57\n",
       "580. -56\n",
       "581. -57\n",
       "582. -56\n",
       "583. -55\n",
       "584. -54\n",
       "585. -53\n",
       "586. -54\n",
       "587. -55\n",
       "588. -56\n",
       "589. -55\n",
       "590. -56\n",
       "591. -57\n",
       "592. -56\n",
       "593. -57\n",
       "594. -58\n",
       "595. -59\n",
       "596. -60\n",
       "597. -61\n",
       "598. -60\n",
       "599. -61\n",
       "600. -60\n",
       "601. -59\n",
       "602. -60\n",
       "603. -61\n",
       "604. -62\n",
       "605. -63\n",
       "606. -62\n",
       "607. -63\n",
       "608. -64\n",
       "609. -63\n",
       "610. -62\n",
       "611. -61\n",
       "612. -62\n",
       "613. -63\n",
       "614. -64\n",
       "615. -63\n",
       "616. -62\n",
       "617. -63\n",
       "618. -64\n",
       "619. -65\n",
       "620. -66\n",
       "621. -65\n",
       "622. -66\n",
       "623. -67\n",
       "624. -68\n",
       "625. -67\n",
       "626. -66\n",
       "627. -67\n",
       "628. -66\n",
       "629. -65\n",
       "630. -66\n",
       "631. -67\n",
       "632. -66\n",
       "633. -67\n",
       "634. -68\n",
       "635. -69\n",
       "636. -70\n",
       "637. -71\n",
       "638. -72\n",
       "639. -73\n",
       "640. -74\n",
       "641. -73\n",
       "642. -72\n",
       "643. -73\n",
       "644. -72\n",
       "645. -73\n",
       "646. -74\n",
       "647. -73\n",
       "648. -72\n",
       "649. -73\n",
       "650. -74\n",
       "651. -73\n",
       "652. -74\n",
       "653. -73\n",
       "654. -74\n",
       "655. -73\n",
       "656. -72\n",
       "657. -71\n",
       "658. -72\n",
       "659. -73\n",
       "660. -74\n",
       "661. -73\n",
       "662. -72\n",
       "663. -73\n",
       "664. -72\n",
       "665. -71\n",
       "666. -72\n",
       "667. -71\n",
       "668. -70\n",
       "669. -69\n",
       "670. -68\n",
       "671. -69\n",
       "672. -68\n",
       "673. -69\n",
       "674. -68\n",
       "675. -67\n",
       "676. -68\n",
       "677. -67\n",
       "678. -66\n",
       "679. -67\n",
       "680. -68\n",
       "681. -67\n",
       "682. -66\n",
       "683. -67\n",
       "684. -66\n",
       "685. -67\n",
       "686. -68\n",
       "687. -69\n",
       "688. -68\n",
       "689. -67\n",
       "690. -66\n",
       "691. -67\n",
       "692. -68\n",
       "693. -69\n",
       "694. -70\n",
       "695. -69\n",
       "696. -70\n",
       "697. -71\n",
       "698. -72\n",
       "699. -71\n",
       "700. -70\n",
       "701. -71\n",
       "702. -70\n",
       "703. -69\n",
       "704. -70\n",
       "705. -71\n",
       "706. -72\n",
       "707. -71\n",
       "708. -70\n",
       "709. -71\n",
       "710. -72\n",
       "711. -73\n",
       "712. -74\n",
       "713. -75\n",
       "714. -76\n",
       "715. -75\n",
       "716. -76\n",
       "717. -75\n",
       "718. -74\n",
       "719. -75\n",
       "720. -74\n",
       "721. -75\n",
       "722. -74\n",
       "723. -75\n",
       "724. -76\n",
       "725. -77\n",
       "726. -76\n",
       "727. -75\n",
       "728. -76\n",
       "729. -75\n",
       "730. -74\n",
       "731. -73\n",
       "732. -74\n",
       "733. -73\n",
       "734. -72\n",
       "735. -71\n",
       "736. -72\n",
       "737. -73\n",
       "738. -72\n",
       "739. -73\n",
       "740. -72\n",
       "741. -71\n",
       "742. -70\n",
       "743. -69\n",
       "744. -70\n",
       "745. -69\n",
       "746. -70\n",
       "747. -71\n",
       "748. -72\n",
       "749. -71\n",
       "750. -70\n",
       "751. -69\n",
       "752. -68\n",
       "753. -69\n",
       "754. -70\n",
       "755. -71\n",
       "756. -72\n",
       "757. -71\n",
       "758. -72\n",
       "759. -71\n",
       "760. -72\n",
       "761. -73\n",
       "762. -72\n",
       "763. -73\n",
       "764. -74\n",
       "765. -73\n",
       "766. -74\n",
       "767. -75\n",
       "768. -74\n",
       "769. -75\n",
       "770. -74\n",
       "771. -73\n",
       "772. -72\n",
       "773. -71\n",
       "774. -72\n",
       "775. -73\n",
       "776. -72\n",
       "777. -71\n",
       "778. -70\n",
       "779. -69\n",
       "780. -68\n",
       "781. -67\n",
       "782. -66\n",
       "783. -67\n",
       "784. -68\n",
       "785. -67\n",
       "786. -68\n",
       "787. -67\n",
       "788. -68\n",
       "789. -67\n",
       "790. -66\n",
       "791. -67\n",
       "792. -68\n",
       "793. -69\n",
       "794. -70\n",
       "795. -69\n",
       "796. -70\n",
       "797. -71\n",
       "798. -70\n",
       "799. -71\n",
       "800. -72\n",
       "801. -71\n",
       "802. -70\n",
       "803. -69\n",
       "804. -68\n",
       "805. -69\n",
       "806. -70\n",
       "807. -71\n",
       "808. -70\n",
       "809. -71\n",
       "810. -70\n",
       "811. -69\n",
       "812. -68\n",
       "813. -67\n",
       "814. -68\n",
       "815. -69\n",
       "816. -68\n",
       "817. -69\n",
       "818. -70\n",
       "819. -71\n",
       "820. -72\n",
       "821. -71\n",
       "822. -72\n",
       "823. -73\n",
       "824. -74\n",
       "825. -73\n",
       "826. -74\n",
       "827. -75\n",
       "828. -74\n",
       "829. -73\n",
       "830. -74\n",
       "831. -75\n",
       "832. -76\n",
       "833. -77\n",
       "834. -78\n",
       "835. -77\n",
       "836. -76\n",
       "837. -75\n",
       "838. -74\n",
       "839. -73\n",
       "840. -74\n",
       "841. -73\n",
       "842. -72\n",
       "843. -73\n",
       "844. -72\n",
       "845. -71\n",
       "846. -72\n",
       "847. -71\n",
       "848. -70\n",
       "849. -69\n",
       "850. -70\n",
       "851. -69\n",
       "852. -68\n",
       "853. -67\n",
       "854. -66\n",
       "855. -65\n",
       "856. -64\n",
       "857. -65\n",
       "858. -64\n",
       "859. -65\n",
       "860. -64\n",
       "861. -65\n",
       "862. -64\n",
       "863. -65\n",
       "864. -64\n",
       "865. -65\n",
       "866. -64\n",
       "867. -63\n",
       "868. -62\n",
       "869. -61\n",
       "870. -62\n",
       "871. -63\n",
       "872. -64\n",
       "873. -63\n",
       "874. -62\n",
       "875. -63\n",
       "876. -64\n",
       "877. -63\n",
       "878. -62\n",
       "879. -61\n",
       "880. -62\n",
       "881. -63\n",
       "882. -64\n",
       "883. -63\n",
       "884. -64\n",
       "885. -63\n",
       "886. -64\n",
       "887. -65\n",
       "888. -66\n",
       "889. -65\n",
       "890. -64\n",
       "891. -65\n",
       "892. -66\n",
       "893. -65\n",
       "894. -66\n",
       "895. -67\n",
       "896. -68\n",
       "897. -67\n",
       "898. -68\n",
       "899. -69\n",
       "900. -70\n",
       "901. -71\n",
       "902. -70\n",
       "903. -71\n",
       "904. -70\n",
       "905. -71\n",
       "906. -72\n",
       "907. -73\n",
       "908. -72\n",
       "909. -71\n",
       "910. -72\n",
       "911. -73\n",
       "912. -72\n",
       "913. -71\n",
       "914. -72\n",
       "915. -71\n",
       "916. -72\n",
       "917. -71\n",
       "918. -70\n",
       "919. -69\n",
       "920. -68\n",
       "921. -69\n",
       "922. -68\n",
       "923. -67\n",
       "924. -66\n",
       "925. -67\n",
       "926. -68\n",
       "927. -67\n",
       "928. -68\n",
       "929. -67\n",
       "930. -68\n",
       "931. -67\n",
       "932. -66\n",
       "933. -65\n",
       "934. -64\n",
       "935. -63\n",
       "936. -64\n",
       "937. -63\n",
       "938. -64\n",
       "939. -63\n",
       "940. -62\n",
       "941. -63\n",
       "942. -62\n",
       "943. -63\n",
       "944. -62\n",
       "945. -61\n",
       "946. -62\n",
       "947. -63\n",
       "948. -64\n",
       "949. -65\n",
       "950. -66\n",
       "951. -67\n",
       "952. -68\n",
       "953. -67\n",
       "954. -66\n",
       "955. -65\n",
       "956. -66\n",
       "957. -67\n",
       "958. -66\n",
       "959. -67\n",
       "960. -68\n",
       "961. -69\n",
       "962. -68\n",
       "963. -69\n",
       "964. -70\n",
       "965. -69\n",
       "966. -68\n",
       "967. -67\n",
       "968. -66\n",
       "969. -65\n",
       "970. -66\n",
       "971. -65\n",
       "972. -64\n",
       "973. -65\n",
       "974. -64\n",
       "975. -65\n",
       "976. -64\n",
       "977. -63\n",
       "978. -62\n",
       "979. -63\n",
       "980. -64\n",
       "981. -65\n",
       "982. -66\n",
       "983. -65\n",
       "984. -64\n",
       "985. -65\n",
       "986. -66\n",
       "987. -67\n",
       "988. -68\n",
       "989. -67\n",
       "990. -66\n",
       "991. -67\n",
       "992. -66\n",
       "993. -65\n",
       "994. -64\n",
       "995. -63\n",
       "996. -62\n",
       "997. -61\n",
       "998. -60\n",
       "999. -59\n",
       "1000. -60\n",
       "\n",
       "\n"
      ],
      "text/plain": [
       "   [1]  -1  -2  -1  -2  -1  -2  -3  -4  -3  -2  -1   0  -1   0  -1  -2  -1   0\n",
       "  [19]   1   0  -1  -2  -1   0  -1   0  -1  -2  -1  -2  -3  -2  -3  -2  -1  -2\n",
       "  [37]  -1  -2  -3  -4  -5  -6  -7  -6  -7  -8  -7  -8  -7  -6  -7  -6  -5  -6\n",
       "  [55]  -5  -6  -7  -6  -7  -6  -7  -6  -5  -6  -5  -4  -3  -4  -3  -4  -5  -4\n",
       "  [73]  -3  -2  -1  -2  -3  -4  -3  -2  -1  -2  -3  -2  -3  -4  -3  -4  -5  -4\n",
       "  [91]  -3  -4  -5  -6  -7  -6  -5  -6  -7  -8  -7  -6  -5  -4  -3  -4  -5  -4\n",
       " [109]  -5  -4  -3  -2  -3  -4  -5  -4  -3  -4  -3  -2  -1  -2  -3  -4  -5  -6\n",
       " [127]  -5  -4  -5  -6  -5  -4  -5  -4  -5  -4  -5  -4  -5  -4  -3  -2  -1   0\n",
       " [145]  -1   0  -1  -2  -3  -2  -3  -4  -5  -6  -5  -6  -7  -8  -9  -8  -9 -10\n",
       " [163] -11 -10  -9  -8  -9 -10 -11 -10 -11 -10 -11 -12 -13 -12 -13 -12 -13 -12\n",
       " [181] -13 -12 -11 -12 -13 -12 -13 -12 -13 -14 -13 -12 -13 -12 -13 -14 -15 -16\n",
       " [199] -17 -18 -19 -20 -21 -22 -21 -22 -21 -20 -21 -20 -21 -20 -19 -20 -19 -20\n",
       " [217] -21 -22 -23 -22 -21 -22 -23 -24 -23 -24 -23 -22 -21 -22 -21 -22 -23 -22\n",
       " [235] -23 -24 -23 -22 -21 -22 -23 -22 -21 -20 -19 -18 -19 -20 -21 -22 -21 -22\n",
       " [253] -23 -24 -23 -24 -25 -26 -27 -28 -29 -28 -27 -26 -27 -28 -29 -30 -31 -30\n",
       " [271] -31 -30 -29 -30 -31 -32 -31 -32 -31 -32 -33 -32 -33 -34 -33 -34 -35 -36\n",
       " [289] -37 -38 -37 -38 -39 -38 -39 -38 -37 -38 -37 -38 -37 -38 -37 -36 -35 -34\n",
       " [307] -33 -34 -35 -34 -33 -32 -31 -30 -31 -32 -33 -34 -35 -34 -33 -34 -35 -36\n",
       " [325] -37 -36 -37 -36 -37 -36 -37 -36 -37 -36 -35 -36 -35 -34 -35 -34 -35 -34\n",
       " [343] -35 -36 -35 -36 -35 -34 -33 -32 -33 -32 -31 -32 -31 -30 -31 -30 -31 -32\n",
       " [361] -33 -34 -33 -32 -31 -30 -29 -30 -29 -30 -29 -28 -27 -28 -29 -30 -29 -28\n",
       " [379] -27 -26 -27 -26 -25 -24 -25 -26 -27 -28 -27 -28 -27 -28 -27 -26 -25 -24\n",
       " [397] -25 -26 -27 -28 -27 -28 -27 -28 -29 -28 -27 -28 -29 -30 -31 -30 -31 -30\n",
       " [415] -31 -30 -31 -30 -29 -30 -31 -32 -33 -34 -33 -34 -35 -36 -37 -38 -37 -36\n",
       " [433] -37 -38 -39 -40 -41 -42 -41 -42 -43 -44 -45 -46 -45 -44 -43 -42 -43 -44\n",
       " [451] -43 -44 -43 -42 -41 -42 -41 -40 -41 -42 -43 -42 -43 -44 -45 -44 -43 -44\n",
       " [469] -45 -46 -45 -44 -45 -44 -43 -42 -43 -44 -45 -46 -45 -46 -45 -46 -47 -48\n",
       " [487] -47 -48 -47 -46 -45 -44 -45 -46 -47 -48 -47 -46 -45 -46 -47 -48 -47 -48\n",
       " [505] -49 -48 -47 -46 -47 -48 -47 -46 -47 -48 -47 -46 -45 -46 -45 -44 -45 -46\n",
       " [523] -45 -44 -45 -46 -45 -46 -47 -46 -47 -46 -47 -48 -49 -48 -47 -48 -49 -50\n",
       " [541] -49 -48 -47 -48 -47 -48 -49 -48 -49 -48 -49 -48 -49 -50 -49 -50 -51 -52\n",
       " [559] -51 -50 -51 -50 -51 -52 -51 -52 -51 -52 -53 -54 -55 -56 -57 -58 -57 -58\n",
       " [577] -57 -58 -57 -56 -57 -56 -55 -54 -53 -54 -55 -56 -55 -56 -57 -56 -57 -58\n",
       " [595] -59 -60 -61 -60 -61 -60 -59 -60 -61 -62 -63 -62 -63 -64 -63 -62 -61 -62\n",
       " [613] -63 -64 -63 -62 -63 -64 -65 -66 -65 -66 -67 -68 -67 -66 -67 -66 -65 -66\n",
       " [631] -67 -66 -67 -68 -69 -70 -71 -72 -73 -74 -73 -72 -73 -72 -73 -74 -73 -72\n",
       " [649] -73 -74 -73 -74 -73 -74 -73 -72 -71 -72 -73 -74 -73 -72 -73 -72 -71 -72\n",
       " [667] -71 -70 -69 -68 -69 -68 -69 -68 -67 -68 -67 -66 -67 -68 -67 -66 -67 -66\n",
       " [685] -67 -68 -69 -68 -67 -66 -67 -68 -69 -70 -69 -70 -71 -72 -71 -70 -71 -70\n",
       " [703] -69 -70 -71 -72 -71 -70 -71 -72 -73 -74 -75 -76 -75 -76 -75 -74 -75 -74\n",
       " [721] -75 -74 -75 -76 -77 -76 -75 -76 -75 -74 -73 -74 -73 -72 -71 -72 -73 -72\n",
       " [739] -73 -72 -71 -70 -69 -70 -69 -70 -71 -72 -71 -70 -69 -68 -69 -70 -71 -72\n",
       " [757] -71 -72 -71 -72 -73 -72 -73 -74 -73 -74 -75 -74 -75 -74 -73 -72 -71 -72\n",
       " [775] -73 -72 -71 -70 -69 -68 -67 -66 -67 -68 -67 -68 -67 -68 -67 -66 -67 -68\n",
       " [793] -69 -70 -69 -70 -71 -70 -71 -72 -71 -70 -69 -68 -69 -70 -71 -70 -71 -70\n",
       " [811] -69 -68 -67 -68 -69 -68 -69 -70 -71 -72 -71 -72 -73 -74 -73 -74 -75 -74\n",
       " [829] -73 -74 -75 -76 -77 -78 -77 -76 -75 -74 -73 -74 -73 -72 -73 -72 -71 -72\n",
       " [847] -71 -70 -69 -70 -69 -68 -67 -66 -65 -64 -65 -64 -65 -64 -65 -64 -65 -64\n",
       " [865] -65 -64 -63 -62 -61 -62 -63 -64 -63 -62 -63 -64 -63 -62 -61 -62 -63 -64\n",
       " [883] -63 -64 -63 -64 -65 -66 -65 -64 -65 -66 -65 -66 -67 -68 -67 -68 -69 -70\n",
       " [901] -71 -70 -71 -70 -71 -72 -73 -72 -71 -72 -73 -72 -71 -72 -71 -72 -71 -70\n",
       " [919] -69 -68 -69 -68 -67 -66 -67 -68 -67 -68 -67 -68 -67 -66 -65 -64 -63 -64\n",
       " [937] -63 -64 -63 -62 -63 -62 -63 -62 -61 -62 -63 -64 -65 -66 -67 -68 -67 -66\n",
       " [955] -65 -66 -67 -66 -67 -68 -69 -68 -69 -70 -69 -68 -67 -66 -65 -66 -65 -64\n",
       " [973] -65 -64 -65 -64 -63 -62 -63 -64 -65 -66 -65 -64 -65 -66 -67 -68 -67 -66\n",
       " [991] -67 -66 -65 -64 -63 -62 -61 -60 -59 -60"
      ]
     },
     "metadata": {},
     "output_type": "display_data"
    },
    {
     "data": {
      "image/png": "[encoded data removed]",
      "text/plain": [
       "plot without title"
      ]
     },
     "metadata": {},
     "output_type": "display_data"
    }
   ],
   "source": [
    "################################\n",
    "tossingcoin <- sample(c(-1,1), 1000, replace = TRUE)\n",
    "cumsum(tossingcoin)\n",
    "plot(cumsum(tossingcoin), type = 's')"
   ]
  },
  {
   "cell_type": "code",
   "execution_count": 686,
   "metadata": {},
   "outputs": [
    {
     "data": {
      "text/plain": [
       "Time Series:\n",
       "Start = 192 \n",
       "End = 205 \n",
       "Frequency = 1 \n",
       "           fit\n",
       " [1,] 4.579675\n",
       " [2,] 4.588169\n",
       " [3,] 4.596664\n",
       " [4,] 4.605158\n",
       " [5,] 4.613652\n",
       " [6,] 4.622147\n",
       " [7,] 4.630641\n",
       " [8,] 4.639135\n",
       " [9,] 4.647629\n",
       "[10,] 4.656124\n",
       "[11,] 4.664618\n",
       "[12,] 4.673112\n",
       "[13,] 4.681606\n",
       "[14,] 4.690101"
      ]
     },
     "metadata": {},
     "output_type": "display_data"
    },
    {
     "data": {
      "image/png": "[encoded data removed]",
      "text/plain": [
       "Plot with title \"Holt-Winters filtering\""
      ]
     },
     "metadata": {},
     "output_type": "display_data"
    }
   ],
   "source": [
    "################################\n",
    "pred <- predict(hw, n.ahead = 14, prediction.interval = FALSE)\n",
    "#estimate the 14 predictions ahead\n",
    "pred #obtain the predictions\n",
    "plot(hw, pred) #obtain the graph\n",
    "#the red line shows the predicted values while the black line\n",
    "#indicates the stock price evolution"
   ]
  },
  {
   "cell_type": "code",
   "execution_count": 687,
   "metadata": {},
   "outputs": [
    {
     "data": {
      "text/plain": [
       "0.03922911 with absolute error < 4.4e-16"
      ]
     },
     "metadata": {},
     "output_type": "display_data"
    }
   ],
   "source": [
    "################################\n",
    "alpha = 8\n",
    "beta = 1\n",
    "gamma = factorial(alpha - 1)\n",
    "a = 3\n",
    "b = 4\n",
    "f = function(x){(x^(alpha-1)*exp(-x/beta))/(beta ^ alpha *\n",
    "                                              gamma)}\n",
    "integrate(f,a,b)"
   ]
  },
  {
   "cell_type": "code",
   "execution_count": 688,
   "metadata": {},
   "outputs": [
    {
     "data": {
      "text/plain": [
       "\n",
       "\tChi-squared test for given probabilities\n",
       "\n",
       "data:  observed\n",
       "X-squared = 9.8611, df = 3, p-value = 0.01978\n"
      ]
     },
     "metadata": {},
     "output_type": "display_data"
    }
   ],
   "source": [
    "################################\n",
    "observed <- c(200,150,350,20)\n",
    "prob <- c(0.25,0.20,0.50,0.05)\n",
    "chisq.test(observed,p=prob)"
   ]
  },
  {
   "cell_type": "code",
   "execution_count": 689,
   "metadata": {
    "scrolled": true
   },
   "outputs": [
    {
     "data": {
      "text/plain": [
       "xcut\n",
       "[20,30) [30,40) [40,50) [50,60) \n",
       "      3       4       3       1 "
      ]
     },
     "metadata": {},
     "output_type": "display_data"
    }
   ],
   "source": [
    "################################\n",
    "x <- c(23, 27, 29, 35, 37, 37, 39, 40, 42, 45, 51)\n",
    "breaks = seq(20,60,by=10)\n",
    "xcut = cut(x,breaks,right=FALSE)\n",
    "freq = table(xcut)\n",
    "freq"
   ]
  },
  {
   "cell_type": "code",
   "execution_count": 690,
   "metadata": {},
   "outputs": [
    {
     "data": {
      "text/plain": [
       "\n",
       "Call:\n",
       "lm(formula = y ~ x)\n",
       "\n",
       "Coefficients:\n",
       "(Intercept)            x  \n",
       "      8.894        2.851  \n"
      ]
     },
     "metadata": {},
     "output_type": "display_data"
    },
    {
     "data": {
      "text/plain": [
       "\n",
       "Call:\n",
       "lm(formula = y ~ x)\n",
       "\n",
       "Coefficients:\n",
       "(Intercept)            x  \n",
       "      -2.35         5.85  \n"
      ]
     },
     "metadata": {},
     "output_type": "display_data"
    },
    {
     "data": {
      "text/html": [
       "<strong>x:</strong> 120.5"
      ],
      "text/latex": [
       "\\textbf{x:} 120.5"
      ],
      "text/markdown": [
       "**x:** 120.5"
      ],
      "text/plain": [
       "    x \n",
       "120.5 "
      ]
     },
     "metadata": {},
     "output_type": "display_data"
    }
   ],
   "source": [
    "################################\n",
    "x <- c(1,2,8,13)\n",
    "y <- c(10,15,35,44)\n",
    "t_line = lm(y ~ x)\n",
    "t_line\n",
    "x <- c(3,5,7,9)\n",
    "y <- c(17,23,41,50)\n",
    "t_line = lm(y ~ x)\n",
    "t_line\n",
    "#form yhat = mx + b\n",
    "#form yhat = b1*x + b0\n",
    "coeffs = coefficients(t_line)\n",
    "b0 = coeffs[1]\n",
    "b1 = coeffs[2]\n",
    "b1 * 21 + b0"
   ]
  },
  {
   "cell_type": "code",
   "execution_count": 691,
   "metadata": {},
   "outputs": [
    {
     "data": {
      "text/html": [
       "<table>\n",
       "<tbody>\n",
       "\t<tr><td>-1</td></tr>\n",
       "\t<tr><td> 3</td></tr>\n",
       "</tbody>\n",
       "</table>\n"
      ],
      "text/latex": [
       "\\begin{tabular}{l}\n",
       "\t -1\\\\\n",
       "\t  3\\\\\n",
       "\\end{tabular}\n"
      ],
      "text/markdown": [
       "\n",
       "| -1 | \n",
       "|  3 | \n",
       "\n",
       "\n"
      ],
      "text/plain": [
       "     [,1]\n",
       "[1,] -1  \n",
       "[2,]  3  "
      ]
     },
     "metadata": {},
     "output_type": "display_data"
    }
   ],
   "source": [
    "################################\n",
    "one <- c(1,1)\n",
    "xval <- c(1,2)\n",
    "yval <- c(2,5)\n",
    "X <- matrix(c(one,xval),nrow=2,ncol=2)\n",
    "Y <- matrix(c(yval),nrow=2,ncol=1)\n",
    "solve(t(X) %*% X) %*% t(X) %*% Y"
   ]
  },
  {
   "cell_type": "code",
   "execution_count": 692,
   "metadata": {},
   "outputs": [
    {
     "data": {
      "text/html": [
       "<table>\n",
       "<tbody>\n",
       "\t<tr><td>-1</td></tr>\n",
       "\t<tr><td> 2</td></tr>\n",
       "\t<tr><td> 4</td></tr>\n",
       "</tbody>\n",
       "</table>\n"
      ],
      "text/latex": [
       "\\begin{tabular}{l}\n",
       "\t -1\\\\\n",
       "\t  2\\\\\n",
       "\t  4\\\\\n",
       "\\end{tabular}\n"
      ],
      "text/markdown": [
       "\n",
       "| -1 | \n",
       "|  2 | \n",
       "|  4 | \n",
       "\n",
       "\n"
      ],
      "text/plain": [
       "     [,1]\n",
       "[1,] -1  \n",
       "[2,]  2  \n",
       "[3,]  4  "
      ]
     },
     "metadata": {},
     "output_type": "display_data"
    }
   ],
   "source": [
    "################################\n",
    "one <- c(1,1,1)\n",
    "x1val <- c(1,4,3)\n",
    "x2val <- c(2,-1,1)\n",
    "yval <- c(9,3,9)\n",
    "X <- matrix(c(one,x1val,x2val),nrow=3,ncol=3)\n",
    "Y <- matrix(c(yval),nrow=3,ncol=1)\n",
    "solve(t(X) %*% X) %*% t(X) %*% Y"
   ]
  },
  {
   "cell_type": "code",
   "execution_count": 693,
   "metadata": {},
   "outputs": [
    {
     "data": {
      "text/html": [
       "<table>\n",
       "<tbody>\n",
       "\t<tr><td>1.666667</td></tr>\n",
       "\t<tr><td>1.000000</td></tr>\n",
       "</tbody>\n",
       "</table>\n"
      ],
      "text/latex": [
       "\\begin{tabular}{l}\n",
       "\t 1.666667\\\\\n",
       "\t 1.000000\\\\\n",
       "\\end{tabular}\n"
      ],
      "text/markdown": [
       "\n",
       "| 1.666667 | \n",
       "| 1.000000 | \n",
       "\n",
       "\n"
      ],
      "text/plain": [
       "     [,1]    \n",
       "[1,] 1.666667\n",
       "[2,] 1.000000"
      ]
     },
     "metadata": {},
     "output_type": "display_data"
    },
    {
     "data": {
      "text/html": [
       "<table>\n",
       "<tbody>\n",
       "\t<tr><td>2.666667</td></tr>\n",
       "</tbody>\n",
       "</table>\n"
      ],
      "text/latex": [
       "\\begin{tabular}{l}\n",
       "\t 2.666667\\\\\n",
       "\\end{tabular}\n"
      ],
      "text/markdown": [
       "\n",
       "| 2.666667 | \n",
       "\n",
       "\n"
      ],
      "text/plain": [
       "     [,1]    \n",
       "[1,] 2.666667"
      ]
     },
     "metadata": {},
     "output_type": "display_data"
    }
   ],
   "source": [
    "################################\n",
    "one <- c(1,1,1)\n",
    "xval <- c(1,2,3)\n",
    "yval <- c(2,5,4)\n",
    "X <- matrix(c(one,xval),nrow=3,ncol=2)\n",
    "Y <- matrix(c(yval),nrow=3,ncol=1)\n",
    "betahat = solve(t(X) %*% X) %*% t(X) %*% Y\n",
    "betahat\n",
    "SSE = t(Y) %*% Y - t(betahat) %*% t(X) %*% Y\n",
    "SSE"
   ]
  },
  {
   "cell_type": "code",
   "execution_count": 694,
   "metadata": {},
   "outputs": [
    {
     "data": {
      "text/html": [
       "24.3"
      ],
      "text/latex": [
       "24.3"
      ],
      "text/markdown": [
       "24.3"
      ],
      "text/plain": [
       "[1] 24.3"
      ]
     },
     "metadata": {},
     "output_type": "display_data"
    }
   ],
   "source": [
    "\n",
    "################################\n",
    "x <- c(3,5,7,9)\n",
    "y <- c(17,23,41,50)\n",
    "t_line = lm(y ~ x)\n",
    "coeffs = coefficients(t_line)\n",
    "b0 = coeffs[1]\n",
    "b1 = coeffs[2]\n",
    "# form: yhat = b1(x) + b0\n",
    "yhat = b1 * x + b0\n",
    "# (y - yhat)^2 and then sum them\n",
    "sum((y-yhat)^2)"
   ]
  },
  {
   "cell_type": "code",
   "execution_count": 695,
   "metadata": {
    "scrolled": false
   },
   "outputs": [
    {
     "data": {
      "image/png": "[encoded data removed]",
      "text/plain": [
       "Plot with title \"Histogram of x\""
      ]
     },
     "metadata": {},
     "output_type": "display_data"
    }
   ],
   "source": [
    "################################\n",
    "x <- c(40,51,53,55,65,67,69,70,72,75,76,81,83,99)\n",
    "hist(x)"
   ]
  },
  {
   "cell_type": "code",
   "execution_count": 696,
   "metadata": {},
   "outputs": [
    {
     "data": {
      "text/html": [
       "<ol class=list-inline>\n",
       "\t<li>14.5</li>\n",
       "\t<li>24.5</li>\n",
       "\t<li>34.5</li>\n",
       "\t<li>44.5</li>\n",
       "</ol>\n"
      ],
      "text/latex": [
       "\\begin{enumerate*}\n",
       "\\item 14.5\n",
       "\\item 24.5\n",
       "\\item 34.5\n",
       "\\item 44.5\n",
       "\\end{enumerate*}\n"
      ],
      "text/markdown": [
       "1. 14.5\n",
       "2. 24.5\n",
       "3. 34.5\n",
       "4. 44.5\n",
       "\n",
       "\n"
      ],
      "text/plain": [
       "[1] 14.5 24.5 34.5 44.5"
      ]
     },
     "metadata": {},
     "output_type": "display_data"
    }
   ],
   "source": [
    "################################\n",
    "lcl <- c(10,20,30,40)\n",
    "ucl <- c(19,29,39,49)\n",
    "midpoints = (lcl + ucl)/2\n",
    "midpoints"
   ]
  },
  {
   "cell_type": "code",
   "execution_count": 697,
   "metadata": {},
   "outputs": [
    {
     "data": {
      "text/html": [
       "<ol class=list-inline>\n",
       "\t<li>14.5</li>\n",
       "\t<li>24.5</li>\n",
       "\t<li>34.5</li>\n",
       "\t<li>44.5</li>\n",
       "</ol>\n"
      ],
      "text/latex": [
       "\\begin{enumerate*}\n",
       "\\item 14.5\n",
       "\\item 24.5\n",
       "\\item 34.5\n",
       "\\item 44.5\n",
       "\\end{enumerate*}\n"
      ],
      "text/markdown": [
       "1. 14.5\n",
       "2. 24.5\n",
       "3. 34.5\n",
       "4. 44.5\n",
       "\n",
       "\n"
      ],
      "text/plain": [
       "[1] 14.5 24.5 34.5 44.5"
      ]
     },
     "metadata": {},
     "output_type": "display_data"
    }
   ],
   "source": [
    "################################\n",
    "lcl <- c(10,20,30,40)\n",
    "ucl <- c(19,29,39,49)\n",
    "new_midpoints <- c()\n",
    "for (i in 1:length(lcl))\n",
    "{\n",
    "  new_midpoints[i] = (lcl[i] + ucl[i])/2\n",
    "}\n",
    "new_midpoints"
   ]
  },
  {
   "cell_type": "code",
   "execution_count": 698,
   "metadata": {},
   "outputs": [
    {
     "data": {
      "text/html": [
       "26.7"
      ],
      "text/latex": [
       "26.7"
      ],
      "text/markdown": [
       "26.7"
      ],
      "text/plain": [
       "[1] 26.7"
      ]
     },
     "metadata": {},
     "output_type": "display_data"
    }
   ],
   "source": [
    "################################\n",
    "lcl <- c(10,20,30,40)\n",
    "ucl <- c(19,29,39,49)\n",
    "f <- c(5,31,12,2)\n",
    "x = (lcl+ucl)/2\n",
    "xbar = sum(f * x)/sum(f)\n",
    "xbar"
   ]
  },
  {
   "cell_type": "code",
   "execution_count": 699,
   "metadata": {
    "collapsed": true
   },
   "outputs": [],
   "source": [
    "################################\n",
    "lcl <- c(10,20,30,40)\n",
    "ucl <- c(19,29,39,49)\n",
    "f <- c(5,31,12,2)\n",
    "x <- c()"
   ]
  },
  {
   "cell_type": "code",
   "execution_count": 700,
   "metadata": {},
   "outputs": [
    {
     "name": "stdout",
     "output_type": "stream",
     "text": [
      "[1] 26.7\n"
     ]
    }
   ],
   "source": [
    "################################\n",
    "# create the midpoints\n",
    "for (i in 1:length(lcl))\n",
    "{\n",
    "  x[i] = (lcl[i] + ucl[i])/2\n",
    "}\n",
    "sum_freq = 0\n",
    "sum_ftimesx = 0\n",
    "for (i in 1:length(lcl))\n",
    "{\n",
    "  sum_freq = sum_freq + f[i]\n",
    "  sum_ftimesx = sum_ftimesx + f[i] * x[i]\n",
    "}\n",
    "xbar = sum_ftimesx/sum_freq\n",
    "print(xbar)"
   ]
  },
  {
   "cell_type": "code",
   "execution_count": 701,
   "metadata": {},
   "outputs": [
    {
     "data": {
      "text/html": [
       "26.7"
      ],
      "text/latex": [
       "26.7"
      ],
      "text/markdown": [
       "26.7"
      ],
      "text/plain": [
       "[1] 26.7"
      ]
     },
     "metadata": {},
     "output_type": "display_data"
    },
    {
     "data": {
      "text/html": [
       "6.78834535458098"
      ],
      "text/latex": [
       "6.78834535458098"
      ],
      "text/markdown": [
       "6.78834535458098"
      ],
      "text/plain": [
       "[1] 6.788345"
      ]
     },
     "metadata": {},
     "output_type": "display_data"
    }
   ],
   "source": [
    "################################\n",
    "lcl <- c(10,20,30,40)\n",
    "ucl <- c(19,29,39,49)\n",
    "f <- c(5,31,12,2)\n",
    "x <- (lcl + ucl)/2\n",
    "mean = sum(f * x)/sum(f)\n",
    "mean\n",
    "top_sum = sum((x - mean)^2 * f)\n",
    "sample_stdev = sqrt(top_sum/(sum(f) - 1))\n",
    "sample_stdev"
   ]
  },
  {
   "cell_type": "code",
   "execution_count": 702,
   "metadata": {},
   "outputs": [
    {
     "data": {
      "text/html": [
       "26.7"
      ],
      "text/latex": [
       "26.7"
      ],
      "text/markdown": [
       "26.7"
      ],
      "text/plain": [
       "[1] 26.7"
      ]
     },
     "metadata": {},
     "output_type": "display_data"
    },
    {
     "data": {
      "text/html": [
       "6.72011904656458"
      ],
      "text/latex": [
       "6.72011904656458"
      ],
      "text/markdown": [
       "6.72011904656458"
      ],
      "text/plain": [
       "[1] 6.720119"
      ]
     },
     "metadata": {},
     "output_type": "display_data"
    }
   ],
   "source": [
    "################################\n",
    "lcl <- c(10,20,30,40)\n",
    "ucl <- c(19,29,39,49)\n",
    "f <- c(5,31,12,2)\n",
    "x <- (lcl + ucl)/2\n",
    "mean = sum(f * x)/sum(f)\n",
    "mean\n",
    "top_sum = sum((x - mean)^2 * f)\n",
    "pop_stdev = sqrt(top_sum/sum(f))\n",
    "pop_stdev"
   ]
  },
  {
   "cell_type": "code",
   "execution_count": 703,
   "metadata": {},
   "outputs": [
    {
     "data": {
      "text/html": [
       "26.7"
      ],
      "text/latex": [
       "26.7"
      ],
      "text/markdown": [
       "26.7"
      ],
      "text/plain": [
       "[1] 26.7"
      ]
     },
     "metadata": {},
     "output_type": "display_data"
    },
    {
     "data": {
      "text/html": [
       "6.72011904656458"
      ],
      "text/latex": [
       "6.72011904656458"
      ],
      "text/markdown": [
       "6.72011904656458"
      ],
      "text/plain": [
       "[1] 6.720119"
      ]
     },
     "metadata": {},
     "output_type": "display_data"
    },
    {
     "data": {
      "text/html": [
       "45.16"
      ],
      "text/latex": [
       "45.16"
      ],
      "text/markdown": [
       "45.16"
      ],
      "text/plain": [
       "[1] 45.16"
      ]
     },
     "metadata": {},
     "output_type": "display_data"
    }
   ],
   "source": [
    "################################\n",
    "lcl <- c(10,20,30,40)\n",
    "ucl <- c(19,29,39,49)\n",
    "f <- c(5,31,12,2)\n",
    "x <- (lcl + ucl)/2\n",
    "mean = sum(f * x)/sum(f)\n",
    "mean\n",
    "top_sum = sum((x - mean)^2 * f)\n",
    "pop_stdev = sqrt(top_sum/sum(f))\n",
    "pop_stdev\n",
    "pop_variance = pop_stdev^2\n",
    "pop_variance"
   ]
  },
  {
   "cell_type": "code",
   "execution_count": 704,
   "metadata": {},
   "outputs": [
    {
     "data": {
      "text/html": [
       "67"
      ],
      "text/latex": [
       "67"
      ],
      "text/markdown": [
       "67"
      ],
      "text/plain": [
       "[1] 67"
      ]
     },
     "metadata": {},
     "output_type": "display_data"
    },
    {
     "data": {
      "text/html": [
       "67"
      ],
      "text/latex": [
       "67"
      ],
      "text/markdown": [
       "67"
      ],
      "text/plain": [
       "[1] 67"
      ]
     },
     "metadata": {},
     "output_type": "display_data"
    }
   ],
   "source": [
    "################################\n",
    "weights <- c(0.10,0.20,0.50,0.20)\n",
    "grades <- c(100,80,70,30)\n",
    "course_average = sum(weights * grades)/sum(weights)\n",
    "course_average\n",
    "################################\n",
    "weights <- c(10,20,50,20)\n",
    "grades <- c(100,80,70,30)\n",
    "course_average = sum(weights * grades)/sum(weights)\n",
    "course_average"
   ]
  },
  {
   "cell_type": "code",
   "execution_count": 705,
   "metadata": {},
   "outputs": [
    {
     "data": {
      "text/html": [
       "<strong>25%:</strong> 10"
      ],
      "text/latex": [
       "\\textbf{25\\textbackslash{}\\%:} 10"
      ],
      "text/markdown": [
       "**25%:** 10"
      ],
      "text/plain": [
       "25% \n",
       " 10 "
      ]
     },
     "metadata": {},
     "output_type": "display_data"
    },
    {
     "data": {
      "text/html": [
       "<strong>50%:</strong> 23"
      ],
      "text/latex": [
       "\\textbf{50\\textbackslash{}\\%:} 23"
      ],
      "text/markdown": [
       "**50%:** 23"
      ],
      "text/plain": [
       "50% \n",
       " 23 "
      ]
     },
     "metadata": {},
     "output_type": "display_data"
    },
    {
     "data": {
      "text/html": [
       "<strong>75%:</strong> 51.75"
      ],
      "text/latex": [
       "\\textbf{75\\textbackslash{}\\%:} 51.75"
      ],
      "text/markdown": [
       "**75%:** 51.75"
      ],
      "text/plain": [
       "  75% \n",
       "51.75 "
      ]
     },
     "metadata": {},
     "output_type": "display_data"
    }
   ],
   "source": [
    "################################\n",
    "x <- c(2, 5, 7, 11, 12, 21, 25, 31, 45, 72, 81, 102)\n",
    "quantile(x,0.25)\n",
    "quantile(x,0.50)\n",
    "quantile(x,0.75)"
   ]
  },
  {
   "cell_type": "code",
   "execution_count": 706,
   "metadata": {},
   "outputs": [
    {
     "data": {
      "text/html": [
       "<ol class=list-inline>\n",
       "\t<li>2</li>\n",
       "\t<li>12</li>\n",
       "\t<li>25</li>\n",
       "\t<li>31</li>\n",
       "</ol>\n"
      ],
      "text/latex": [
       "\\begin{enumerate*}\n",
       "\\item 2\n",
       "\\item 12\n",
       "\\item 25\n",
       "\\item 31\n",
       "\\end{enumerate*}\n"
      ],
      "text/markdown": [
       "1. 2\n",
       "2. 12\n",
       "3. 25\n",
       "4. 31\n",
       "\n",
       "\n"
      ],
      "text/plain": [
       "[1]  2 12 25 31"
      ]
     },
     "metadata": {},
     "output_type": "display_data"
    }
   ],
   "source": [
    "################################\n",
    "x <- c(25,2,31,12)\n",
    "newx = sort(x)\n",
    "newx"
   ]
  },
  {
   "cell_type": "code",
   "execution_count": 707,
   "metadata": {},
   "outputs": [
    {
     "data": {
      "text/html": [
       "<strong>25%:</strong> -5.9875"
      ],
      "text/latex": [
       "\\textbf{25\\textbackslash{}\\%:} -5.9875"
      ],
      "text/markdown": [
       "**25%:** -5.9875"
      ],
      "text/plain": [
       "    25% \n",
       "-5.9875 "
      ]
     },
     "metadata": {},
     "output_type": "display_data"
    },
    {
     "data": {
      "text/html": [
       "<strong>75%:</strong> 22.1125"
      ],
      "text/latex": [
       "\\textbf{75\\textbackslash{}\\%:} 22.1125"
      ],
      "text/markdown": [
       "**75%:** 22.1125"
      ],
      "text/plain": [
       "    75% \n",
       "22.1125 "
      ]
     },
     "metadata": {},
     "output_type": "display_data"
    }
   ],
   "source": [
    "################################\n",
    "x <- c(3.5, 3.2, 4.1, 4.7, 3.8, 5.1, 7.2, 3.9, 5.3, 6.1, 6.2, 3.1, 9.3,\n",
    "       9.4, 10.5, 10.9, 11.1, 11.2, 12.7, 12.8, 13.1, 13.5, 17, 38.6)\n",
    "q1 = quantile(x,0.25)\n",
    "q3 = quantile(x,0.75)\n",
    "iqr = q3 - q1\n",
    "lf = q1 - 1.5 * iqr\n",
    "uf = q3 + 1.5 * iqr\n",
    "lf\n",
    "uf\n"
   ]
  },
  {
   "cell_type": "code",
   "execution_count": 708,
   "metadata": {},
   "outputs": [
    {
     "data": {
      "text/html": [
       "60"
      ],
      "text/latex": [
       "60"
      ],
      "text/markdown": [
       "60"
      ],
      "text/plain": [
       "[1] 60"
      ]
     },
     "metadata": {},
     "output_type": "display_data"
    }
   ],
   "source": [
    "################################\n",
    "x <- c(20, 31, 42, 51, 55, 57, 60, 65, 70, 80)\n",
    "range = max(x) - min(x)\n",
    "range"
   ]
  },
  {
   "cell_type": "code",
   "execution_count": 709,
   "metadata": {},
   "outputs": [
    {
     "data": {
      "text/html": [
       "18.4932420089069"
      ],
      "text/latex": [
       "18.4932420089069"
      ],
      "text/markdown": [
       "18.4932420089069"
      ],
      "text/plain": [
       "[1] 18.49324"
      ]
     },
     "metadata": {},
     "output_type": "display_data"
    }
   ],
   "source": [
    "\n",
    "################################\n",
    "x <- c(2,8,20,50)\n",
    "tsum = sum((x-mean(x))^2)\n",
    "pop_stdev = sqrt(tsum/length(x))\n",
    "pop_stdev"
   ]
  },
  {
   "cell_type": "code",
   "execution_count": 710,
   "metadata": {},
   "outputs": [
    {
     "data": {
      "text/html": [
       "18.4932420089069"
      ],
      "text/latex": [
       "18.4932420089069"
      ],
      "text/markdown": [
       "18.4932420089069"
      ],
      "text/plain": [
       "[1] 18.49324"
      ]
     },
     "metadata": {},
     "output_type": "display_data"
    }
   ],
   "source": [
    "################################\n",
    "x <- c(2,8,20,50)\n",
    "# find the mean\n",
    "tsum = 0\n",
    "for (i in 1:length(x))\n",
    "{\n",
    "  tsum = tsum + x[i]\n",
    "}\n",
    "mean = tsum/length(x)\n",
    "# calculate sum of (x-mean)^2\n",
    "newsum = 0\n",
    "for (i in 1:length(x))\n",
    "{\n",
    "  newsum = newsum + (x[i] - mean)^2\n",
    "}\n",
    "# find population standard deviation\n",
    "pop_stdev = sqrt(newsum/length(x))\n",
    "pop_stdev"
   ]
  },
  {
   "cell_type": "code",
   "execution_count": 711,
   "metadata": {},
   "outputs": [
    {
     "data": {
      "text/html": [
       "21.3541565040626"
      ],
      "text/latex": [
       "21.3541565040626"
      ],
      "text/markdown": [
       "21.3541565040626"
      ],
      "text/plain": [
       "[1] 21.35416"
      ]
     },
     "metadata": {},
     "output_type": "display_data"
    }
   ],
   "source": [
    "################################\n",
    "x <- c(2,8,20,50)\n",
    "sd(x)"
   ]
  },
  {
   "cell_type": "code",
   "execution_count": 712,
   "metadata": {},
   "outputs": [
    {
     "data": {
      "text/html": [
       "456"
      ],
      "text/latex": [
       "456"
      ],
      "text/markdown": [
       "456"
      ],
      "text/plain": [
       "[1] 456"
      ]
     },
     "metadata": {},
     "output_type": "display_data"
    }
   ],
   "source": [
    "\n",
    "################################\n",
    "x <- c(2,8,20,50)\n",
    "sample_variance = sd(x)^2\n",
    "sample_variance"
   ]
  },
  {
   "cell_type": "code",
   "execution_count": 713,
   "metadata": {},
   "outputs": [
    {
     "data": {
      "text/html": [
       "342"
      ],
      "text/latex": [
       "342"
      ],
      "text/markdown": [
       "342"
      ],
      "text/plain": [
       "[1] 342"
      ]
     },
     "metadata": {},
     "output_type": "display_data"
    }
   ],
   "source": [
    "################################\n",
    "x <- c(2,8,20,50)\n",
    "tsum = sum((x-mean(x))^2)\n",
    "pop_stdev = sqrt(tsum/length(x))\n",
    "pop_variance = pop_stdev^2\n",
    "pop_variance"
   ]
  },
  {
   "cell_type": "code",
   "execution_count": 714,
   "metadata": {},
   "outputs": [
    {
     "data": {
      "text/html": [
       "77.7204528415696"
      ],
      "text/latex": [
       "77.7204528415696"
      ],
      "text/markdown": [
       "77.7204528415696"
      ],
      "text/plain": [
       "[1] 77.72045"
      ]
     },
     "metadata": {},
     "output_type": "display_data"
    }
   ],
   "source": [
    "################################\n",
    "x <- c(2, 8, 12, 13, 21, 32, 45, 51, 72, 81)\n",
    "tsum = sum((x-mean(x))^2)\n",
    "pop_stdev = sqrt(tsum/length(x))\n",
    "pop_mean = mean(x)\n",
    "CV = pop_stdev/pop_mean * 100\n",
    "CV"
   ]
  },
  {
   "cell_type": "code",
   "execution_count": 715,
   "metadata": {},
   "outputs": [
    {
     "data": {
      "text/html": [
       "0.824685821379213"
      ],
      "text/latex": [
       "0.824685821379213"
      ],
      "text/markdown": [
       "0.824685821379213"
      ],
      "text/plain": [
       "[1] 0.8246858"
      ]
     },
     "metadata": {},
     "output_type": "display_data"
    }
   ],
   "source": [
    "################################\n",
    "x <- c(2, 8, 12, 13, 21, 32, 45, 51, 72, 81)\n",
    "tsum = sum((x-mean(x))^2)\n",
    "pop_stdev = sqrt(tsum/length(x))\n",
    "pop_mean = mean(x)\n",
    "pop_median = median(x)\n",
    "sk = (3 * (pop_mean - pop_median))/pop_stdev\n",
    "sk"
   ]
  },
  {
   "cell_type": "code",
   "execution_count": 716,
   "metadata": {},
   "outputs": [
    {
     "data": {
      "text/html": [
       "1.0936221794622"
      ],
      "text/latex": [
       "1.0936221794622"
      ],
      "text/markdown": [
       "1.0936221794622"
      ],
      "text/plain": [
       "[1] 1.093622"
      ]
     },
     "metadata": {},
     "output_type": "display_data"
    },
    {
     "data": {
      "image/png": "[encoded data removed]",
      "text/plain": [
       "Plot with title \"Histogram of x\""
      ]
     },
     "metadata": {},
     "output_type": "display_data"
    }
   ],
   "source": [
    "################################\n",
    "x <- c(1, 2, 8, 12, 13, 21, 32, 45, 51, 72, 81)\n",
    "tsum = sum((x-mean(x))^2)\n",
    "pop_stdev = sqrt(tsum/length(x))\n",
    "pop_mean = mean(x)\n",
    "pop_median = median(x)\n",
    "sk = (3 * (pop_mean - pop_median))/pop_stdev\n",
    "sk\n",
    "hist(x)"
   ]
  },
  {
   "cell_type": "code",
   "execution_count": 717,
   "metadata": {},
   "outputs": [
    {
     "data": {
      "text/html": [
       "28.5714285714286"
      ],
      "text/latex": [
       "28.5714285714286"
      ],
      "text/markdown": [
       "28.5714285714286"
      ],
      "text/plain": [
       "[1] 28.57143"
      ]
     },
     "metadata": {},
     "output_type": "display_data"
    }
   ],
   "source": [
    "################################\n",
    "startval = 10\n",
    "endval = 20\n",
    "x <- c(2,12,15,31,32,45,58)\n",
    "count = 0\n",
    "for (i in 1:length(x))\n",
    "{\n",
    "  if (x[i] >= startval && x[i] <= endval)\n",
    "    count = count + 1\n",
    "}\n",
    "actualp = count/length(x) * 100\n",
    "actualp"
   ]
  },
  {
   "cell_type": "code",
   "execution_count": 718,
   "metadata": {},
   "outputs": [
    {
     "data": {
      "text/html": [
       "0.120210393184218"
      ],
      "text/latex": [
       "0.120210393184218"
      ],
      "text/markdown": [
       "0.120210393184218"
      ],
      "text/plain": [
       "[1] 0.1202104"
      ]
     },
     "metadata": {},
     "output_type": "display_data"
    },
    {
     "data": {
      "text/html": [
       "0.200867818527699"
      ],
      "text/latex": [
       "0.200867818527699"
      ],
      "text/markdown": [
       "0.200867818527699"
      ],
      "text/plain": [
       "[1] 0.2008678"
      ]
     },
     "metadata": {},
     "output_type": "display_data"
    },
    {
     "data": {
      "text/html": [
       "0.269304208340612"
      ],
      "text/latex": [
       "0.269304208340612"
      ],
      "text/markdown": [
       "0.269304208340612"
      ],
      "text/plain": [
       "[1] 0.2693042"
      ]
     },
     "metadata": {},
     "output_type": "display_data"
    },
    {
     "data": {
      "text/html": [
       "0.522289941503218"
      ],
      "text/latex": [
       "0.522289941503218"
      ],
      "text/markdown": [
       "0.522289941503218"
      ],
      "text/plain": [
       "[1] 0.5222899"
      ]
     },
     "metadata": {},
     "output_type": "display_data"
    },
    {
     "data": {
      "text/html": [
       "0.313197249379494"
      ],
      "text/latex": [
       "0.313197249379494"
      ],
      "text/markdown": [
       "0.313197249379494"
      ],
      "text/plain": [
       "[1] 0.3131972"
      ]
     },
     "metadata": {},
     "output_type": "display_data"
    }
   ],
   "source": [
    "################################\n",
    "n = 500\n",
    "p = .20\n",
    "# P(x is less than 90)\n",
    "# P(x <= 89.5)\n",
    "# case 1\n",
    "pnorm(89.5,mean=n*p,sd=sqrt(n*p*(1-p)),lower.tail=TRUE)\n",
    "# P(x is at most 92)\n",
    "# P(x <= 92.5)\n",
    "# case 1\n",
    "pnorm(92.5,mean=n*p,sd=sqrt(n*p*(1-p)),lower.tail=TRUE)\n",
    "# P(x is more than 105)\n",
    "# P(x >= 105.5)\n",
    "pnorm(105.5,mean=n*p,sd=sqrt(n*p*(1-p)),lower.tail=FALSE)\n",
    "# P(x is at least 100)\n",
    "# P(x >= 99.5)\n",
    "pnorm(99.5,mean=n*p,sd=sqrt(n*p*(1-p)),lower.tail=FALSE)\n",
    "# P(between 90 and 98, inclusive)\n",
    "# P(89.5 <= x <= 98.5)\n",
    "pnorm(98.5,mean=n*p,sd=sqrt(n*p*(1-p)),lower.tail=TRUE)-\n",
    "  pnorm(89.5,mean=n*p,sd=sqrt(n*p*(1-p)),lower.tail=TRUE)"
   ]
  },
  {
   "cell_type": "code",
   "execution_count": 719,
   "metadata": {},
   "outputs": [
    {
     "data": {
      "text/html": [
       "0.0194443003318422"
      ],
      "text/latex": [
       "0.0194443003318422"
      ],
      "text/markdown": [
       "0.0194443003318422"
      ],
      "text/plain": [
       "[1] 0.0194443"
      ]
     },
     "metadata": {},
     "output_type": "display_data"
    },
    {
     "data": {
      "text/html": [
       "0.664123200606545"
      ],
      "text/latex": [
       "0.664123200606545"
      ],
      "text/markdown": [
       "0.664123200606545"
      ],
      "text/plain": [
       "[1] 0.6641232"
      ]
     },
     "metadata": {},
     "output_type": "display_data"
    },
    {
     "data": {
      "text/html": [
       "0.267611033392577"
      ],
      "text/latex": [
       "0.267611033392577"
      ],
      "text/markdown": [
       "0.267611033392577"
      ],
      "text/plain": [
       "[1] 0.267611"
      ]
     },
     "metadata": {},
     "output_type": "display_data"
    },
    {
     "data": {
      "text/html": [
       "0.0531064064592713"
      ],
      "text/latex": [
       "0.0531064064592713"
      ],
      "text/markdown": [
       "0.0531064064592713"
      ],
      "text/plain": [
       "[1] 0.05310641"
      ]
     },
     "metadata": {},
     "output_type": "display_data"
    },
    {
     "data": {
      "text/html": [
       "0.00618490381126678"
      ],
      "text/latex": [
       "0.00618490381126678"
      ],
      "text/markdown": [
       "0.00618490381126678"
      ],
      "text/plain": [
       "[1] 0.006184904"
      ]
     },
     "metadata": {},
     "output_type": "display_data"
    }
   ],
   "source": [
    "################################\n",
    "# P(exactly 8)\n",
    "# P(x = 8)\n",
    "# dpois(a,lambda=lam)\n",
    "a = 3\n",
    "t = 5\n",
    "lam = a * t\n",
    "dpois(8,lambda=lam)\n",
    "# P(less than 17)\n",
    "# P(x=0,1,2,...16)\n",
    "# P(x <= 16)\n",
    "# ppois(a,lambda=lam,lower=TRUE)\n",
    "ppois(16,lambda=lam,lower=TRUE)\n",
    "# P(at most 12)\n",
    "# P(x=0,1,2,...,12)\n",
    "# P(x <= 12)\n",
    "# ppois(a,lamba=lam,lower=TRUE)\n",
    "ppois(12,lambda=lam,lower=TRUE)\n",
    "# P(more than 20)\n",
    "# P(x=21,22,23,...)\n",
    "# P(x >= 21)\n",
    "# ppois(a,lambda=lam,lower=FALSE)\n",
    "ppois(21,lambda=lam,lower=FALSE)\n",
    "# P(at least 25)\n",
    "# P(x=25,26,27,...)\n",
    "# P(x >= 25)\n",
    "# ppois(a,lambda=lam,lower=FALSE)\n",
    "ppois(25,lambda=lam,lower=FALSE)"
   ]
  },
  {
   "cell_type": "code",
   "execution_count": 720,
   "metadata": {},
   "outputs": [
    {
     "data": {
      "text/plain": [
       "1.609438 with absolute error < 3.7e-09"
      ]
     },
     "metadata": {},
     "output_type": "display_data"
    }
   ],
   "source": [
    "################################\n",
    "f = function(x){1/x}\n",
    "integrate(f,1,5)"
   ]
  },
  {
   "cell_type": "code",
   "execution_count": 721,
   "metadata": {},
   "outputs": [
    {
     "data": {
      "text/plain": [
       "1 with absolute error < 1.1e-14"
      ]
     },
     "metadata": {},
     "output_type": "display_data"
    },
    {
     "data": {
      "text/plain": [
       "0 with absolute error < 0"
      ]
     },
     "metadata": {},
     "output_type": "display_data"
    }
   ],
   "source": [
    "\n",
    "################################\n",
    "f = function(x){1/x^2}\n",
    "integrate(f,1,Inf)\n",
    "################################\n",
    "f = function(x){1/x^3}\n",
    "integrate(f,-Inf,Inf)"
   ]
  },
  {
   "cell_type": "code",
   "execution_count": 722,
   "metadata": {},
   "outputs": [
    {
     "data": {
      "text/plain": [
       "\n",
       "\tPearson's Chi-squared test\n",
       "\n",
       "data:  tbl\n",
       "X-squared = 8.0305, df = 4, p-value = 0.09047\n"
      ]
     },
     "metadata": {},
     "output_type": "display_data"
    }
   ],
   "source": [
    "################################\n",
    "datavalues <- matrix(c(42,20,14,50,24,18,10,16,6),ncol=3,byrow=TRUE)\n",
    "colnames(datavalues) <- c(\"Approve\",\"Disapprove\",\"No_Opinion\")\n",
    "rownames(datavalues) <- c(\"Republican\",\"Democrat\",\"Independent\")\n",
    "tbl <- as.table(datavalues)\n",
    "chisq.test(tbl)"
   ]
  },
  {
   "cell_type": "code",
   "execution_count": 723,
   "metadata": {},
   "outputs": [
    {
     "data": {
      "text/plain": [
       "\n",
       "\tPearson's Chi-squared test\n",
       "\n",
       "data:  tbl\n",
       "X-squared = 18.146, df = 3, p-value = 0.0004103\n"
      ]
     },
     "metadata": {},
     "output_type": "display_data"
    }
   ],
   "source": [
    "################################\n",
    "datavalues <- matrix(c(25,35,75,45,30,45,45,15),ncol=4,byrow=TRUE)\n",
    "colnames(datavalues) <- c(\"0-30\",\"30-60\",\"60-90\",\"90-over\")\n",
    "rownames(datavalues) <- c(\"male\",\"female\")\n",
    "tbl <- as.table(datavalues)\n",
    "chisq.test(tbl)"
   ]
  },
  {
   "cell_type": "code",
   "execution_count": 724,
   "metadata": {},
   "outputs": [
    {
     "data": {
      "image/png": "[encoded data removed]",
      "text/plain": [
       "plot without title"
      ]
     },
     "metadata": {},
     "output_type": "display_data"
    }
   ],
   "source": [
    "################################\n",
    "x <- c(7,12,10,9,13,8)\n",
    "y <- c(4,7,5,5,6,3)\n",
    "plot(x,y)"
   ]
  },
  {
   "cell_type": "code",
   "execution_count": 725,
   "metadata": {},
   "outputs": [
    {
     "data": {
      "text/html": [
       "0.982703641586785"
      ],
      "text/latex": [
       "0.982703641586785"
      ],
      "text/markdown": [
       "0.982703641586785"
      ],
      "text/plain": [
       "[1] 0.9827036"
      ]
     },
     "metadata": {},
     "output_type": "display_data"
    },
    {
     "data": {
      "text/html": [
       "-0.335057535329579"
      ],
      "text/latex": [
       "-0.335057535329579"
      ],
      "text/markdown": [
       "-0.335057535329579"
      ],
      "text/plain": [
       "[1] -0.3350575"
      ]
     },
     "metadata": {},
     "output_type": "display_data"
    }
   ],
   "source": [
    "################################\n",
    "x <- c(2,3,5,5,6)\n",
    "y <- c(1.3,1.6,2.1,2.2,2.7)\n",
    "cor(x,y)\n",
    "################################\n",
    "x <- c(10,11,16,9,7,15,16,10)\n",
    "y <- c(96,51,62,58,89,81,46,51)\n",
    "cor(x,y)"
   ]
  },
  {
   "cell_type": "code",
   "execution_count": 726,
   "metadata": {},
   "outputs": [
    {
     "data": {
      "text/html": [
       "0.00364517904576781"
      ],
      "text/latex": [
       "0.00364517904576781"
      ],
      "text/markdown": [
       "0.00364517904576781"
      ],
      "text/plain": [
       "[1] 0.003645179"
      ]
     },
     "metadata": {},
     "output_type": "display_data"
    },
    {
     "data": {
      "text/html": [
       "0.733893025621512"
      ],
      "text/latex": [
       "0.733893025621512"
      ],
      "text/markdown": [
       "0.733893025621512"
      ],
      "text/plain": [
       "[1] 0.733893"
      ]
     },
     "metadata": {},
     "output_type": "display_data"
    }
   ],
   "source": [
    "################################\n",
    "pnorm(9.1,mean=10,sd=1.5/sqrt(20),lower.tail=TRUE)-\n",
    "  pnorm(4.5,mean=10,sd=1.5/sqrt(20),lower.tail=TRUE)\n",
    "################################\n",
    "pnorm(7500,mean=7200,sd=1200/sqrt(30))-pnorm(7000,mean=7200,sd=1200/sqrt(30))"
   ]
  },
  {
   "cell_type": "code",
   "execution_count": 727,
   "metadata": {},
   "outputs": [
    {
     "data": {
      "text/html": [
       "0.679036639899256"
      ],
      "text/latex": [
       "0.679036639899256"
      ],
      "text/markdown": [
       "0.679036639899256"
      ],
      "text/plain": [
       "[1] 0.6790366"
      ]
     },
     "metadata": {},
     "output_type": "display_data"
    },
    {
     "data": {
      "text/html": [
       "0.320963360100744"
      ],
      "text/latex": [
       "0.320963360100744"
      ],
      "text/markdown": [
       "0.320963360100744"
      ],
      "text/plain": [
       "[1] 0.3209634"
      ]
     },
     "metadata": {},
     "output_type": "display_data"
    }
   ],
   "source": [
    "################################\n",
    "alpha = 0.05\n",
    "pknot = 0.25\n",
    "n = 300\n",
    "truep = 0.22\n",
    "ZAL = qnorm(alpha)\n",
    "phatL = pknot + ZAL * sqrt(pknot * (1-pknot) / n)\n",
    "ZL = (phatL - truep) / sqrt(truep * (1-truep) / n)\n",
    "1-pnorm(ZL)\n",
    "pnorm(ZL)"
   ]
  },
  {
   "cell_type": "code",
   "execution_count": 728,
   "metadata": {},
   "outputs": [
    {
     "data": {
      "text/plain": [
       "2 * x/(x - 1) - x^2/(x - 1)^2"
      ]
     },
     "metadata": {},
     "output_type": "display_data"
    },
    {
     "data": {
      "text/plain": [
       "0.2341309 with absolute error < 2.6e-15"
      ]
     },
     "metadata": {},
     "output_type": "display_data"
    }
   ],
   "source": [
    "################################\n",
    "f = expression(x^2/(x-1),'x')\n",
    "D(f,'x')\n",
    "################################\n",
    "f = function(x){2*(1-2*x^3)}\n",
    "integrate(f,1/4,3/8)"
   ]
  },
  {
   "cell_type": "code",
   "execution_count": 729,
   "metadata": {},
   "outputs": [
    {
     "data": {
      "text/html": [
       "0.0828592343686454"
      ],
      "text/latex": [
       "0.0828592343686454"
      ],
      "text/markdown": [
       "0.0828592343686454"
      ],
      "text/plain": [
       "[1] 0.08285923"
      ]
     },
     "metadata": {},
     "output_type": "display_data"
    },
    {
     "data": {
      "text/html": [
       "0.686071971901457"
      ],
      "text/latex": [
       "0.686071971901457"
      ],
      "text/markdown": [
       "0.686071971901457"
      ],
      "text/plain": [
       "[1] 0.686072"
      ]
     },
     "metadata": {},
     "output_type": "display_data"
    }
   ],
   "source": [
    "################################\n",
    "a = 3\n",
    "t = 5\n",
    "lam = a * t\n",
    "dpois(12,lambda=lam)\n",
    "################################\n",
    "a = 8\n",
    "t = 3\n",
    "lam = a * t\n",
    "ppois(21,lambda=lam,lower=FALSE)"
   ]
  },
  {
   "cell_type": "code",
   "execution_count": 730,
   "metadata": {},
   "outputs": [
    {
     "data": {
      "text/html": [
       "0.226801591920095"
      ],
      "text/latex": [
       "0.226801591920095"
      ],
      "text/markdown": [
       "0.226801591920095"
      ],
      "text/plain": [
       "[1] 0.2268016"
      ]
     },
     "metadata": {},
     "output_type": "display_data"
    }
   ],
   "source": [
    "################################\n",
    "a = 8\n",
    "t = 3\n",
    "lam = a * t\n",
    "ppois(21,lambda=lam,lower=TRUE)-ppois(18-1,lambda=lam,lower=TRUE)"
   ]
  },
  {
   "cell_type": "code",
   "execution_count": 731,
   "metadata": {},
   "outputs": [
    {
     "data": {
      "text/html": [
       "0.264241117657115"
      ],
      "text/latex": [
       "0.264241117657115"
      ],
      "text/markdown": [
       "0.264241117657115"
      ],
      "text/plain": [
       "[1] 0.2642411"
      ]
     },
     "metadata": {},
     "output_type": "display_data"
    }
   ],
   "source": [
    "################################\n",
    "a = 0.01\n",
    "t = 100\n",
    "lam = a * t\n",
    "ppois(2-1,lambda=lam,lower=FALSE)"
   ]
  },
  {
   "cell_type": "code",
   "execution_count": 732,
   "metadata": {},
   "outputs": [
    {
     "data": {
      "text/html": [
       "0.000211073847054545"
      ],
      "text/latex": [
       "0.000211073847054545"
      ],
      "text/markdown": [
       "0.000211073847054545"
      ],
      "text/plain": [
       "[1] 0.0002110738"
      ]
     },
     "metadata": {},
     "output_type": "display_data"
    }
   ],
   "source": [
    "################################\n",
    "a = 4\n",
    "t = 1\n",
    "lam = a * t\n",
    "dpois(7,lambda=lam)^3"
   ]
  },
  {
   "cell_type": "code",
   "execution_count": 733,
   "metadata": {},
   "outputs": [
    {
     "data": {
      "text/html": [
       "0.833413365520525"
      ],
      "text/latex": [
       "0.833413365520525"
      ],
      "text/markdown": [
       "0.833413365520525"
      ],
      "text/plain": [
       "[1] 0.8334134"
      ]
     },
     "metadata": {},
     "output_type": "display_data"
    },
    {
     "data": {
      "text/plain": [
       "0.8334134 with absolute error < 2.2e-06"
      ]
     },
     "metadata": {},
     "output_type": "display_data"
    }
   ],
   "source": [
    "################################\n",
    "pnorm(22,mean=25,sd=3.1,lower.tail=FALSE)\n",
    "mu=25\n",
    "sigma=3.1\n",
    "f = function(x){exp(-1 * (x - mu)^2 / (2*sigma^2)) / (sigma * sqrt(2 * pi))}\n",
    "integrate(f,22,Inf)"
   ]
  },
  {
   "cell_type": "code",
   "execution_count": 734,
   "metadata": {},
   "outputs": [
    {
     "data": {
      "text/html": [
       "0.398705160765656"
      ],
      "text/latex": [
       "0.398705160765656"
      ],
      "text/markdown": [
       "0.398705160765656"
      ],
      "text/plain": [
       "[1] 0.3987052"
      ]
     },
     "metadata": {},
     "output_type": "display_data"
    },
    {
     "data": {
      "text/plain": [
       "0.3987052 with absolute error < 4.4e-15"
      ]
     },
     "metadata": {},
     "output_type": "display_data"
    }
   ],
   "source": [
    "################################\n",
    "pnorm(24.3,mean=25,sd=3.1,lower.tail=TRUE)- pnorm(18,mean=25,sd=3.1,lower.tail=TRUE)\n",
    "mu=25\n",
    "sigma=3.1\n",
    "f = function(x){exp(-1 * (x - mu)^2 / (2*sigma^2)) / (sigma * sqrt(2 * pi))}\n",
    "integrate(f,18,24.3)"
   ]
  },
  {
   "cell_type": "code",
   "execution_count": 735,
   "metadata": {},
   "outputs": [
    {
     "data": {
      "text/html": [
       "0.774537544799685"
      ],
      "text/latex": [
       "0.774537544799685"
      ],
      "text/markdown": [
       "0.774537544799685"
      ],
      "text/plain": [
       "[1] 0.7745375"
      ]
     },
     "metadata": {},
     "output_type": "display_data"
    },
    {
     "data": {
      "text/html": [
       "0.368986727994177"
      ],
      "text/latex": [
       "0.368986727994177"
      ],
      "text/markdown": [
       "0.368986727994177"
      ],
      "text/plain": [
       "[1] 0.3689867"
      ]
     },
     "metadata": {},
     "output_type": "display_data"
    },
    {
     "data": {
      "text/html": [
       "19.9009537564504"
      ],
      "text/latex": [
       "19.9009537564504"
      ],
      "text/markdown": [
       "19.9009537564504"
      ],
      "text/plain": [
       "[1] 19.90095"
      ]
     },
     "metadata": {},
     "output_type": "display_data"
    },
    {
     "data": {
      "text/html": [
       "30.0990462435496"
      ],
      "text/latex": [
       "30.0990462435496"
      ],
      "text/markdown": [
       "30.0990462435496"
      ],
      "text/plain": [
       "[1] 30.09905"
      ]
     },
     "metadata": {},
     "output_type": "display_data"
    }
   ],
   "source": [
    "################################\n",
    "pnorm(7.5,mean=6.5,sd=1,lower.tail=TRUE)-pnorm(5,mean=6.5,sd=1,lower.tail=TRUE)\n",
    "################################\n",
    "pnorm(1.75,mean=0,sd=1,lower.tail=TRUE)- pnorm(0.23,mean=0,sd=1,lower.tail=TRUE)\n",
    "################################\n",
    "qnorm(0.05,mean=25,sd=3.1,lower.tail=TRUE)\n",
    "qnorm(0.95,mean=25,sd=3.1,lower.tail=TRUE)"
   ]
  },
  {
   "cell_type": "code",
   "execution_count": 736,
   "metadata": {},
   "outputs": [
    {
     "data": {
      "text/html": [
       "0.353830233327276"
      ],
      "text/latex": [
       "0.353830233327276"
      ],
      "text/markdown": [
       "0.353830233327276"
      ],
      "text/plain": [
       "[1] 0.3538302"
      ]
     },
     "metadata": {},
     "output_type": "display_data"
    },
    {
     "data": {
      "text/html": [
       "0.549738224830113"
      ],
      "text/latex": [
       "0.549738224830113"
      ],
      "text/markdown": [
       "0.549738224830113"
      ],
      "text/plain": [
       "[1] 0.5497382"
      ]
     },
     "metadata": {},
     "output_type": "display_data"
    }
   ],
   "source": [
    "################################\n",
    "n = 100\n",
    "p = .20\n",
    "pnorm(18.5,mean=n*p,sd=sqrt(n*p*(1-p)),lower.tail=TRUE)\n",
    "################################\n",
    "n = 100\n",
    "p = .20\n",
    "pnorm(20.5,mean=n*p,sd=sqrt(n*p*(1-p)),lower.tail=TRUE)"
   ]
  },
  {
   "cell_type": "code",
   "execution_count": 737,
   "metadata": {},
   "outputs": [
    {
     "data": {
      "text/html": [
       "0.734014470951299"
      ],
      "text/latex": [
       "0.734014470951299"
      ],
      "text/markdown": [
       "0.734014470951299"
      ],
      "text/plain": [
       "[1] 0.7340145"
      ]
     },
     "metadata": {},
     "output_type": "display_data"
    }
   ],
   "source": [
    "################################\n",
    "n = 100\n",
    "p = .20\n",
    "pnorm(17.5,mean=n*p,sd=sqrt(n*p*(1-p)),lower.tail=FALSE)"
   ]
  },
  {
   "cell_type": "code",
   "execution_count": 738,
   "metadata": {},
   "outputs": [
    {
     "data": {
      "text/html": [
       "0.0994764496602258"
      ],
      "text/latex": [
       "0.0994764496602258"
      ],
      "text/markdown": [
       "0.0994764496602258"
      ],
      "text/plain": [
       "[1] 0.09947645"
      ]
     },
     "metadata": {},
     "output_type": "display_data"
    }
   ],
   "source": [
    "################################\n",
    "n = 100\n",
    "p = .20\n",
    "pnorm(20.5,mean=n*p,sd=sqrt(n*p*(1-p)),lower.tail=TRUE)-\n",
    "  pnorm(19.5,mean=n*p,sd=sqrt(n*p*(1-p)),lower.tail=TRUE)"
   ]
  },
  {
   "cell_type": "code",
   "execution_count": 739,
   "metadata": {},
   "outputs": [
    {
     "data": {
      "text/html": [
       "0.973760250220377"
      ],
      "text/latex": [
       "0.973760250220377"
      ],
      "text/markdown": [
       "0.973760250220377"
      ],
      "text/plain": [
       "[1] 0.9737603"
      ]
     },
     "metadata": {},
     "output_type": "display_data"
    }
   ],
   "source": [
    "################################\n",
    "n = 100\n",
    "p = .60\n",
    "pnorm(69.5,mean=n*p,sd=sqrt(n*p*(1-p)),lower.tail=TRUE)"
   ]
  },
  {
   "cell_type": "code",
   "execution_count": 740,
   "metadata": {},
   "outputs": [
    {
     "data": {
      "text/html": [
       "0.18406012534676"
      ],
      "text/latex": [
       "0.18406012534676"
      ],
      "text/markdown": [
       "0.18406012534676"
      ],
      "text/plain": [
       "[1] 0.1840601"
      ]
     },
     "metadata": {},
     "output_type": "display_data"
    }
   ],
   "source": [
    "################################\n",
    "n = 100\n",
    "p = .50\n",
    "pnorm(54.5,mean=n*p,sd=sqrt(n*p*(1-p)),lower.tail=FALSE)"
   ]
  },
  {
   "cell_type": "code",
   "execution_count": 741,
   "metadata": {},
   "outputs": [
    {
     "data": {
      "text/html": [
       "0.959769263059912"
      ],
      "text/latex": [
       "0.959769263059912"
      ],
      "text/markdown": [
       "0.959769263059912"
      ],
      "text/plain": [
       "[1] 0.9597693"
      ]
     },
     "metadata": {},
     "output_type": "display_data"
    }
   ],
   "source": [
    "################################\n",
    "n = 1000\n",
    "p = .01\n",
    "pnorm(4.5,mean=n*p,sd=sqrt(n*p*(1-p)),lower.tail=FALSE)"
   ]
  },
  {
   "cell_type": "code",
   "execution_count": 742,
   "metadata": {},
   "outputs": [
    {
     "data": {
      "text/html": [
       "0.00108834300126286"
      ],
      "text/latex": [
       "0.00108834300126286"
      ],
      "text/markdown": [
       "0.00108834300126286"
      ],
      "text/plain": [
       "[1] 0.001088343"
      ]
     },
     "metadata": {},
     "output_type": "display_data"
    }
   ],
   "source": [
    "################################\n",
    "n = 50\n",
    "p = 0.30\n",
    "pnorm(5.5,mean=n*p,sd=sqrt(n*p*(1-p)),lower.tail=TRUE)-pnorm(4.5,mean=n*p,sd=sqrt(n*p*(1-p)),lower.tail=TRUE)"
   ]
  },
  {
   "cell_type": "code",
   "execution_count": 743,
   "metadata": {},
   "outputs": [
    {
     "data": {
      "text/html": [
       "2.13864474999999"
      ],
      "text/latex": [
       "2.13864474999999"
      ],
      "text/markdown": [
       "2.13864474999999"
      ],
      "text/plain": [
       "[1] 2.138645"
      ]
     },
     "metadata": {},
     "output_type": "display_data"
    }
   ],
   "source": [
    "################################\n",
    "x <- c(84.98,87.72,86.82,87.53,88.63,88.51,88.3,86.64,86.69,86.77,87.38,86.61,89.31,90.02,89.35,90.47,88.6,86.31,85.65,85.9)\n",
    "mx = mean(x)\n",
    "msum = sum((x-mean(x))^2)\n",
    "pop_std = sqrt(msum/length(x))\n",
    "pop_std ^2"
   ]
  },
  {
   "cell_type": "code",
   "execution_count": 744,
   "metadata": {},
   "outputs": [
    {
     "data": {
      "text/html": [
       "58.6855034283337"
      ],
      "text/latex": [
       "58.6855034283337"
      ],
      "text/markdown": [
       "58.6855034283337"
      ],
      "text/plain": [
       "[1] 58.6855"
      ]
     },
     "metadata": {},
     "output_type": "display_data"
    }
   ],
   "source": [
    "################################\n",
    "x<-c(2,8,13,25,32,40,42,43,45,57,63)\n",
    "mx = mean(x)\n",
    "mstd = sd(x)\n",
    "cv = mstd / mx * 100\n",
    "cv"
   ]
  },
  {
   "cell_type": "code",
   "execution_count": 745,
   "metadata": {},
   "outputs": [
    {
     "data": {
      "text/html": [
       "1.06794669775228"
      ],
      "text/latex": [
       "1.06794669775228"
      ],
      "text/markdown": [
       "1.06794669775228"
      ],
      "text/plain": [
       "[1] 1.067947"
      ]
     },
     "metadata": {},
     "output_type": "display_data"
    }
   ],
   "source": [
    "################################\n",
    "x <- c(8, 19, 25, 31, 33, 47, 512, 803, 20000)\n",
    "mx = mean(x)\n",
    "medx = median(x)\n",
    "mstd = sd(x)\n",
    "skewness = (3 * (mx - medx)) / mstd\n",
    "skewness"
   ]
  },
  {
   "cell_type": "code",
   "execution_count": 746,
   "metadata": {},
   "outputs": [
    {
     "data": {
      "text/html": [
       "-0.9"
      ],
      "text/latex": [
       "-0.9"
      ],
      "text/markdown": [
       "-0.9"
      ],
      "text/plain": [
       "[1] -0.9"
      ]
     },
     "metadata": {},
     "output_type": "display_data"
    }
   ],
   "source": [
    "################################\n",
    "x = 28.2\n",
    "mean = 30\n",
    "stdev = 2\n",
    "zscore = (x - mean) / stdev\n",
    "zscore"
   ]
  },
  {
   "cell_type": "code",
   "execution_count": 747,
   "metadata": {},
   "outputs": [
    {
     "name": "stdout",
     "output_type": "stream",
     "text": [
      "[1] \"Statistics\"\n",
      "[1] \"----------\"\n"
     ]
    },
    {
     "data": {
      "text/html": [
       "-2.88888888888889"
      ],
      "text/latex": [
       "-2.88888888888889"
      ],
      "text/markdown": [
       "-2.88888888888889"
      ],
      "text/plain": [
       "[1] -2.888889"
      ]
     },
     "metadata": {},
     "output_type": "display_data"
    },
    {
     "name": "stdout",
     "output_type": "stream",
     "text": [
      "[1] \"Calculus\"\n",
      "[1] \"--------\"\n"
     ]
    },
    {
     "data": {
      "text/html": [
       "3.24324324324324"
      ],
      "text/latex": [
       "3.24324324324324"
      ],
      "text/markdown": [
       "3.24324324324324"
      ],
      "text/plain": [
       "[1] 3.243243"
      ]
     },
     "metadata": {},
     "output_type": "display_data"
    }
   ],
   "source": [
    "################################\n",
    "print(\"Statistics\")\n",
    "print(\"----------\")\n",
    "x = 66\n",
    "mean = 79\n",
    "stdev = 4.5\n",
    "zscore = (x - mean) / stdev\n",
    "zscore\n",
    "print(\"Calculus\")\n",
    "print(\"--------\")\n",
    "x = 81\n",
    "mean = 69\n",
    "stdev = 3.7\n",
    "zscore = (x - mean) / stdev\n",
    "zscore"
   ]
  },
  {
   "cell_type": "code",
   "execution_count": 748,
   "metadata": {},
   "outputs": [
    {
     "name": "stdout",
     "output_type": "stream",
     "text": [
      "[1] \"Geography\"\n",
      "[1] \"----------\"\n"
     ]
    },
    {
     "data": {
      "text/html": [
       "-1.2"
      ],
      "text/latex": [
       "-1.2"
      ],
      "text/markdown": [
       "-1.2"
      ],
      "text/plain": [
       "[1] -1.2"
      ]
     },
     "metadata": {},
     "output_type": "display_data"
    },
    {
     "name": "stdout",
     "output_type": "stream",
     "text": [
      "[1] \"Mathematics\"\n",
      "[1] \"-----------\"\n"
     ]
    },
    {
     "data": {
      "text/html": [
       "-1.5"
      ],
      "text/latex": [
       "-1.5"
      ],
      "text/markdown": [
       "-1.5"
      ],
      "text/plain": [
       "[1] -1.5"
      ]
     },
     "metadata": {},
     "output_type": "display_data"
    }
   ],
   "source": [
    "################################\n",
    "print(\"Geography\")\n",
    "print(\"----------\")\n",
    "x = 56\n",
    "mean = 80\n",
    "stdev = 20\n",
    "zscore = (x - mean) / stdev\n",
    "zscore\n",
    "print(\"Mathematics\")\n",
    "print(\"-----------\")\n",
    "x = 285\n",
    "mean = 300\n",
    "stdev = 10\n",
    "zscore = (x - mean) / stdev\n",
    "zscore"
   ]
  },
  {
   "cell_type": "code",
   "execution_count": 749,
   "metadata": {},
   "outputs": [
    {
     "data": {
      "text/html": [
       "<strong>25%:</strong> 23"
      ],
      "text/latex": [
       "\\textbf{25\\textbackslash{}\\%:} 23"
      ],
      "text/markdown": [
       "**25%:** 23"
      ],
      "text/plain": [
       "25% \n",
       " 23 "
      ]
     },
     "metadata": {},
     "output_type": "display_data"
    },
    {
     "data": {
      "text/html": [
       "<strong>50%:</strong> 45"
      ],
      "text/latex": [
       "\\textbf{50\\textbackslash{}\\%:} 45"
      ],
      "text/markdown": [
       "**50%:** 45"
      ],
      "text/plain": [
       "50% \n",
       " 45 "
      ]
     },
     "metadata": {},
     "output_type": "display_data"
    },
    {
     "data": {
      "text/html": [
       "<strong>75%:</strong> 113"
      ],
      "text/latex": [
       "\\textbf{75\\textbackslash{}\\%:} 113"
      ],
      "text/markdown": [
       "**75%:** 113"
      ],
      "text/plain": [
       "75% \n",
       "113 "
      ]
     },
     "metadata": {},
     "output_type": "display_data"
    }
   ],
   "source": [
    "################################\n",
    "x <- c(3, 12, 17, 23, 27, 31, 45, 72, 81, 113, 152, 171, 189)\n",
    "quantile(x,0.25)\n",
    "quantile(x,0.50)\n",
    "quantile(x,0.75)"
   ]
  },
  {
   "cell_type": "code",
   "execution_count": 750,
   "metadata": {},
   "outputs": [
    {
     "data": {
      "text/html": [
       "<strong>25%:</strong> 66"
      ],
      "text/latex": [
       "\\textbf{25\\textbackslash{}\\%:} 66"
      ],
      "text/markdown": [
       "**25%:** 66"
      ],
      "text/plain": [
       "25% \n",
       " 66 "
      ]
     },
     "metadata": {},
     "output_type": "display_data"
    }
   ],
   "source": [
    "################################\n",
    "x <- c(68,73,66,76,86,74,61,89,65,90,69,92,76,62,81,63,68,81,70,73,60,87,75,64,82)\n",
    "quantile(x,0.25)"
   ]
  },
  {
   "cell_type": "code",
   "execution_count": 751,
   "metadata": {},
   "outputs": [
    {
     "data": {
      "text/html": [
       "<strong>75%:</strong> 50"
      ],
      "text/latex": [
       "\\textbf{75\\textbackslash{}\\%:} 50"
      ],
      "text/markdown": [
       "**75%:** 50"
      ],
      "text/plain": [
       "75% \n",
       " 50 "
      ]
     },
     "metadata": {},
     "output_type": "display_data"
    }
   ],
   "source": [
    "################################\n",
    "x <- c(1, 25, 33, 41, 42, 45, 51, 67, 88, 91, 105, 231, 405)\n",
    "q1 = quantile(x,0.25)\n",
    "q3 = quantile(x,0.75)\n",
    "iqr = q3 - q1\n",
    "iqr"
   ]
  },
  {
   "cell_type": "code",
   "execution_count": 752,
   "metadata": {},
   "outputs": [
    {
     "data": {
      "text/html": [
       "<strong>25%:</strong> -0.105"
      ],
      "text/latex": [
       "\\textbf{25\\textbackslash{}\\%:} -0.105"
      ],
      "text/markdown": [
       "**25%:** -0.105"
      ],
      "text/plain": [
       "   25% \n",
       "-0.105 "
      ]
     },
     "metadata": {},
     "output_type": "display_data"
    },
    {
     "data": {
      "text/html": [
       "<strong>75%:</strong> 0.175"
      ],
      "text/latex": [
       "\\textbf{75\\textbackslash{}\\%:} 0.175"
      ],
      "text/markdown": [
       "**75%:** 0.175"
      ],
      "text/plain": [
       "  75% \n",
       "0.175 "
      ]
     },
     "metadata": {},
     "output_type": "display_data"
    },
    {
     "data": {
      "text/html": [
       "<strong>25%:</strong> -0.105"
      ],
      "text/latex": [
       "\\textbf{25\\textbackslash{}\\%:} -0.105"
      ],
      "text/markdown": [
       "**25%:** -0.105"
      ],
      "text/plain": [
       "   25% \n",
       "-0.105 "
      ]
     },
     "metadata": {},
     "output_type": "display_data"
    },
    {
     "data": {
      "text/html": [
       "<strong>75%:</strong> 0.175"
      ],
      "text/latex": [
       "\\textbf{75\\textbackslash{}\\%:} 0.175"
      ],
      "text/markdown": [
       "**75%:** 0.175"
      ],
      "text/plain": [
       "  75% \n",
       "0.175 "
      ]
     },
     "metadata": {},
     "output_type": "display_data"
    }
   ],
   "source": [
    "################################\n",
    "x <- c(0.05, 0.00, -0.03, -0.01, 0.18, 0.00, 0.02, 0.29, 0.00, -0.07, 0.10, 0.07, 0.03)\n",
    "q1 = quantile(x,0.25)\n",
    "q3 = quantile(x,0.75)\n",
    "iqr = q3 - q1\n",
    "lf = q1 - 1.5 * iqr\n",
    "uf = q3 + 1.5 * iqr\n",
    "lf\n",
    "uf\n",
    "################################\n",
    "q1 = quantile(x,0.25)\n",
    "q3 = quantile(x,0.75)\n",
    "iqr = q3 - q1\n",
    "lf = q1 - 1.5 * iqr\n",
    "uf = q3 + 1.5 * iqr\n",
    "lf\n",
    "uf"
   ]
  },
  {
   "cell_type": "code",
   "execution_count": 753,
   "metadata": {},
   "outputs": [
    {
     "data": {
      "text/html": [
       "<table>\n",
       "<tbody>\n",
       "\t<tr><td>-14.5</td></tr>\n",
       "\t<tr><td>  6.6</td></tr>\n",
       "</tbody>\n",
       "</table>\n"
      ],
      "text/latex": [
       "\\begin{tabular}{l}\n",
       "\t -14.5\\\\\n",
       "\t   6.6\\\\\n",
       "\\end{tabular}\n"
      ],
      "text/markdown": [
       "\n",
       "| -14.5 | \n",
       "|   6.6 | \n",
       "\n",
       "\n"
      ],
      "text/plain": [
       "     [,1] \n",
       "[1,] -14.5\n",
       "[2,]   6.6"
      ]
     },
     "metadata": {},
     "output_type": "display_data"
    }
   ],
   "source": [
    "################################\n",
    "one <- c(1,1,1,1)\n",
    "xval <- c(1,2,3,4)\n",
    "yval <- c(-8,-1,5,12)\n",
    "X <- matrix(c(one,xval),nrow=4,ncol=2)\n",
    "Y <- matrix(c(yval),nrow=4,ncol=1)\n",
    "solve(t(X) %*% X) %*% t(X) %*% Y"
   ]
  },
  {
   "cell_type": "code",
   "execution_count": 754,
   "metadata": {},
   "outputs": [
    {
     "data": {
      "text/html": [
       "<table>\n",
       "<tbody>\n",
       "\t<tr><td>6.595238</td></tr>\n",
       "\t<tr><td>2.952381</td></tr>\n",
       "\t<tr><td>0.547619</td></tr>\n",
       "</tbody>\n",
       "</table>\n"
      ],
      "text/latex": [
       "\\begin{tabular}{l}\n",
       "\t 6.595238\\\\\n",
       "\t 2.952381\\\\\n",
       "\t 0.547619\\\\\n",
       "\\end{tabular}\n"
      ],
      "text/markdown": [
       "\n",
       "| 6.595238 | \n",
       "| 2.952381 | \n",
       "| 0.547619 | \n",
       "\n",
       "\n"
      ],
      "text/plain": [
       "     [,1]    \n",
       "[1,] 6.595238\n",
       "[2,] 2.952381\n",
       "[3,] 0.547619"
      ]
     },
     "metadata": {},
     "output_type": "display_data"
    }
   ],
   "source": [
    "################################\n",
    "one <- c(1,1,1,1)\n",
    "x1val <- c(1,2,3,4)\n",
    "x2val <- c(5,7,11,21)\n",
    "yval <- c(12,17,21,30)\n",
    "X <- matrix(c(one,x1val,x2val),nrow=4,ncol=3)\n",
    "Y <- matrix(c(yval),nrow=4,ncol=1)\n",
    "solve(t(X) %*% X) %*% t(X) %*% Y"
   ]
  },
  {
   "cell_type": "code",
   "execution_count": 755,
   "metadata": {},
   "outputs": [
    {
     "data": {
      "text/html": [
       "<table>\n",
       "<tbody>\n",
       "\t<tr><td>-0.3333333</td></tr>\n",
       "\t<tr><td>-0.8214286</td></tr>\n",
       "\t<tr><td>-0.7023810</td></tr>\n",
       "</tbody>\n",
       "</table>\n"
      ],
      "text/latex": [
       "\\begin{tabular}{l}\n",
       "\t -0.3333333\\\\\n",
       "\t -0.8214286\\\\\n",
       "\t -0.7023810\\\\\n",
       "\\end{tabular}\n"
      ],
      "text/markdown": [
       "\n",
       "| -0.3333333 | \n",
       "| -0.8214286 | \n",
       "| -0.7023810 | \n",
       "\n",
       "\n"
      ],
      "text/plain": [
       "     [,1]      \n",
       "[1,] -0.3333333\n",
       "[2,] -0.8214286\n",
       "[3,] -0.7023810"
      ]
     },
     "metadata": {},
     "output_type": "display_data"
    }
   ],
   "source": [
    "################################\n",
    "one <- c(1,1,1,1,1,1,1)\n",
    "xval <- c(-3,-2,-1,0,1,2,3)\n",
    "yval <- c(-5,-1,0,2,-3,-8,-7)\n",
    "xsquared = xval^2\n",
    "X <- matrix(c(one,xval,xsquared),nrow=7,ncol=3)\n",
    "Y <- matrix(c(yval),nrow=7,ncol=1)\n",
    "solve(t(X) %*% X) %*% t(X) %*% Y"
   ]
  },
  {
   "cell_type": "code",
   "execution_count": 756,
   "metadata": {},
   "outputs": [
    {
     "data": {
      "text/html": [
       "0.0947487120743712"
      ],
      "text/latex": [
       "0.0947487120743712"
      ],
      "text/markdown": [
       "0.0947487120743712"
      ],
      "text/plain": [
       "[1] 0.09474871"
      ]
     },
     "metadata": {},
     "output_type": "display_data"
    }
   ],
   "source": [
    "################################\n",
    "# \"right tail\"\n",
    "n1 = 61\n",
    "s1 = 34.4\n",
    "n2 = 31\n",
    "s2 = 27.6\n",
    "df1 = n1 - 1\n",
    "df2 = n2 - 1\n",
    "ts = s1^2 / s2^2\n",
    "# 'right tail'\n",
    "pf(ts,df1,df2,lower.tail=FALSE)"
   ]
  },
  {
   "cell_type": "code",
   "execution_count": 757,
   "metadata": {},
   "outputs": [
    {
     "data": {
      "text/html": [
       "0.966428568658038"
      ],
      "text/latex": [
       "0.966428568658038"
      ],
      "text/markdown": [
       "0.966428568658038"
      ],
      "text/plain": [
       "[1] 0.9664286"
      ]
     },
     "metadata": {},
     "output_type": "display_data"
    }
   ],
   "source": [
    "################################\n",
    "n1 = 31\n",
    "s1 = 5.46\n",
    "n2 = 25\n",
    "s2 = 5.4\n",
    "df1 = n1 - 1\n",
    "df2 = n2 - 1\n",
    "ts = s1^2 / s2^2\n",
    "# 'two tails'\n",
    "2*(pf(abs(ts),df1,df2,lower.tail=FALSE))"
   ]
  },
  {
   "cell_type": "code",
   "execution_count": 758,
   "metadata": {},
   "outputs": [
    {
     "data": {
      "text/html": [
       "0.391521222988294"
      ],
      "text/latex": [
       "0.391521222988294"
      ],
      "text/markdown": [
       "0.391521222988294"
      ],
      "text/plain": [
       "[1] 0.3915212"
      ]
     },
     "metadata": {},
     "output_type": "display_data"
    }
   ],
   "source": [
    "################################\n",
    "n1 = 16\n",
    "s1 = 20.4\n",
    "n2 = 13\n",
    "s2 = 21.9\n",
    "df1 = n1 - 1\n",
    "df2 = n2 - 1\n",
    "ts = s1^2 / s2^2\n",
    "# 'left tail'\n",
    "pf(ts,df1,df2)"
   ]
  },
  {
   "cell_type": "code",
   "execution_count": 759,
   "metadata": {},
   "outputs": [
    {
     "data": {
      "text/html": [
       "0.283219484329873"
      ],
      "text/latex": [
       "0.283219484329873"
      ],
      "text/markdown": [
       "0.283219484329873"
      ],
      "text/plain": [
       "[1] 0.2832195"
      ]
     },
     "metadata": {},
     "output_type": "display_data"
    }
   ],
   "source": [
    "################################\n",
    "n1 = 13\n",
    "s1 = 0.99\n",
    "n2 = 16\n",
    "s2 = 1.17\n",
    "df1 = n1 - 1\n",
    "df2 = n2 - 1\n",
    "ts = s1^2 / s2^2\n",
    "# 'left tail'\n",
    "pf(ts,df1,df2)"
   ]
  },
  {
   "cell_type": "code",
   "execution_count": 760,
   "metadata": {},
   "outputs": [
    {
     "data": {
      "text/html": [
       "0.200544817052809"
      ],
      "text/latex": [
       "0.200544817052809"
      ],
      "text/markdown": [
       "0.200544817052809"
      ],
      "text/plain": [
       "[1] 0.2005448"
      ]
     },
     "metadata": {},
     "output_type": "display_data"
    }
   ],
   "source": [
    "################################\n",
    "# \"right tail\"\n",
    "n1 = 21\n",
    "s1 = sqrt(1107.2)\n",
    "n2 = 18\n",
    "s2 = sqrt(737.28)\n",
    "df1 = n1 - 1\n",
    "df2 = n2 - 1\n",
    "ts = s1^2 / s2^2\n",
    "# 'right tail'\n",
    "pf(ts,df1,df2,lower.tail=FALSE)"
   ]
  },
  {
   "cell_type": "code",
   "execution_count": 761,
   "metadata": {},
   "outputs": [
    {
     "data": {
      "text/html": [
       "0.358576358733527"
      ],
      "text/latex": [
       "0.358576358733527"
      ],
      "text/markdown": [
       "0.358576358733527"
      ],
      "text/plain": [
       "[1] 0.3585764"
      ]
     },
     "metadata": {},
     "output_type": "display_data"
    }
   ],
   "source": [
    "################################\n",
    "# \"right tail\"\n",
    "n1 = 100\n",
    "x1 = 38\n",
    "n2 = 140\n",
    "x2 = 50\n",
    "phat1 = x1/n1\n",
    "phat2 = x2/n2\n",
    "phat = (x1 + x2) / (n1 + n2)\n",
    "z = (phat1 - phat2) / (sqrt(phat*(1-phat)) * sqrt(1/n1 + 1/n2))\n",
    "pnorm(z,lower.tail=FALSE)"
   ]
  },
  {
   "cell_type": "code",
   "execution_count": 762,
   "metadata": {},
   "outputs": [
    {
     "data": {
      "text/html": [
       "3.63105103002167e-07"
      ],
      "text/latex": [
       "3.63105103002167e-07"
      ],
      "text/markdown": [
       "3.63105103002167e-07"
      ],
      "text/plain": [
       "[1] 3.631051e-07"
      ]
     },
     "metadata": {},
     "output_type": "display_data"
    }
   ],
   "source": [
    "################################\n",
    "# \"two tails\"\n",
    "n1 = 1000\n",
    "x1 = 250\n",
    "n2 = 1200\n",
    "x2 = 195\n",
    "phat1 = x1/n1\n",
    "phat2 = x2/n2\n",
    "phat = (x1 + x2) / (n1 + n2)\n",
    "z = (phat1 - phat2) / (sqrt(phat*(1-phat)) * sqrt(1/n1 + 1/n2))\n",
    "2 * (pnorm(abs(z),lower.tail=FALSE))"
   ]
  },
  {
   "cell_type": "code",
   "execution_count": 763,
   "metadata": {},
   "outputs": [
    {
     "data": {
      "text/html": [
       "7.83228070692809e-12"
      ],
      "text/latex": [
       "7.83228070692809e-12"
      ],
      "text/markdown": [
       "7.83228070692809e-12"
      ],
      "text/plain": [
       "[1] 7.832281e-12"
      ]
     },
     "metadata": {},
     "output_type": "display_data"
    }
   ],
   "source": [
    "################################\n",
    "n1 = 200000\n",
    "x1 = 33\n",
    "n2 = 200000\n",
    "x2 = 115\n",
    "phat1 = x1/n1\n",
    "phat2 = x2/n2\n",
    "phat = (x1 + x2) / (n1 + n2)\n",
    "z = (phat1 - phat2) / (sqrt(phat*(1-phat)) * sqrt(1/n1 + 1/n2))\n",
    "pnorm(z)"
   ]
  },
  {
   "cell_type": "code",
   "execution_count": 764,
   "metadata": {},
   "outputs": [
    {
     "data": {
      "text/html": [
       "2.87911358804214e-07"
      ],
      "text/latex": [
       "2.87911358804214e-07"
      ],
      "text/markdown": [
       "2.87911358804214e-07"
      ],
      "text/plain": [
       "[1] 2.879114e-07"
      ]
     },
     "metadata": {},
     "output_type": "display_data"
    }
   ],
   "source": [
    "################################\n",
    "n1 = 11000\n",
    "x1 = 104\n",
    "n2 = 11000\n",
    "x2 = 189\n",
    "phat1 = x1/n1\n",
    "phat2 = x2/n2\n",
    "phat = (x1 + x2) / (n1 + n2)\n",
    "z = (phat1 - phat2) / (sqrt(phat*(1-phat)) * sqrt(1/n1 + 1/n2))\n",
    "pnorm(z)"
   ]
  },
  {
   "cell_type": "code",
   "execution_count": 765,
   "metadata": {},
   "outputs": [
    {
     "data": {
      "text/html": [
       "-1.6797979972233"
      ],
      "text/latex": [
       "-1.6797979972233"
      ],
      "text/markdown": [
       "-1.6797979972233"
      ],
      "text/plain": [
       "[1] -1.679798"
      ]
     },
     "metadata": {},
     "output_type": "display_data"
    }
   ],
   "source": [
    "################################\n",
    "# \"two tails\"\n",
    "day <- c(22,24,24,23,19,19,23,22,18,21,21,18,18,25,29,24,23,22,22,21,20,20,20,27,17,19,18,21,20,23,26,30,25,21,25)\n",
    "eve <- c(18,23,25,23,21,21,23,24,27,31,24,20,20,23,19,25,24,27,23,20,20,21,25,24,23,28,20,19,23,24,20,27,21,29,30)\n",
    "n1 = length(day)\n",
    "xbar1 = mean(day)\n",
    "s1 = sd(day)\n",
    "n2 = length(eve)\n",
    "xbar2 = mean(eve)\n",
    "s2 = sd(eve)\n",
    "ts = ((xbar1-xbar2)-(0)) / sqrt(s1^2/n1 + s2^2/n2)\n",
    "ts"
   ]
  },
  {
   "cell_type": "code",
   "execution_count": 766,
   "metadata": {},
   "outputs": [
    {
     "data": {
      "text/html": [
       "0.215838863448689"
      ],
      "text/latex": [
       "0.215838863448689"
      ],
      "text/markdown": [
       "0.215838863448689"
      ],
      "text/plain": [
       "[1] 0.2158389"
      ]
     },
     "metadata": {},
     "output_type": "display_data"
    }
   ],
   "source": [
    "################################\n",
    "# \"left tail\"\n",
    "n1 = 15\n",
    "xbar1 = 5.3\n",
    "s1 = 1.1\n",
    "n2 = 16\n",
    "xbar2 = 5.6\n",
    "s2 = 1.0\n",
    "ts = ((xbar1-xbar2)-(0)) / sqrt(s1^2/n1 + s2^2/n2)\n",
    "pt(ts,df=n-1)"
   ]
  },
  {
   "cell_type": "code",
   "execution_count": 767,
   "metadata": {},
   "outputs": [
    {
     "data": {
      "text/html": [
       "0.102990469307774"
      ],
      "text/latex": [
       "0.102990469307774"
      ],
      "text/markdown": [
       "0.102990469307774"
      ],
      "text/plain": [
       "[1] 0.1029905"
      ]
     },
     "metadata": {},
     "output_type": "display_data"
    }
   ],
   "source": [
    "################################\n",
    "# \"right tail\"\n",
    "n1 = 18\n",
    "xbar1 = 530\n",
    "s1 = 40\n",
    "n2 = 13\n",
    "xbar2 = 515\n",
    "s2 = 25\n",
    "ts = ((xbar1-xbar2)-(0)) / sqrt(s1^2/n1 + s2^2/n2)\n",
    "pt(ts,df=n-1,lower.tail=FALSE)"
   ]
  },
  {
   "cell_type": "code",
   "execution_count": 768,
   "metadata": {},
   "outputs": [
    {
     "data": {
      "text/html": [
       "0.0658397354427676"
      ],
      "text/latex": [
       "0.0658397354427676"
      ],
      "text/markdown": [
       "0.0658397354427676"
      ],
      "text/plain": [
       "[1] 0.06583974"
      ]
     },
     "metadata": {},
     "output_type": "display_data"
    }
   ],
   "source": [
    "################################\n",
    "# \"left tail\"\n",
    "n = 28\n",
    "s = sqrt(31.5)\n",
    "sigmaknot = sqrt(50.4)\n",
    "ts = (n - 1) * s^2 / sigmaknot^2\n",
    "pchisq(ts,df=n-1)\n"
   ]
  },
  {
   "cell_type": "code",
   "execution_count": 769,
   "metadata": {},
   "outputs": [
    {
     "data": {
      "text/html": [
       "0.00262925091745129"
      ],
      "text/latex": [
       "0.00262925091745129"
      ],
      "text/markdown": [
       "0.00262925091745129"
      ],
      "text/plain": [
       "[1] 0.002629251"
      ]
     },
     "metadata": {},
     "output_type": "display_data"
    }
   ],
   "source": [
    "################################\n",
    "# \"right tail\"\n",
    "n = 101\n",
    "s = 1200\n",
    "sigmaknot = sqrt(1000000)\n",
    "ts = (n - 1) * s^2 / sigmaknot^2\n",
    "pchisq(ts,df=n-1,lower.tail=FALSE)"
   ]
  },
  {
   "cell_type": "code",
   "execution_count": 770,
   "metadata": {},
   "outputs": [
    {
     "data": {
      "text/html": [
       "0.681331505888145"
      ],
      "text/latex": [
       "0.681331505888145"
      ],
      "text/markdown": [
       "0.681331505888145"
      ],
      "text/plain": [
       "[1] 0.6813315"
      ]
     },
     "metadata": {},
     "output_type": "display_data"
    }
   ],
   "source": [
    "################################\n",
    "# \"two tail\"\n",
    "x <- c(70,48,41,68,69,55,70,57,60,83,32,60,72,58)\n",
    "n = length(x)\n",
    "s = sd(x)\n",
    "sigmaknot = 15\n",
    "ts = (n - 1) * s^2 / sigmaknot^2\n",
    "2 * (pchisq(abs(ts),df=n-1))"
   ]
  },
  {
   "cell_type": "code",
   "execution_count": 771,
   "metadata": {},
   "outputs": [
    {
     "data": {
      "text/html": [
       "0.523351010099266"
      ],
      "text/latex": [
       "0.523351010099266"
      ],
      "text/markdown": [
       "0.523351010099266"
      ],
      "text/plain": [
       "[1] 0.523351"
      ]
     },
     "metadata": {},
     "output_type": "display_data"
    }
   ],
   "source": [
    "################################\n",
    "# \"left tail\"\n",
    "x <- c(70,48,41,68,69,55,70,57,60,83,32,60,72,58)\n",
    "n = length(x)\n",
    "xbar = mean(x)\n",
    "s = sd(x)\n",
    "muknot = 60\n",
    "t = (xbar - muknot) / (s / sqrt(n))\n",
    "pt(t,df=n-1)"
   ]
  },
  {
   "cell_type": "code",
   "execution_count": 772,
   "metadata": {},
   "outputs": [
    {
     "data": {
      "text/html": [
       "0.13874506978788"
      ],
      "text/latex": [
       "0.13874506978788"
      ],
      "text/markdown": [
       "0.13874506978788"
      ],
      "text/plain": [
       "[1] 0.1387451"
      ]
     },
     "metadata": {},
     "output_type": "display_data"
    }
   ],
   "source": [
    "################################\n",
    "# \"right tail\"\n",
    "n = 20\n",
    "muknot = 3.5\n",
    "xbar = 3.7\n",
    "s = 0.8\n",
    "t = (xbar - muknot) / (s / sqrt(n))\n",
    "pt(t,df=n-1,lower.tail=FALSE)\n"
   ]
  },
  {
   "cell_type": "code",
   "execution_count": 773,
   "metadata": {},
   "outputs": [
    {
     "data": {
      "text/html": [
       "0.21129954733371"
      ],
      "text/latex": [
       "0.21129954733371"
      ],
      "text/markdown": [
       "0.21129954733371"
      ],
      "text/plain": [
       "[1] 0.2112995"
      ]
     },
     "metadata": {},
     "output_type": "display_data"
    }
   ],
   "source": [
    "################################\n",
    "# \"two tails\"\n",
    "n = 25\n",
    "xbar = 1380\n",
    "sigma = 80\n",
    "muknot = 1400\n",
    "z = (xbar - muknot) / (sigma / sqrt(n))\n",
    "2 * (pnorm(abs(z),lower.tail=FALSE))"
   ]
  },
  {
   "cell_type": "code",
   "execution_count": 774,
   "metadata": {},
   "outputs": [
    {
     "data": {
      "text/html": [
       "<ol class=list-inline>\n",
       "\t<li>150</li>\n",
       "\t<li>30</li>\n",
       "\t<li>210</li>\n",
       "\t<li>210</li>\n",
       "</ol>\n"
      ],
      "text/latex": [
       "\\begin{enumerate*}\n",
       "\\item 150\n",
       "\\item 30\n",
       "\\item 210\n",
       "\\item 210\n",
       "\\end{enumerate*}\n"
      ],
      "text/markdown": [
       "1. 150\n",
       "2. 30\n",
       "3. 210\n",
       "4. 210\n",
       "\n",
       "\n"
      ],
      "text/plain": [
       "[1] 150  30 210 210"
      ]
     },
     "metadata": {},
     "output_type": "display_data"
    }
   ],
   "source": [
    "################################\n",
    "p <- c(0.25,0.05,0.35,0.35)\n",
    "n = 600\n",
    "expected = n * p\n",
    "expected"
   ]
  },
  {
   "cell_type": "code",
   "execution_count": 775,
   "metadata": {},
   "outputs": [
    {
     "data": {
      "text/plain": [
       "\n",
       "\tChi-squared test for given probabilities\n",
       "\n",
       "data:  observed\n",
       "X-squared = 3.0556, df = 3, p-value = 0.3831\n"
      ]
     },
     "metadata": {},
     "output_type": "display_data"
    }
   ],
   "source": [
    "################################\n",
    "observed <- c(65,69,80,86)\n",
    "prob <- c(0.20,0.20,0.30,0.30)\n",
    "chisq.test(observed,p=prob)"
   ]
  },
  {
   "cell_type": "code",
   "execution_count": 776,
   "metadata": {},
   "outputs": [
    {
     "data": {
      "text/plain": [
       "\n",
       "\tChi-squared test for given probabilities\n",
       "\n",
       "data:  observed\n",
       "X-squared = 75.101, df = 3, p-value = 3.447e-16\n"
      ]
     },
     "metadata": {},
     "output_type": "display_data"
    }
   ],
   "source": [
    "################################\n",
    "observed <- c(66,39,25,30)\n",
    "prob <- c(0.18,0.39,0.31,0.12)\n",
    "chisq.test(observed,p=prob)"
   ]
  },
  {
   "cell_type": "code",
   "execution_count": 777,
   "metadata": {},
   "outputs": [
    {
     "data": {
      "text/plain": [
       "0.3233236 with absolute error < 3.6e-15"
      ]
     },
     "metadata": {},
     "output_type": "display_data"
    }
   ],
   "source": [
    "################################\n",
    "alpha = 3\n",
    "beta = 2\n",
    "gamma = factorial(alpha - 1)\n",
    "a = 0\n",
    "b = 4\n",
    "f = function(x){(x^(alpha-1)*exp(-x / beta)) / (beta ^ alpha * gamma)}\n",
    "integrate(f,a,b)"
   ]
  },
  {
   "cell_type": "code",
   "execution_count": 778,
   "metadata": {},
   "outputs": [
    {
     "data": {
      "text/plain": [
       "4.649808e-05 with absolute error < 5.2e-19"
      ]
     },
     "metadata": {},
     "output_type": "display_data"
    }
   ],
   "source": [
    "################################\n",
    "alpha = 10\n",
    "beta = 5\n",
    "gamma = factorial(alpha - 1)\n",
    "a = 0\n",
    "b = 10\n",
    "f = function(x){(x^(alpha-1)*exp(-x / beta)) / (beta ^ alpha * gamma)}\n",
    "integrate(f,a,b)\n"
   ]
  },
  {
   "cell_type": "code",
   "execution_count": 779,
   "metadata": {},
   "outputs": [
    {
     "data": {
      "text/plain": [
       "1560 with absolute error < 6.8e-05"
      ]
     },
     "metadata": {},
     "output_type": "display_data"
    }
   ],
   "source": [
    "################################\n",
    "alpha = 5\n",
    "beta = 3\n",
    "gamma = factorial(alpha - 1)\n",
    "a = 0\n",
    "b = Inf\n",
    "f = function(x){((x^(alpha-1)*exp(-x / beta)) / (beta ^ alpha * gamma))*(50*x+3*x^2)}\n",
    "integrate(f,a,b)"
   ]
  },
  {
   "cell_type": "code",
   "execution_count": 780,
   "metadata": {},
   "outputs": [
    {
     "data": {
      "text/html": [
       "0.172659086891408"
      ],
      "text/latex": [
       "0.172659086891408"
      ],
      "text/markdown": [
       "0.172659086891408"
      ],
      "text/plain": [
       "[1] 0.1726591"
      ]
     },
     "metadata": {},
     "output_type": "display_data"
    },
    {
     "data": {
      "text/html": [
       "4.84124076364415"
      ],
      "text/latex": [
       "4.84124076364415"
      ],
      "text/markdown": [
       "4.84124076364415"
      ],
      "text/plain": [
       "[1] 4.841241"
      ]
     },
     "metadata": {},
     "output_type": "display_data"
    }
   ],
   "source": [
    "################################\n",
    "var1 = 40\n",
    "n1 = 11\n",
    "var2 = 35\n",
    "n2 = 6\n",
    "clevel = .95\n",
    "atl = (1 - clevel) / 2\n",
    "FL = qf(atl,n1-1,n2-1)\n",
    "atl = clevel + (1 - clevel) / 2\n",
    "FR = qf(atl,n1-1,n2-1)\n",
    "lb = (var1 / var2) * (1 / FR)\n",
    "ub = (var1 / var2) * (1 / FL)\n",
    "lb\n",
    "ub"
   ]
  },
  {
   "cell_type": "code",
   "execution_count": 781,
   "metadata": {},
   "outputs": [
    {
     "data": {
      "text/html": [
       "0.809396273930786"
      ],
      "text/latex": [
       "0.809396273930786"
      ],
      "text/markdown": [
       "0.809396273930786"
      ],
      "text/plain": [
       "[1] 0.8093963"
      ]
     },
     "metadata": {},
     "output_type": "display_data"
    },
    {
     "data": {
      "text/html": [
       "1.8257657861127"
      ],
      "text/latex": [
       "1.8257657861127"
      ],
      "text/markdown": [
       "1.8257657861127"
      ],
      "text/plain": [
       "[1] 1.825766"
      ]
     },
     "metadata": {},
     "output_type": "display_data"
    }
   ],
   "source": [
    "################################\n",
    "x <- c(2.0,3.2,1.8,2.9,0.9,4.0,3.3,2.9,3.6,0.8)\n",
    "n = length(x)\n",
    "s = sd(x)\n",
    "clevel = .90\n",
    "atl = (1 - clevel) / 2\n",
    "XL = qchisq(atl,df=n-1)\n",
    "atl = clevel + (1 - clevel) / 2\n",
    "XR = qchisq(atl,df=n-1)\n",
    "lb = sqrt( (n-1) * s^2 / XR)\n",
    "ub = sqrt( (n-1) * s^2 / XL)\n",
    "lb\n",
    "ub"
   ]
  },
  {
   "cell_type": "code",
   "execution_count": 782,
   "metadata": {},
   "outputs": [
    {
     "data": {
      "text/html": [
       "0.408020099610956"
      ],
      "text/latex": [
       "0.408020099610956"
      ],
      "text/markdown": [
       "0.408020099610956"
      ],
      "text/plain": [
       "[1] 0.4080201"
      ]
     },
     "metadata": {},
     "output_type": "display_data"
    },
    {
     "data": {
      "text/html": [
       "0.501070809479953"
      ],
      "text/latex": [
       "0.501070809479953"
      ],
      "text/markdown": [
       "0.501070809479953"
      ],
      "text/plain": [
       "[1] 0.5010708"
      ]
     },
     "metadata": {},
     "output_type": "display_data"
    }
   ],
   "source": [
    "################################\n",
    "n = 15\n",
    "x = 200\n",
    "n = 440\n",
    "clevel = .95\n",
    "atl = clevel + (1 - clevel) / 2\n",
    "z = qnorm(atl)\n",
    "phat = x / n\n",
    "lb = phat - z * sqrt(phat * (1-phat) / n)\n",
    "ub = phat + z * sqrt(phat * (1-phat) / n)\n",
    "lb\n",
    "ub"
   ]
  },
  {
   "cell_type": "code",
   "execution_count": 783,
   "metadata": {},
   "outputs": [
    {
     "data": {
      "text/html": [
       "629.810279119815"
      ],
      "text/latex": [
       "629.810279119815"
      ],
      "text/markdown": [
       "629.810279119815"
      ],
      "text/plain": [
       "[1] 629.8103"
      ]
     },
     "metadata": {},
     "output_type": "display_data"
    },
    {
     "data": {
      "text/html": [
       "660.189720880185"
      ],
      "text/latex": [
       "660.189720880185"
      ],
      "text/markdown": [
       "660.189720880185"
      ],
      "text/plain": [
       "[1] 660.1897"
      ]
     },
     "metadata": {},
     "output_type": "display_data"
    }
   ],
   "source": [
    "################################\n",
    "n = 16\n",
    "xbar = 645\n",
    "sigma = 31\n",
    "clevel = .95\n",
    "atl = clevel + (1 - clevel) / 2\n",
    "z = qnorm(atl)\n",
    "lb = xbar - z * sigma / sqrt(n)\n",
    "ub = xbar + z * sigma / sqrt(n)\n",
    "lb\n",
    "ub\n"
   ]
  },
  {
   "cell_type": "code",
   "execution_count": 784,
   "metadata": {},
   "outputs": [
    {
     "data": {
      "text/html": [
       "-0.199484752398031"
      ],
      "text/latex": [
       "-0.199484752398031"
      ],
      "text/markdown": [
       "-0.199484752398031"
      ],
      "text/plain": [
       "[1] -0.1994848"
      ]
     },
     "metadata": {},
     "output_type": "display_data"
    },
    {
     "data": {
      "text/html": [
       "-0.0205152476019691"
      ],
      "text/latex": [
       "-0.0205152476019691"
      ],
      "text/markdown": [
       "-0.0205152476019691"
      ],
      "text/plain": [
       "[1] -0.02051525"
      ]
     },
     "metadata": {},
     "output_type": "display_data"
    }
   ],
   "source": [
    "################################\n",
    "x1 = 72\n",
    "n1 = 240\n",
    "x2 = 82\n",
    "n2 = 200\n",
    "clevel = .95\n",
    "atl = clevel + (1 - clevel) / 2\n",
    "z = qnorm(atl)\n",
    "phat1 = x1 / n1\n",
    "phat2 = x2 / n2\n",
    "lb = (phat1 - phat2) - z * sqrt(phat1 * (1 - phat1) / n1 + phat2 * (1 - phat2) / n2)\n",
    "ub = (phat1 - phat2) + z * sqrt(phat1 * (1 - phat1) / n1 + phat2 * (1 - phat2) / n2)\n",
    "lb\n",
    "ub"
   ]
  },
  {
   "cell_type": "code",
   "execution_count": 785,
   "metadata": {},
   "outputs": [
    {
     "data": {
      "text/html": [
       "0.462158084407176"
      ],
      "text/latex": [
       "0.462158084407176"
      ],
      "text/markdown": [
       "0.462158084407176"
      ],
      "text/plain": [
       "[1] 0.4621581"
      ]
     },
     "metadata": {},
     "output_type": "display_data"
    }
   ],
   "source": [
    "################################\n",
    "pbinom(15,size=30,prob=.35)-pbinom(11-1,size=30,prob=.35)"
   ]
  },
  {
   "cell_type": "code",
   "execution_count": 786,
   "metadata": {},
   "outputs": [
    {
     "data": {
      "text/html": [
       "0.345175880532805"
      ],
      "text/latex": [
       "0.345175880532805"
      ],
      "text/markdown": [
       "0.345175880532805"
      ],
      "text/plain": [
       "[1] 0.3451759"
      ]
     },
     "metadata": {},
     "output_type": "display_data"
    },
    {
     "data": {
      "text/html": [
       "0.182121672111951"
      ],
      "text/latex": [
       "0.182121672111951"
      ],
      "text/markdown": [
       "0.182121672111951"
      ],
      "text/plain": [
       "[1] 0.1821217"
      ]
     },
     "metadata": {},
     "output_type": "display_data"
    }
   ],
   "source": [
    "################################\n",
    "1-pbinom(12-1,size=30,prob=.35)\n",
    "################################\n",
    "dbinom(4, size=20, prob=0.15)"
   ]
  }
 ],
 "metadata": {
  "kernelspec": {
   "display_name": "R",
   "language": "R",
   "name": "ir"
  },
  "language_info": {
   "codemirror_mode": "r",
   "file_extension": ".r",
   "mimetype": "text/x-r-source",
   "name": "R",
   "pygments_lexer": "r",
   "version": "3.4.2"
  }
 },
 "nbformat": 4,
 "nbformat_minor": 2
}
